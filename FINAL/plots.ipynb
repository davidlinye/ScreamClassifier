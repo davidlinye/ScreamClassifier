{
 "cells": [
  {
   "cell_type": "markdown",
   "metadata": {},
   "source": [
    "0 - clean  \n",
    "1 - scream  \n",
    "2 - no vocal  "
   ]
  },
  {
   "cell_type": "markdown",
   "metadata": {},
   "source": [
    "### RF\n",
    "[0.66412214 0.33587786 0.        ]  \n",
    "[0.19113573 0.78116343 0.02770083]  \n",
    "[0.05610561 0.04950495 0.89438944]  "
   ]
  },
  {
   "cell_type": "code",
   "execution_count": null,
   "metadata": {},
   "outputs": [],
   "source": [
    "#KNN\n",
    "[0.8778626 0.1221374 0.       ]\n",
    "[0.47368421 0.50415512 0.02216066]\n",
    "[0.11551155 0.09240924 0.79207921]\n",
    "\n",
    "# SVM\n",
    "[0.90839695 0.07633588 0.01526718]\n",
    "[0.20775623 0.7534626  0.03878116]\n",
    "[0.05280528 0.04950495 0.89768977]"
   ]
  },
  {
   "cell_type": "code",
   "execution_count": null,
   "metadata": {},
   "outputs": [],
   "source": [
    "# kNN Results with features\n",
    "knn_0_acc = 0.8778\n",
    "knn_1_acc = 0.5041\n",
    "knn_2_acc = 0.7920\n",
    "\n",
    "# Random Forest Results with features\n",
    "rf_0_acc = 0.6641\n",
    "rf_1_acc = 0.7811\n",
    "rf_2_acc = 0.8943\n",
    "\n",
    "# SVM Results with features\n",
    "svm_0_acc = 0.9083\n",
    "svm_1_acc = 0.7534\n",
    "svm_2_acc = 0.8976"
   ]
  }
 ],
 "metadata": {
  "language_info": {
   "name": "python"
  },
  "orig_nbformat": 4
 },
 "nbformat": 4,
 "nbformat_minor": 2
}
