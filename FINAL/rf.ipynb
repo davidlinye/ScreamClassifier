{
 "cells": [
  {
   "cell_type": "code",
   "execution_count": 2,
   "metadata": {},
   "outputs": [],
   "source": [
    "import os\n",
    "import numpy as np\n",
    "from sklearn.ensemble import RandomForestClassifier\n",
    "from sklearn.metrics import classification_report\n",
    "from sklearn.metrics import confusion_matrix,accuracy_score, precision_score, ConfusionMatrixDisplay\n",
    "\n",
    "from sys import platform\n",
    "if platform == \"linux\" or platform == \"linux2\":\n",
    "    # linux\n",
    "    path='/home/vedant/projects/'\n",
    "elif platform == \"darwin\":\n",
    "    # OS X\n",
    "    path='/Users/vedant/Desktop/Programming/'"
   ]
  },
  {
   "cell_type": "code",
   "execution_count": 3,
   "metadata": {},
   "outputs": [],
   "source": [
    "X_train=np.load(f'{path}ScreamDetection/resources/working_data/x_train.npy',allow_pickle = True)\n",
    "y_train=np.argmax(np.load(f'{path}ScreamDetection/resources/working_data/y_train_hot.npy',allow_pickle = True),axis=1)\n",
    "\n",
    "X_test=np.load(f'{path}ScreamDetection/resources/working_data/x_test.npy',allow_pickle = True)\n",
    "y_test=np.argmax(np.load(f'{path}ScreamDetection/resources/working_data/y_test_hot.npy',allow_pickle = True),axis=1)\n",
    "\n",
    "X_valid=np.load(f'{path}ScreamDetection/resources/working_data/x_valid.npy',allow_pickle = True)\n",
    "y_valid=np.argmax(np.load(f'{path}ScreamDetection/resources/working_data/y_valid_hot.npy',allow_pickle = True),axis=1)"
   ]
  },
  {
   "cell_type": "markdown",
   "metadata": {},
   "source": [
    "## RF results for 3 classes with test set accuracies"
   ]
  },
  {
   "cell_type": "code",
   "execution_count": 8,
   "metadata": {},
   "outputs": [
    {
     "name": "stdout",
     "output_type": "stream",
     "text": [
      "Overall Accuracy Score: 0.8050314465408805\n",
      "Class-wise accuracy:\n",
      "[0.66412214 0.33587786 0.        ]\n",
      "[0.19113573 0.78116343 0.02770083]\n",
      "[0.05610561 0.04950495 0.89438944]\n",
      "Macro Accuracy: 0.7647608189796892\n",
      "Confusion Matrix:\n"
     ]
    },
    {
     "data": {
      "text/plain": [
       "<sklearn.metrics._plot.confusion_matrix.ConfusionMatrixDisplay at 0x169653e80>"
      ]
     },
     "execution_count": 8,
     "metadata": {},
     "output_type": "execute_result"
    },
    {
     "data": {
      "image/png": "[encoded data removed]",
      "text/plain": [
       "<Figure size 432x288 with 2 Axes>"
      ]
     },
     "metadata": {
      "needs_background": "light"
     },
     "output_type": "display_data"
    }
   ],
   "source": [
    "RF_model = RandomForestClassifier(n_estimators=90,criterion='gini',max_depth=None,\\\n",
    "    min_samples_split=2,min_samples_leaf=1,max_features='auto',max_leaf_nodes=None,class_weight='balanced',random_state=42)\n",
    "RF_model.fit(X_train, y_train)\n",
    "RF_prediction = RF_model.predict(X_test)\n",
    "score=precision_score(y_test, RF_prediction, average='macro')\n",
    "cm = confusion_matrix(y_test, RF_prediction) # clean, highfry, layered, lowfry, midfry, no vocals\n",
    "acc = accuracy_score(y_test,RF_prediction)\n",
    "print(f\"Overall Accuracy Score: {acc}\")\n",
    "print(\"Class-wise accuracy:\")\n",
    "for row in cm:\n",
    "    print(row/row.sum())\n",
    "print(f\"Macro Accuracy: {score}\")\n",
    "\n",
    "print(\"Confusion Matrix:\")\n",
    "# print(cm)\n",
    "ConfusionMatrixDisplay(confusion_matrix=cm,display_labels=['sing','scream','no vocal']).plot()"
   ]
  }
 ],
 "metadata": {
  "interpreter": {
   "hash": "aee8b7b246df8f9039afb4144a1f6fd8d2ca17a180786b69acc140d282b71a49"
  },
  "kernelspec": {
   "display_name": "Python 3.9.7 64-bit",
   "language": "python",
   "name": "python3"
  },
  "language_info": {
   "codemirror_mode": {
    "name": "ipython",
    "version": 3
   },
   "file_extension": ".py",
   "mimetype": "text/x-python",
   "name": "python",
   "nbconvert_exporter": "python",
   "pygments_lexer": "ipython3",
   "version": "3.9.7"
  },
  "orig_nbformat": 4
 },
 "nbformat": 4,
 "nbformat_minor": 2
}
