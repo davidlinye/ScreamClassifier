{
 "cells": [
  {
   "cell_type": "code",
   "execution_count": 22,
   "metadata": {},
   "outputs": [],
   "source": [
    "import os\n",
    "import numpy as np\n",
    "from sklearn.svm import SVC\n",
    "from sklearn.metrics import classification_report\n",
    "from sklearn.metrics import confusion_matrix,accuracy_score, precision_score, ConfusionMatrixDisplay\n",
    "\n",
    "from sys import platform\n",
    "if platform == \"linux\" or platform == \"linux2\":\n",
    "    # linux\n",
    "    path='/home/vedant/projects/'\n",
    "elif platform == \"darwin\":\n",
    "    # OS X\n",
    "    path='/Users/vedant/Desktop/Programming/'"
   ]
  },
  {
   "cell_type": "code",
   "execution_count": 31,
   "metadata": {},
   "outputs": [],
   "source": [
    "X_train=np.load(f'{path}ScreamDetection/resources/working_data/x_train.npy',allow_pickle = True)\n",
    "y_train=np.argmax(np.load(f'{path}ScreamDetection/resources/working_data/y_train_hot.npy',allow_pickle = True),axis=1)\n",
    "\n",
    "X_test=np.load(f'{path}ScreamDetection/resources/working_data/x_test.npy',allow_pickle = True)\n",
    "y_test=np.argmax(np.load(f'{path}ScreamDetection/resources/working_data/y_test_hot.npy',allow_pickle = True),axis=1)\n",
    "\n",
    "X_valid=np.load(f'{path}ScreamDetection/resources/working_data/x_valid.npy',allow_pickle = True)\n",
    "y_valid=np.argmax(np.load(f'{path}ScreamDetection/resources/working_data/y_valid_hot.npy',allow_pickle = True),axis=1)"
   ]
  },
  {
   "cell_type": "markdown",
   "metadata": {},
   "source": [
    "## SVM Results for 3 classes with test set accuracy"
   ]
  },
  {
   "cell_type": "code",
   "execution_count": 32,
   "metadata": {},
   "outputs": [
    {
     "name": "stdout",
     "output_type": "stream",
     "text": [
      "Overall Accuracy Score: 0.8339622641509434\n",
      "Class-wise accuracy:\n",
      "[0.90839695 0.07633588 0.01526718]\n",
      "[0.20775623 0.7534626  0.03878116]\n",
      "[0.05280528 0.04950495 0.89768977]\n",
      "Macro Accuracy: 0.8089786756453424\n",
      "Confusion Matrix:\n"
     ]
    },
    {
     "data": {
      "text/plain": [
       "<sklearn.metrics._plot.confusion_matrix.ConfusionMatrixDisplay at 0x17f3c5ee0>"
      ]
     },
     "execution_count": 32,
     "metadata": {},
     "output_type": "execute_result"
    },
    {
     "data": {
      "image/png": "[encoded data removed]",
      "text/plain": [
       "<Figure size 432x288 with 2 Axes>"
      ]
     },
     "metadata": {
      "needs_background": "light"
     },
     "output_type": "display_data"
    }
   ],
   "source": [
    "SVM_model = SVC(gamma='auto',C=1.0, kernel='rbf', degree=3,random_state=None)\n",
    "SVM_model.fit(X_train, y_train)\n",
    "SVM_prediction = SVM_model.predict(X_test)\n",
    "\n",
    "cm=confusion_matrix(y_test,SVM_prediction)\n",
    "score=precision_score(y_test,SVM_prediction, average='macro')\n",
    "acc = accuracy_score(y_test,SVM_prediction)\n",
    "\n",
    "\n",
    "print(f\"Overall Accuracy Score: {acc}\")\n",
    "print(\"Class-wise accuracy:\")\n",
    "for row in cm:\n",
    "    print(row/row.sum())\n",
    "print(f\"Macro Accuracy: {score}\")\n",
    "\n",
    "print(\"Confusion Matrix:\")\n",
    "# print(cm)\n",
    "ConfusionMatrixDisplay(confusion_matrix=cm,display_labels=['sing','scream','no vocal']).plot()\n"
   ]
  }
 ],
 "metadata": {
  "interpreter": {
   "hash": "aee8b7b246df8f9039afb4144a1f6fd8d2ca17a180786b69acc140d282b71a49"
  },
  "kernelspec": {
   "display_name": "Python 3.9.7 64-bit",
   "language": "python",
   "name": "python3"
  },
  "language_info": {
   "codemirror_mode": {
    "name": "ipython",
    "version": 3
   },
   "file_extension": ".py",
   "mimetype": "text/x-python",
   "name": "python",
   "nbconvert_exporter": "python",
   "pygments_lexer": "ipython3",
   "version": "3.9.7"
  },
  "orig_nbformat": 4
 },
 "nbformat": 4,
 "nbformat_minor": 2
}
