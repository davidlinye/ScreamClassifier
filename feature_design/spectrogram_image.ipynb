{
 "cells": [
  {
   "cell_type": "code",
   "execution_count": null,
   "metadata": {},
   "outputs": [],
   "source": [
    "import librosa\n",
    "import librosa.display\n",
    "import numpy as np\n",
    "import pandas as pd\n",
    "import librosa\n",
    "import librosa.display\n",
    "import matplotlib.pyplot as plt\n",
    "import plotly.express as px"
   ]
  },
  {
   "cell_type": "code",
   "execution_count": null,
   "metadata": {},
   "outputs": [],
   "source": [
    "df=pd.DataFrame(np.load('../resources/working_data/data_with_vggish.npy',allow_pickle = True),columns=['video_id','start_time','mid_ts','label','audio','vggish'])"
   ]
  },
  {
   "cell_type": "code",
   "execution_count": null,
   "metadata": {},
   "outputs": [],
   "source": [
    "df"
   ]
  },
  {
   "cell_type": "code",
   "execution_count": null,
   "metadata": {},
   "outputs": [],
   "source": [
    "from matplotlib.backends.backend_agg import FigureCanvasAgg as FigureCanvas\n",
    "from matplotlib import image\n",
    "import os\n",
    "import PIL.Image\n",
    "\n",
    "df['magnitude_spectrogram']=''\n",
    "df['power_spectrogram']=''\n",
    "\n",
    "window_size = 1024\n",
    "window = np.hanning(window_size)\n",
    "for index,row in df.iterrows():\n",
    "    file_name1 = '../resources/working_data/'+f'block_{index}_magnitude.png'\n",
    "    file_name2 = '../resources/working_data/'+f'block_{index}_power.png'\n",
    "    # sf.write(file_name, row['audio'], 44100)\n",
    "    S = np.abs(librosa.stft(row['audio']))\n",
    "    #librosa.display.specshow(librosa.amplitude_to_db(S**2,ref=np.max),y_axis='log')\n",
    "    out1 = 2 * S / np.sum(window)\n",
    "    out2 = 2 * (S**2) / np.sum(window)\n",
    "    fig1 = plt.Figure()\n",
    "    canvas1 = FigureCanvas(fig1)\n",
    "    ax1 = fig1.add_subplot(111)\n",
    "    p1 = librosa.display.specshow(librosa.amplitude_to_db(out1, ref=np.max), ax=ax1, y_axis='log', x_axis='time')\n",
    "    fig1.savefig(file_name1)\n",
    "\n",
    "    fig2 = plt.Figure()\n",
    "    canvas2 = FigureCanvas(fig2)\n",
    "    ax2 = fig2.add_subplot(111)\n",
    "    p2 = librosa.display.specshow(librosa.amplitude_to_db(out2, ref=np.max), ax=ax2, y_axis='log', x_axis='time')\n",
    "    fig2.savefig(file_name2)\n",
    "\n",
    "    magnitude_rgba = PIL.Image.open(file_name1)\n",
    "    power_rgba = PIL.Image.open(file_name2)\n",
    "    magnitude = magnitude_rgba.convert('RGB')\n",
    "    power = power_rgba.convert('RGB')\n",
    "\n",
    "    df['magnitude_spectrogram'][index] = np.asarray(magnitude)\n",
    "    df['power_spectrogram'][index] = np.asarray(power)\n",
    "\n",
    "\n",
    "    if os.path.exists(file_name1):\n",
    "        os.remove(file_name1)\n",
    "    if os.path.exists(file_name2):\n",
    "        os.remove(file_name2)\n",
    "    # if index == 1:\n",
    "    #     break\n",
    "\n",
    "out = df.to_numpy()\n",
    "np.save('../resources/working_data/data_with_vggish_and_spectrogram_images.npy', out)"
   ]
  },
  {
   "cell_type": "code",
   "execution_count": null,
   "metadata": {},
   "outputs": [],
   "source": []
  }
 ],
 "metadata": {
  "interpreter": {
   "hash": "802206bb6db1539b71df00790b2e1ed605311b936df16ad4f78357b9e7528267"
  },
  "kernelspec": {
   "display_name": "Python 3.8.12 64-bit ('scream_detection_venv': conda)",
   "name": "python3"
  },
  "language_info": {
   "codemirror_mode": {
    "name": "ipython",
    "version": 3
   },
   "file_extension": ".py",
   "mimetype": "text/x-python",
   "name": "python",
   "nbconvert_exporter": "python",
   "pygments_lexer": "ipython3",
   "version": "3.8.12"
  },
  "orig_nbformat": 4
 },
 "nbformat": 4,
 "nbformat_minor": 2
}
