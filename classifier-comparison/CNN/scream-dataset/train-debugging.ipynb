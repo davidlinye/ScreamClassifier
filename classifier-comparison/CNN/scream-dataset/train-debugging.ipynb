{
 "cells": [
  {
   "cell_type": "code",
   "execution_count": 31,
   "metadata": {},
   "outputs": [],
   "source": [
    "from screamdataset import ScreamDataset\n",
    "import torch \n",
    "import torchaudio\n",
    "from torch import nn\n",
    "from torch.utils.data.sampler import SubsetRandomSampler\n",
    "from torch.utils.data import DataLoader\n",
    "from cnn import CNNNetwork\n",
    "import numpy as np\n",
    "from sklearn.metrics import confusion_matrix,accuracy_score, precision_score\n",
    "\n",
    "import plotly.express as px\n",
    "\n",
    "TRAIN_ANNOTATIONS_FILE = '/home/vedant/projects/ScreamDetection/resources/dataset/pytorch-dataset-train.csv'\n",
    "TEST_ANNOTATIONS_FILE = '/home/vedant/projects/ScreamDetection/resources/dataset/pytorch-dataset-test.csv'\n",
    "VALID_ANNOTATIONS_FILE = '/home/vedant/projects/ScreamDetection/resources/dataset/pytorch-dataset-validation.csv'\n",
    "\n",
    "TRAIN_AUDIO_DIR = '/home/vedant/projects/ScreamDetection/resources/dataset/blocked_audio/train'\n",
    "TEST_AUDIO_DIR = '/home/vedant/projects/ScreamDetection/resources/dataset/blocked_audio/test'\n",
    "VALID_AUDIO_DIR = '/home/vedant/projects/ScreamDetection/resources/dataset/blocked_audio/validation'\n",
    "\n",
    "BATCH_SIZE = 1024\n",
    "SAMPLE_RATE=44100\n",
    "EPOCHS = 5\n",
    "LEARNING_RATE = 0.001\n",
    "\n",
    "mel_spectrogram = torchaudio.transforms.MelSpectrogram(\n",
    "        sample_rate = 44100,\n",
    "        n_fft = 1024,\n",
    "        hop_length = 512,\n",
    "        n_mels = 64\n",
    "    )\n",
    "if torch.cuda.is_available():\n",
    "    DEVICE = 'cuda'\n",
    "else:\n",
    "    DEVICE = 'cpu'\n",
    "\n",
    "def create_data_loader(train_data,batch_size=None):\n",
    "    dataloader = DataLoader(train_data,batch_size=batch_size)\n",
    "    return dataloader\n",
    "\n",
    "def train_one_epoch(model, train_data_loader,test_data,loss_function,optimiser,device):\n",
    "    for inputs,targets in train_data_loader:\n",
    "        model.train()\n",
    "        inputs,targets = inputs.to(device),targets.to(device)\n",
    "\n",
    "        # Calculate Loss\n",
    "        predictions = model(inputs)\n",
    "        loss = loss_function(predictions,targets)\n",
    "\n",
    "        # Backpropagate Loss, update weights\n",
    "        optimiser.zero_grad()\n",
    "        loss.backward() # Apply backpropagation\n",
    "        optimiser.step() # Update weights\n",
    "\n",
    "        #EVAL\n",
    "        class_mapping=[\n",
    "                    'no_vocals',\n",
    "                    'midfry',\n",
    "                    'clean',\n",
    "                    'highfry',\n",
    "                    'lowfry',\n",
    "                    'layered'\n",
    "                ]\n",
    "        model.eval()\n",
    "        with torch.no_grad():\n",
    "            predictions=[]\n",
    "            expectation=[]\n",
    "            for i in range(len(test_data)):\n",
    "                inputs,targets=test_data[i]\n",
    "                inputs.unsqueeze_(0)\n",
    "                prediction = model(inputs)\n",
    "                predicted_index = prediction[0].argmax(0) #Find the predicted class with highest probability\n",
    "                predicted = class_mapping[predicted_index]\n",
    "                expected = class_mapping[targets]\n",
    "                predictions.append(predicted)\n",
    "                expectation.append(expected)\n",
    "            accuracy = accuracy_score(predictions,expectation)\n",
    "\n",
    "            macro_accuracy = precision_score(predictions,expectation,average='macro')\n",
    "\n",
    "    print(f\"Loss : {loss.item()}\")\n",
    "    print(f\"Accuracy: {accuracy}\")\n",
    "    print(f\"Macro Accuracy: {macro_accuracy}\")\n",
    "    return loss.item(),accuracy_score,macro_accuracy\n",
    "\n",
    "def train(model, train_data_loader,test_data,validation_data,loss_function, optimiser, device, epochs):\n",
    "    losses=[]\n",
    "    epoch=[]\n",
    "    accuracies=[]\n",
    "    macro_accuracies=[]\n",
    "    for i in range(epochs):\n",
    "        epoch.append(i)\n",
    "        print(f\"Epoch {i+1}:\")\n",
    "        loss,accuracy,macro_accuracy = train_one_epoch(model, train_data_loader,test_data, loss_function, optimiser, device)\n",
    "        losses.append(loss)\n",
    "        accuracies.append(accuracy)\n",
    "        macro_accuracies.append(macro_accuracy)\n",
    "        print(\"-------------------------------------------------------\")\n",
    "    print(\"Training done\")\n",
    "    #Find validation loss\n",
    "    model.eval()\n",
    "    class_mapping=[\n",
    "                    'no_vocals',\n",
    "                    'midfry',\n",
    "                    'clean',\n",
    "                    'highfry',\n",
    "                    'lowfry',\n",
    "                    'layered'\n",
    "                ]\n",
    "    with torch.no_grad():\n",
    "        predictions=[]\n",
    "        expectation=[]\n",
    "        for i in range(len(validation_data)):\n",
    "            inputs,targets=validation_data[i]\n",
    "            inputs = inputs.to(device)\n",
    "            inputs.unsqueeze_(0)\n",
    "            prediction = model(inputs)\n",
    "            predicted_index = prediction[0].argmax(0) #Find the predicted class with highest probability\n",
    "            predicted = class_mapping[predicted_index]\n",
    "            expected = class_mapping[targets]\n",
    "            predictions.append(predicted)\n",
    "            expectation.append(expected)\n",
    "        accuracy = accuracy_score(predictions,expectation)\n",
    "\n",
    "        macro_accuracy = precision_score(predictions,expectation,average='macro')\n",
    "    print(f\"Accuracy Score : {accuracy}\")\n",
    "    print(f\"Macro Accuracy : {macro_accuracy}\")\n",
    "    return losses,accuracies,macro_accuracies,epoch"
   ]
  },
  {
   "cell_type": "code",
   "execution_count": 32,
   "metadata": {},
   "outputs": [
    {
     "name": "stdout",
     "output_type": "stream",
     "text": [
      "Using device: cuda\n",
      "Epoch 1:\n"
     ]
    },
    {
     "ename": "IndexError",
     "evalue": "list index out of range",
     "output_type": "error",
     "traceback": [
      "\u001b[0;31m---------------------------------------------------------------------------\u001b[0m",
      "\u001b[0;31mIndexError\u001b[0m                                Traceback (most recent call last)",
      "\u001b[0;32m/tmp/ipykernel_1443968/2128989956.py\u001b[0m in \u001b[0;36m<module>\u001b[0;34m\u001b[0m\n\u001b[1;32m     67\u001b[0m \u001b[0;34m\u001b[0m\u001b[0m\n\u001b[1;32m     68\u001b[0m     \u001b[0;31m#Train Model (model, train_data_loader,test_data_loader,validation_data_loader,loss_function, optimiser, device, epochs)\u001b[0m\u001b[0;34m\u001b[0m\u001b[0;34m\u001b[0m\u001b[0;34m\u001b[0m\u001b[0m\n\u001b[0;32m---> 69\u001b[0;31m     \u001b[0mlosses\u001b[0m\u001b[0;34m,\u001b[0m\u001b[0maccuracies\u001b[0m\u001b[0;34m,\u001b[0m\u001b[0mmacro_accuracies\u001b[0m\u001b[0;34m,\u001b[0m\u001b[0mepoch\u001b[0m \u001b[0;34m=\u001b[0m \u001b[0mtrain\u001b[0m\u001b[0;34m(\u001b[0m\u001b[0mcnn\u001b[0m\u001b[0;34m,\u001b[0m\u001b[0mtrain_dataloader\u001b[0m\u001b[0;34m,\u001b[0m \u001b[0mtest_inputs\u001b[0m\u001b[0;34m,\u001b[0m \u001b[0mvalid_inputs\u001b[0m\u001b[0;34m,\u001b[0m \u001b[0mloss_function\u001b[0m\u001b[0;34m,\u001b[0m \u001b[0moptimiser\u001b[0m\u001b[0;34m,\u001b[0m \u001b[0mDEVICE\u001b[0m\u001b[0;34m,\u001b[0m \u001b[0mEPOCHS\u001b[0m\u001b[0;34m)\u001b[0m\u001b[0;34m\u001b[0m\u001b[0;34m\u001b[0m\u001b[0m\n\u001b[0m\u001b[1;32m     70\u001b[0m \u001b[0;34m\u001b[0m\u001b[0m\n\u001b[1;32m     71\u001b[0m     \u001b[0;31m#Save results\u001b[0m\u001b[0;34m\u001b[0m\u001b[0;34m\u001b[0m\u001b[0;34m\u001b[0m\u001b[0m\n",
      "\u001b[0;32m/tmp/ipykernel_1443968/1486975584.py\u001b[0m in \u001b[0;36mtrain\u001b[0;34m(model, train_data_loader, test_data, validation_data, loss_function, optimiser, device, epochs)\u001b[0m\n\u001b[1;32m     92\u001b[0m         \u001b[0mepoch\u001b[0m\u001b[0;34m.\u001b[0m\u001b[0mappend\u001b[0m\u001b[0;34m(\u001b[0m\u001b[0mi\u001b[0m\u001b[0;34m)\u001b[0m\u001b[0;34m\u001b[0m\u001b[0;34m\u001b[0m\u001b[0m\n\u001b[1;32m     93\u001b[0m         \u001b[0mprint\u001b[0m\u001b[0;34m(\u001b[0m\u001b[0;34mf\"Epoch {i+1}:\"\u001b[0m\u001b[0;34m)\u001b[0m\u001b[0;34m\u001b[0m\u001b[0;34m\u001b[0m\u001b[0m\n\u001b[0;32m---> 94\u001b[0;31m         \u001b[0mloss\u001b[0m\u001b[0;34m,\u001b[0m\u001b[0maccuracy\u001b[0m\u001b[0;34m,\u001b[0m\u001b[0mmacro_accuracy\u001b[0m \u001b[0;34m=\u001b[0m \u001b[0mtrain_one_epoch\u001b[0m\u001b[0;34m(\u001b[0m\u001b[0mmodel\u001b[0m\u001b[0;34m,\u001b[0m \u001b[0mtrain_data_loader\u001b[0m\u001b[0;34m,\u001b[0m\u001b[0mtest_data\u001b[0m\u001b[0;34m,\u001b[0m \u001b[0mloss_function\u001b[0m\u001b[0;34m,\u001b[0m \u001b[0moptimiser\u001b[0m\u001b[0;34m,\u001b[0m \u001b[0mdevice\u001b[0m\u001b[0;34m)\u001b[0m\u001b[0;34m\u001b[0m\u001b[0;34m\u001b[0m\u001b[0m\n\u001b[0m\u001b[1;32m     95\u001b[0m         \u001b[0mlosses\u001b[0m\u001b[0;34m.\u001b[0m\u001b[0mappend\u001b[0m\u001b[0;34m(\u001b[0m\u001b[0mloss\u001b[0m\u001b[0;34m)\u001b[0m\u001b[0;34m\u001b[0m\u001b[0;34m\u001b[0m\u001b[0m\n\u001b[1;32m     96\u001b[0m         \u001b[0maccuracies\u001b[0m\u001b[0;34m.\u001b[0m\u001b[0mappend\u001b[0m\u001b[0;34m(\u001b[0m\u001b[0maccuracy\u001b[0m\u001b[0;34m)\u001b[0m\u001b[0;34m\u001b[0m\u001b[0;34m\u001b[0m\u001b[0m\n",
      "\u001b[0;32m/tmp/ipykernel_1443968/1486975584.py\u001b[0m in \u001b[0;36mtrain_one_epoch\u001b[0;34m(model, train_data_loader, test_data, loss_function, optimiser, device)\u001b[0m\n\u001b[1;32m     71\u001b[0m                 \u001b[0mprediction\u001b[0m \u001b[0;34m=\u001b[0m \u001b[0mmodel\u001b[0m\u001b[0;34m(\u001b[0m\u001b[0minputs\u001b[0m\u001b[0;34m)\u001b[0m\u001b[0;34m\u001b[0m\u001b[0;34m\u001b[0m\u001b[0m\n\u001b[1;32m     72\u001b[0m                 \u001b[0mpredicted_index\u001b[0m \u001b[0;34m=\u001b[0m \u001b[0mprediction\u001b[0m\u001b[0;34m[\u001b[0m\u001b[0;36m0\u001b[0m\u001b[0;34m]\u001b[0m\u001b[0;34m.\u001b[0m\u001b[0margmax\u001b[0m\u001b[0;34m(\u001b[0m\u001b[0;36m0\u001b[0m\u001b[0;34m)\u001b[0m \u001b[0;31m#Find the predicted class with highest probability\u001b[0m\u001b[0;34m\u001b[0m\u001b[0;34m\u001b[0m\u001b[0m\n\u001b[0;32m---> 73\u001b[0;31m                 \u001b[0mpredicted\u001b[0m \u001b[0;34m=\u001b[0m \u001b[0mclass_mapping\u001b[0m\u001b[0;34m[\u001b[0m\u001b[0mpredicted_index\u001b[0m\u001b[0;34m]\u001b[0m\u001b[0;34m\u001b[0m\u001b[0;34m\u001b[0m\u001b[0m\n\u001b[0m\u001b[1;32m     74\u001b[0m                 \u001b[0mexpected\u001b[0m \u001b[0;34m=\u001b[0m \u001b[0mclass_mapping\u001b[0m\u001b[0;34m[\u001b[0m\u001b[0mtargets\u001b[0m\u001b[0;34m]\u001b[0m\u001b[0;34m\u001b[0m\u001b[0;34m\u001b[0m\u001b[0m\n\u001b[1;32m     75\u001b[0m                 \u001b[0mpredictions\u001b[0m\u001b[0;34m.\u001b[0m\u001b[0mappend\u001b[0m\u001b[0;34m(\u001b[0m\u001b[0mpredicted\u001b[0m\u001b[0;34m)\u001b[0m\u001b[0;34m\u001b[0m\u001b[0;34m\u001b[0m\u001b[0m\n",
      "\u001b[0;31mIndexError\u001b[0m: list index out of range"
     ]
    }
   ],
   "source": [
    "if __name__ == '__main__':\n",
    "    from sklearn.metrics import confusion_matrix,accuracy_score, precision_score\n",
    "    #import sys\n",
    "    #sys.setrecursionlimit(10000)\n",
    "    if torch.cuda.is_available():\n",
    "        DEVICE = 'cuda'\n",
    "    else:\n",
    "        DEVICE = 'cpu'\n",
    "\n",
    "    print(f\"Using device: {DEVICE}\")\n",
    "\n",
    "    \n",
    "\n",
    "    #instantiating dataset object and transform\n",
    "    mel_spectrogram = torchaudio.transforms.MelSpectrogram(\n",
    "        sample_rate = SAMPLE_RATE,\n",
    "        n_fft = 1024,\n",
    "        hop_length = 512,\n",
    "        n_mels = 64\n",
    "    )\n",
    "\n",
    "    sd_train = ScreamDataset(TRAIN_ANNOTATIONS_FILE, TRAIN_AUDIO_DIR, mel_spectrogram, DEVICE)\n",
    "    train_dataloader= create_data_loader(sd_train,BATCH_SIZE)\n",
    "\n",
    "    sd_test = ScreamDataset(TEST_ANNOTATIONS_FILE, TEST_AUDIO_DIR, mel_spectrogram, DEVICE)\n",
    "    # test_dataloader= create_data_loader(sd_test,BATCH_SIZE)\n",
    "    # Loading entire dataset into lists\n",
    "    test_inputs=[]\n",
    "    for i in range(len(sd_test)):\n",
    "        test_inputs.append(sd_test[i])\n",
    "\n",
    "    sd_valid = ScreamDataset(VALID_ANNOTATIONS_FILE, VALID_AUDIO_DIR, mel_spectrogram, DEVICE)\n",
    "    # valid_dataloader= create_data_loader(sd_valid,BATCH_SIZE)\n",
    "    valid_inputs=[]\n",
    "    for i in range(len(sd_valid)):\n",
    "        valid_inputs.append(sd_valid[i])\n",
    "\n",
    "    # # CREATE TRAIN-VALIDATION SPLIT\n",
    "    # validation_split = .2\n",
    "    # shuffle_dataset = True\n",
    "    # random_seed= 42\n",
    "\n",
    "    # # Creating data indices for training and validation splits:\n",
    "    # dataset_size = len(sd)\n",
    "    # indices = list(range(dataset_size))\n",
    "    # split = int(np.floor(validation_split * dataset_size))\n",
    "    # if shuffle_dataset :\n",
    "    #     np.random.seed(random_seed)\n",
    "    #     np.random.shuffle(indices)\n",
    "    # train_indices, val_indices = indices[split:], indices[:split]\n",
    "\n",
    "    # # Creating PT data samplers and loaders:\n",
    "    # train_sampler = SubsetRandomSampler(train_indices)\n",
    "    # valid_sampler = SubsetRandomSampler(val_indices)\n",
    "\n",
    "    # train_loader = torch.utils.data.DataLoader(sd, batch_size=BATCH_SIZE, \n",
    "    #                                         sampler=train_sampler)\n",
    "    # validation_loader = torch.utils.data.DataLoader(sd, batch_size=BATCH_SIZE,\n",
    "    #                                                 sampler=valid_sampler)\n",
    "\n",
    "    cnn = CNNNetwork().to(DEVICE)\n",
    "    # Instantiating loss function and optimiser\n",
    "    loss_function = nn.CrossEntropyLoss()\n",
    "    optimiser=torch.optim.Adam(cnn.parameters(),\n",
    "                            lr=LEARNING_RATE\n",
    "                                )\n",
    "\n",
    "    #Train Model (model, train_data_loader,test_data_loader,validation_data_loader,loss_function, optimiser, device, epochs)\n",
    "    losses,accuracies,macro_accuracies,epoch = train(cnn,train_dataloader, test_inputs, valid_inputs, loss_function, optimiser, DEVICE, EPOCHS)\n",
    "\n",
    "    #Save results\n",
    "    torch.save(cnn.state_dict(),\"/home/vedant/projects/ScreamDetection/CNN/trained_models/scream_cnn_crossentropy_adam.pth\")\n",
    "\n",
    "    print(\"Model trained and stored at /CNN/trained_models/scream_cnn_crossentropy_adam.pth\")\n",
    "    fig = px.line(x=epoch,y=losses)\n",
    "    fig.add(px.line(x=epoch,y=accuracies))\n",
    "    fig.add(px.line(x=epoch,y=macro_accuracies))\n",
    "    fig.show()"
   ]
  },
  {
   "cell_type": "markdown",
   "metadata": {},
   "source": [
    "# Full Code"
   ]
  },
  {
   "cell_type": "code",
   "execution_count": 59,
   "metadata": {},
   "outputs": [
    {
     "name": "stderr",
     "output_type": "stream",
     "text": [
      "/home/vedant/projects/ScreamDetection/scream_detection/lib/python3.9/site-packages/torchaudio/functional/functional.py:594: UserWarning:\n",
      "\n",
      "At least one mel filterbank has all zero values. The value for `n_mels` (512) may be set too high. Or, the value for `n_freqs` (513) may be set too low.\n",
      "\n"
     ]
    },
    {
     "name": "stdout",
     "output_type": "stream",
     "text": [
      "Using device: cuda\n",
      "Epoch 1:\n",
      "first weight (before): -0.06481902301311493\n",
      "first weight (after): -0.06481902301311493\n",
      "first weight (before): -0.06481902301311493\n",
      "first weight (after): -0.06481902301311493\n",
      "first weight (before): -0.06481902301311493\n",
      "first weight (after): -0.06481902301311493\n",
      "first weight (before): -0.06481902301311493\n",
      "first weight (after): -0.06481902301311493\n",
      "first weight (before): -0.06481902301311493\n",
      "first weight (after): -0.06481902301311493\n",
      "first weight (before): -0.06481902301311493\n",
      "first weight (after): -0.06481902301311493\n",
      "first weight (before): -0.06481902301311493\n",
      "first weight (after): -0.06481902301311493\n",
      "first weight (before): -0.06481902301311493\n",
      "first weight (after): -0.06481902301311493\n",
      "first weight (before): -0.06481902301311493\n",
      "first weight (after): -0.06481902301311493\n",
      "first weight (before): -0.06481902301311493\n",
      "first weight (after): -0.06481902301311493\n",
      "first weight (before): -0.06481902301311493\n",
      "first weight (after): -0.06481902301311493\n",
      "first weight (before): -0.06481902301311493\n",
      "first weight (after): -0.06481902301311493\n",
      "first weight (before): -0.06481902301311493\n",
      "first weight (after): -0.06481902301311493\n",
      "first weight (before): -0.06481902301311493\n",
      "first weight (after): -0.06481902301311493\n",
      "first weight (before): -0.06481902301311493\n",
      "first weight (after): -0.06481902301311493\n",
      "first weight (before): -0.06481902301311493\n",
      "first weight (after): -0.06481902301311493\n",
      "first weight (before): -0.06481902301311493\n",
      "first weight (after): -0.06481902301311493\n",
      "first weight (before): -0.06481902301311493\n",
      "first weight (after): -0.06481902301311493\n",
      "Loss : 1.937821626663208\n",
      "Accuracy: 0.17307692307692307\n",
      "-------------------------------------------------------\n",
      "Epoch 2:\n",
      "first weight (before): -0.06481902301311493\n",
      "first weight (after): -0.06481902301311493\n",
      "first weight (before): -0.06481902301311493\n",
      "first weight (after): -0.06481902301311493\n",
      "first weight (before): -0.06481902301311493\n",
      "first weight (after): -0.06481902301311493\n",
      "first weight (before): -0.06481902301311493\n",
      "first weight (after): -0.06481902301311493\n",
      "first weight (before): -0.06481902301311493\n",
      "first weight (after): -0.06481902301311493\n",
      "first weight (before): -0.06481902301311493\n",
      "first weight (after): -0.06481902301311493\n",
      "first weight (before): -0.06481902301311493\n",
      "first weight (after): -0.06481902301311493\n",
      "first weight (before): -0.06481902301311493\n",
      "first weight (after): -0.06481902301311493\n",
      "first weight (before): -0.06481902301311493\n",
      "first weight (after): -0.06481902301311493\n",
      "first weight (before): -0.06481902301311493\n",
      "first weight (after): -0.06481902301311493\n",
      "first weight (before): -0.06481902301311493\n",
      "first weight (after): -0.06481902301311493\n",
      "first weight (before): -0.06481902301311493\n",
      "first weight (after): -0.06481902301311493\n",
      "first weight (before): -0.06481902301311493\n",
      "first weight (after): -0.06481902301311493\n",
      "first weight (before): -0.06481902301311493\n",
      "first weight (after): -0.06481902301311493\n",
      "first weight (before): -0.06481902301311493\n",
      "first weight (after): -0.06481902301311493\n",
      "first weight (before): -0.06481902301311493\n",
      "first weight (after): -0.06481902301311493\n",
      "first weight (before): -0.06481902301311493\n",
      "first weight (after): -0.06481902301311493\n",
      "first weight (before): -0.06481902301311493\n",
      "first weight (after): -0.06481902301311493\n",
      "Loss : 1.8993600606918335\n",
      "Accuracy: 0.14423076923076922\n",
      "-------------------------------------------------------\n",
      "Epoch 3:\n",
      "first weight (before): -0.06481902301311493\n",
      "first weight (after): -0.06481902301311493\n",
      "first weight (before): -0.06481902301311493\n",
      "first weight (after): -0.06481902301311493\n",
      "first weight (before): -0.06481902301311493\n",
      "first weight (after): -0.06481902301311493\n",
      "first weight (before): -0.06481902301311493\n",
      "first weight (after): -0.06481902301311493\n",
      "first weight (before): -0.06481902301311493\n",
      "first weight (after): -0.06481902301311493\n",
      "first weight (before): -0.06481902301311493\n",
      "first weight (after): -0.06481902301311493\n",
      "first weight (before): -0.06481902301311493\n",
      "first weight (after): -0.06481902301311493\n",
      "first weight (before): -0.06481902301311493\n",
      "first weight (after): -0.06481902301311493\n",
      "first weight (before): -0.06481902301311493\n",
      "first weight (after): -0.06481902301311493\n",
      "first weight (before): -0.06481902301311493\n",
      "first weight (after): -0.06481902301311493\n",
      "first weight (before): -0.06481902301311493\n",
      "first weight (after): -0.06481902301311493\n",
      "first weight (before): -0.06481902301311493\n",
      "first weight (after): -0.06481902301311493\n",
      "first weight (before): -0.06481902301311493\n",
      "first weight (after): -0.06481902301311493\n",
      "first weight (before): -0.06481902301311493\n",
      "first weight (after): -0.06481902301311493\n",
      "first weight (before): -0.06481902301311493\n",
      "first weight (after): -0.06481902301311493\n",
      "first weight (before): -0.06481902301311493\n",
      "first weight (after): -0.06481902301311493\n",
      "first weight (before): -0.06481902301311493\n",
      "first weight (after): -0.06481902301311493\n",
      "first weight (before): -0.06481902301311493\n",
      "first weight (after): -0.06481902301311493\n",
      "Loss : 1.9089757204055786\n",
      "Accuracy: 0.16346153846153846\n",
      "-------------------------------------------------------\n",
      "Epoch 4:\n",
      "first weight (before): -0.06481902301311493\n",
      "first weight (after): -0.06481902301311493\n",
      "first weight (before): -0.06481902301311493\n",
      "first weight (after): -0.06481902301311493\n",
      "first weight (before): -0.06481902301311493\n",
      "first weight (after): -0.06481902301311493\n",
      "first weight (before): -0.06481902301311493\n",
      "first weight (after): -0.06481902301311493\n",
      "first weight (before): -0.06481902301311493\n",
      "first weight (after): -0.06481902301311493\n",
      "first weight (before): -0.06481902301311493\n",
      "first weight (after): -0.06481902301311493\n",
      "first weight (before): -0.06481902301311493\n",
      "first weight (after): -0.06481902301311493\n",
      "first weight (before): -0.06481902301311493\n",
      "first weight (after): -0.06481902301311493\n",
      "first weight (before): -0.06481902301311493\n",
      "first weight (after): -0.06481902301311493\n",
      "first weight (before): -0.06481902301311493\n",
      "first weight (after): -0.06481902301311493\n",
      "first weight (before): -0.06481902301311493\n",
      "first weight (after): -0.06481902301311493\n",
      "first weight (before): -0.06481902301311493\n",
      "first weight (after): -0.06481902301311493\n",
      "first weight (before): -0.06481902301311493\n",
      "first weight (after): -0.06481902301311493\n",
      "first weight (before): -0.06481902301311493\n",
      "first weight (after): -0.06481902301311493\n",
      "first weight (before): -0.06481902301311493\n",
      "first weight (after): -0.06481902301311493\n",
      "first weight (before): -0.06481902301311493\n",
      "first weight (after): -0.06481902301311493\n",
      "first weight (before): -0.06481902301311493\n",
      "first weight (after): -0.06481902301311493\n",
      "first weight (before): -0.06481902301311493\n",
      "first weight (after): -0.06481902301311493\n",
      "Loss : 1.918590784072876\n",
      "Accuracy: 0.17307692307692307\n",
      "-------------------------------------------------------\n",
      "Epoch 5:\n",
      "first weight (before): -0.06481902301311493\n",
      "first weight (after): -0.06481902301311493\n",
      "first weight (before): -0.06481902301311493\n",
      "first weight (after): -0.06481902301311493\n",
      "first weight (before): -0.06481902301311493\n",
      "first weight (after): -0.06481902301311493\n",
      "first weight (before): -0.06481902301311493\n",
      "first weight (after): -0.06481902301311493\n",
      "first weight (before): -0.06481902301311493\n",
      "first weight (after): -0.06481902301311493\n",
      "first weight (before): -0.06481902301311493\n",
      "first weight (after): -0.06481902301311493\n",
      "first weight (before): -0.06481902301311493\n",
      "first weight (after): -0.06481902301311493\n",
      "first weight (before): -0.06481902301311493\n",
      "first weight (after): -0.06481902301311493\n",
      "first weight (before): -0.06481902301311493\n",
      "first weight (after): -0.06481902301311493\n",
      "first weight (before): -0.06481902301311493\n",
      "first weight (after): -0.06481902301311493\n",
      "first weight (before): -0.06481902301311493\n",
      "first weight (after): -0.06481902301311493\n",
      "first weight (before): -0.06481902301311493\n",
      "first weight (after): -0.06481902301311493\n",
      "first weight (before): -0.06481902301311493\n",
      "first weight (after): -0.06481902301311493\n",
      "first weight (before): -0.06481902301311493\n",
      "first weight (after): -0.06481902301311493\n",
      "first weight (before): -0.06481902301311493\n",
      "first weight (after): -0.06481902301311493\n",
      "first weight (before): -0.06481902301311493\n",
      "first weight (after): -0.06481902301311493\n",
      "first weight (before): -0.06481902301311493\n",
      "first weight (after): -0.06481902301311493\n",
      "first weight (before): -0.06481902301311493\n",
      "first weight (after): -0.06481902301311493\n",
      "Loss : 1.8801295757293701\n",
      "Accuracy: 0.21153846153846154\n",
      "-------------------------------------------------------\n",
      "Epoch 6:\n",
      "first weight (before): -0.06481902301311493\n",
      "first weight (after): -0.06481902301311493\n",
      "first weight (before): -0.06481902301311493\n",
      "first weight (after): -0.06481902301311493\n",
      "first weight (before): -0.06481902301311493\n",
      "first weight (after): -0.06481902301311493\n",
      "first weight (before): -0.06481902301311493\n",
      "first weight (after): -0.06481902301311493\n",
      "first weight (before): -0.06481902301311493\n",
      "first weight (after): -0.06481902301311493\n",
      "first weight (before): -0.06481902301311493\n",
      "first weight (after): -0.06481902301311493\n",
      "first weight (before): -0.06481902301311493\n",
      "first weight (after): -0.06481902301311493\n",
      "first weight (before): -0.06481902301311493\n",
      "first weight (after): -0.06481902301311493\n",
      "first weight (before): -0.06481902301311493\n",
      "first weight (after): -0.06481902301311493\n",
      "first weight (before): -0.06481902301311493\n",
      "first weight (after): -0.06481902301311493\n",
      "first weight (before): -0.06481902301311493\n",
      "first weight (after): -0.06481902301311493\n",
      "first weight (before): -0.06481902301311493\n",
      "first weight (after): -0.06481902301311493\n",
      "first weight (before): -0.06481902301311493\n",
      "first weight (after): -0.06481902301311493\n",
      "first weight (before): -0.06481902301311493\n",
      "first weight (after): -0.06481902301311493\n",
      "first weight (before): -0.06481902301311493\n",
      "first weight (after): -0.06481902301311493\n",
      "first weight (before): -0.06481902301311493\n",
      "first weight (after): -0.06481902301311493\n",
      "first weight (before): -0.06481902301311493\n",
      "first weight (after): -0.06481902301311493\n",
      "first weight (before): -0.06481902301311493\n",
      "first weight (after): -0.06481902301311493\n",
      "Loss : 1.8224378824234009\n",
      "Accuracy: 0.21153846153846154\n",
      "-------------------------------------------------------\n",
      "Epoch 7:\n",
      "first weight (before): -0.06481902301311493\n",
      "first weight (after): -0.06481902301311493\n",
      "first weight (before): -0.06481902301311493\n",
      "first weight (after): -0.06481902301311493\n",
      "first weight (before): -0.06481902301311493\n",
      "first weight (after): -0.06481902301311493\n",
      "first weight (before): -0.06481902301311493\n",
      "first weight (after): -0.06481902301311493\n",
      "first weight (before): -0.06481902301311493\n",
      "first weight (after): -0.06481902301311493\n",
      "first weight (before): -0.06481902301311493\n",
      "first weight (after): -0.06481902301311493\n",
      "first weight (before): -0.06481902301311493\n",
      "first weight (after): -0.06481902301311493\n",
      "first weight (before): -0.06481902301311493\n",
      "first weight (after): -0.06481902301311493\n",
      "first weight (before): -0.06481902301311493\n",
      "first weight (after): -0.06481902301311493\n",
      "first weight (before): -0.06481902301311493\n",
      "first weight (after): -0.06481902301311493\n",
      "first weight (before): -0.06481902301311493\n",
      "first weight (after): -0.06481902301311493\n",
      "first weight (before): -0.06481902301311493\n",
      "first weight (after): -0.06481902301311493\n",
      "first weight (before): -0.06481902301311493\n",
      "first weight (after): -0.06481902301311493\n",
      "first weight (before): -0.06481902301311493\n",
      "first weight (after): -0.06481902301311493\n",
      "first weight (before): -0.06481902301311493\n",
      "first weight (after): -0.06481902301311493\n",
      "first weight (before): -0.06481902301311493\n",
      "first weight (after): -0.06481902301311493\n",
      "first weight (before): -0.06481902301311493\n",
      "first weight (after): -0.06481902301311493\n",
      "first weight (before): -0.06481902301311493\n",
      "first weight (after): -0.06481902301311493\n",
      "Loss : 1.83205246925354\n",
      "Accuracy: 0.1346153846153846\n",
      "-------------------------------------------------------\n",
      "Epoch 8:\n",
      "first weight (before): -0.06481902301311493\n",
      "first weight (after): -0.06481902301311493\n",
      "first weight (before): -0.06481902301311493\n",
      "first weight (after): -0.06481902301311493\n",
      "first weight (before): -0.06481902301311493\n",
      "first weight (after): -0.06481902301311493\n",
      "first weight (before): -0.06481902301311493\n",
      "first weight (after): -0.06481902301311493\n",
      "first weight (before): -0.06481902301311493\n",
      "first weight (after): -0.06481902301311493\n",
      "first weight (before): -0.06481902301311493\n",
      "first weight (after): -0.06481902301311493\n",
      "first weight (before): -0.06481902301311493\n",
      "first weight (after): -0.06481902301311493\n",
      "first weight (before): -0.06481902301311493\n",
      "first weight (after): -0.06481902301311493\n",
      "first weight (before): -0.06481902301311493\n",
      "first weight (after): -0.06481902301311493\n",
      "first weight (before): -0.06481902301311493\n",
      "first weight (after): -0.06481902301311493\n",
      "first weight (before): -0.06481902301311493\n",
      "first weight (after): -0.06481902301311493\n",
      "first weight (before): -0.06481902301311493\n",
      "first weight (after): -0.06481902301311493\n",
      "first weight (before): -0.06481902301311493\n",
      "first weight (after): -0.06481902301311493\n",
      "first weight (before): -0.06481902301311493\n",
      "first weight (after): -0.06481902301311493\n",
      "first weight (before): -0.06481902301311493\n",
      "first weight (after): -0.06481902301311493\n",
      "first weight (before): -0.06481902301311493\n",
      "first weight (after): -0.06481902301311493\n",
      "first weight (before): -0.06481902301311493\n",
      "first weight (after): -0.06481902301311493\n",
      "first weight (before): -0.06481902301311493\n",
      "first weight (after): -0.06481902301311493\n",
      "Loss : 1.8320527076721191\n",
      "Accuracy: 0.125\n",
      "-------------------------------------------------------\n",
      "Epoch 9:\n",
      "first weight (before): -0.06481902301311493\n",
      "first weight (after): -0.06481902301311493\n",
      "first weight (before): -0.06481902301311493\n",
      "first weight (after): -0.06481902301311493\n",
      "first weight (before): -0.06481902301311493\n",
      "first weight (after): -0.06481902301311493\n",
      "first weight (before): -0.06481902301311493\n",
      "first weight (after): -0.06481902301311493\n",
      "first weight (before): -0.06481902301311493\n",
      "first weight (after): -0.06481902301311493\n",
      "first weight (before): -0.06481902301311493\n",
      "first weight (after): -0.06481902301311493\n",
      "first weight (before): -0.06481902301311493\n",
      "first weight (after): -0.06481902301311493\n",
      "first weight (before): -0.06481902301311493\n",
      "first weight (after): -0.06481902301311493\n",
      "first weight (before): -0.06481902301311493\n",
      "first weight (after): -0.06481902301311493\n",
      "first weight (before): -0.06481902301311493\n",
      "first weight (after): -0.06481902301311493\n",
      "first weight (before): -0.06481902301311493\n",
      "first weight (after): -0.06481902301311493\n",
      "first weight (before): -0.06481902301311493\n",
      "first weight (after): -0.06481902301311493\n",
      "first weight (before): -0.06481902301311493\n",
      "first weight (after): -0.06481902301311493\n",
      "first weight (before): -0.06481902301311493\n",
      "first weight (after): -0.06481902301311493\n",
      "first weight (before): -0.06481902301311493\n",
      "first weight (after): -0.06481902301311493\n",
      "first weight (before): -0.06481902301311493\n",
      "first weight (after): -0.06481902301311493\n",
      "first weight (before): -0.06481902301311493\n",
      "first weight (after): -0.06481902301311493\n",
      "first weight (before): -0.06481902301311493\n",
      "first weight (after): -0.06481902301311493\n",
      "Loss : 1.8416680097579956\n",
      "Accuracy: 0.22115384615384615\n",
      "-------------------------------------------------------\n",
      "Epoch 10:\n",
      "first weight (before): -0.06481902301311493\n",
      "first weight (after): -0.06481902301311493\n",
      "first weight (before): -0.06481902301311493\n",
      "first weight (after): -0.06481902301311493\n",
      "first weight (before): -0.06481902301311493\n",
      "first weight (after): -0.06481902301311493\n",
      "first weight (before): -0.06481902301311493\n",
      "first weight (after): -0.06481902301311493\n",
      "first weight (before): -0.06481902301311493\n",
      "first weight (after): -0.06481902301311493\n",
      "first weight (before): -0.06481902301311493\n",
      "first weight (after): -0.06481902301311493\n",
      "first weight (before): -0.06481902301311493\n",
      "first weight (after): -0.06481902301311493\n",
      "first weight (before): -0.06481902301311493\n",
      "first weight (after): -0.06481902301311493\n",
      "first weight (before): -0.06481902301311493\n",
      "first weight (after): -0.06481902301311493\n",
      "first weight (before): -0.06481902301311493\n",
      "first weight (after): -0.06481902301311493\n",
      "first weight (before): -0.06481902301311493\n",
      "first weight (after): -0.06481902301311493\n",
      "first weight (before): -0.06481902301311493\n",
      "first weight (after): -0.06481902301311493\n",
      "first weight (before): -0.06481902301311493\n",
      "first weight (after): -0.06481902301311493\n",
      "first weight (before): -0.06481902301311493\n",
      "first weight (after): -0.06481902301311493\n",
      "first weight (before): -0.06481902301311493\n",
      "first weight (after): -0.06481902301311493\n",
      "first weight (before): -0.06481902301311493\n",
      "first weight (after): -0.06481902301311493\n",
      "first weight (before): -0.06481902301311493\n",
      "first weight (after): -0.06481902301311493\n",
      "first weight (before): -0.06481902301311493\n",
      "first weight (after): -0.06481902301311493\n",
      "Loss : 1.8126810789108276\n",
      "Accuracy: 0.21153846153846154\n",
      "-------------------------------------------------------\n",
      "Training done\n",
      "Model trained and stored at /CNN/trained_models/scream_cnn_crossentropy_adam.pth\n"
     ]
    },
    {
     "data": {
      "application/vnd.plotly.v1+json": {
       "config": {
        "plotlyServerURL": "https://plot.ly"
       },
       "data": [
        {
         "hovertemplate": "x=%{x}<br>y=%{y}<extra></extra>",
         "legendgroup": "",
         "line": {
          "color": "#636efa",
          "dash": "solid"
         },
         "marker": {
          "symbol": "circle"
         },
         "mode": "lines",
         "name": "",
         "orientation": "v",
         "showlegend": false,
         "type": "scatter",
         "x": [
          0,
          1,
          2,
          3,
          4,
          5,
          6,
          7,
          8,
          9
         ],
         "xaxis": "x",
         "y": [
          1.937821626663208,
          1.8993600606918335,
          1.9089757204055786,
          1.918590784072876,
          1.8801295757293701,
          1.8224378824234009,
          1.83205246925354,
          1.8320527076721191,
          1.8416680097579956,
          1.8126810789108276
         ],
         "yaxis": "y"
        },
        {
         "mode": "lines",
         "type": "scatter",
         "x": [
          0,
          1,
          2,
          3,
          4,
          5,
          6,
          7,
          8,
          9
         ],
         "y": [
          0.17307692307692307,
          0.14423076923076922,
          0.16346153846153846,
          0.17307692307692307,
          0.21153846153846154,
          0.21153846153846154,
          0.1346153846153846,
          0.125,
          0.22115384615384615,
          0.21153846153846154
         ]
        },
        {
         "mode": "lines",
         "type": "scatter",
         "x": [
          0,
          1,
          2,
          3,
          4,
          5,
          6,
          7,
          8,
          9
         ],
         "y": []
        }
       ],
       "layout": {
        "legend": {
         "tracegroupgap": 0
        },
        "margin": {
         "t": 60
        },
        "template": {
         "data": {
          "bar": [
           {
            "error_x": {
             "color": "#2a3f5f"
            },
            "error_y": {
             "color": "#2a3f5f"
            },
            "marker": {
             "line": {
              "color": "#E5ECF6",
              "width": 0.5
             },
             "pattern": {
              "fillmode": "overlay",
              "size": 10,
              "solidity": 0.2
             }
            },
            "type": "bar"
           }
          ],
          "barpolar": [
           {
            "marker": {
             "line": {
              "color": "#E5ECF6",
              "width": 0.5
             },
             "pattern": {
              "fillmode": "overlay",
              "size": 10,
              "solidity": 0.2
             }
            },
            "type": "barpolar"
           }
          ],
          "carpet": [
           {
            "aaxis": {
             "endlinecolor": "#2a3f5f",
             "gridcolor": "white",
             "linecolor": "white",
             "minorgridcolor": "white",
             "startlinecolor": "#2a3f5f"
            },
            "baxis": {
             "endlinecolor": "#2a3f5f",
             "gridcolor": "white",
             "linecolor": "white",
             "minorgridcolor": "white",
             "startlinecolor": "#2a3f5f"
            },
            "type": "carpet"
           }
          ],
          "choropleth": [
           {
            "colorbar": {
             "outlinewidth": 0,
             "ticks": ""
            },
            "type": "choropleth"
           }
          ],
          "contour": [
           {
            "colorbar": {
             "outlinewidth": 0,
             "ticks": ""
            },
            "colorscale": [
             [
              0,
              "#0d0887"
             ],
             [
              0.1111111111111111,
              "#46039f"
             ],
             [
              0.2222222222222222,
              "#7201a8"
             ],
             [
              0.3333333333333333,
              "#9c179e"
             ],
             [
              0.4444444444444444,
              "#bd3786"
             ],
             [
              0.5555555555555556,
              "#d8576b"
             ],
             [
              0.6666666666666666,
              "#ed7953"
             ],
             [
              0.7777777777777778,
              "#fb9f3a"
             ],
             [
              0.8888888888888888,
              "#fdca26"
             ],
             [
              1,
              "#f0f921"
             ]
            ],
            "type": "contour"
           }
          ],
          "contourcarpet": [
           {
            "colorbar": {
             "outlinewidth": 0,
             "ticks": ""
            },
            "type": "contourcarpet"
           }
          ],
          "heatmap": [
           {
            "colorbar": {
             "outlinewidth": 0,
             "ticks": ""
            },
            "colorscale": [
             [
              0,
              "#0d0887"
             ],
             [
              0.1111111111111111,
              "#46039f"
             ],
             [
              0.2222222222222222,
              "#7201a8"
             ],
             [
              0.3333333333333333,
              "#9c179e"
             ],
             [
              0.4444444444444444,
              "#bd3786"
             ],
             [
              0.5555555555555556,
              "#d8576b"
             ],
             [
              0.6666666666666666,
              "#ed7953"
             ],
             [
              0.7777777777777778,
              "#fb9f3a"
             ],
             [
              0.8888888888888888,
              "#fdca26"
             ],
             [
              1,
              "#f0f921"
             ]
            ],
            "type": "heatmap"
           }
          ],
          "heatmapgl": [
           {
            "colorbar": {
             "outlinewidth": 0,
             "ticks": ""
            },
            "colorscale": [
             [
              0,
              "#0d0887"
             ],
             [
              0.1111111111111111,
              "#46039f"
             ],
             [
              0.2222222222222222,
              "#7201a8"
             ],
             [
              0.3333333333333333,
              "#9c179e"
             ],
             [
              0.4444444444444444,
              "#bd3786"
             ],
             [
              0.5555555555555556,
              "#d8576b"
             ],
             [
              0.6666666666666666,
              "#ed7953"
             ],
             [
              0.7777777777777778,
              "#fb9f3a"
             ],
             [
              0.8888888888888888,
              "#fdca26"
             ],
             [
              1,
              "#f0f921"
             ]
            ],
            "type": "heatmapgl"
           }
          ],
          "histogram": [
           {
            "marker": {
             "pattern": {
              "fillmode": "overlay",
              "size": 10,
              "solidity": 0.2
             }
            },
            "type": "histogram"
           }
          ],
          "histogram2d": [
           {
            "colorbar": {
             "outlinewidth": 0,
             "ticks": ""
            },
            "colorscale": [
             [
              0,
              "#0d0887"
             ],
             [
              0.1111111111111111,
              "#46039f"
             ],
             [
              0.2222222222222222,
              "#7201a8"
             ],
             [
              0.3333333333333333,
              "#9c179e"
             ],
             [
              0.4444444444444444,
              "#bd3786"
             ],
             [
              0.5555555555555556,
              "#d8576b"
             ],
             [
              0.6666666666666666,
              "#ed7953"
             ],
             [
              0.7777777777777778,
              "#fb9f3a"
             ],
             [
              0.8888888888888888,
              "#fdca26"
             ],
             [
              1,
              "#f0f921"
             ]
            ],
            "type": "histogram2d"
           }
          ],
          "histogram2dcontour": [
           {
            "colorbar": {
             "outlinewidth": 0,
             "ticks": ""
            },
            "colorscale": [
             [
              0,
              "#0d0887"
             ],
             [
              0.1111111111111111,
              "#46039f"
             ],
             [
              0.2222222222222222,
              "#7201a8"
             ],
             [
              0.3333333333333333,
              "#9c179e"
             ],
             [
              0.4444444444444444,
              "#bd3786"
             ],
             [
              0.5555555555555556,
              "#d8576b"
             ],
             [
              0.6666666666666666,
              "#ed7953"
             ],
             [
              0.7777777777777778,
              "#fb9f3a"
             ],
             [
              0.8888888888888888,
              "#fdca26"
             ],
             [
              1,
              "#f0f921"
             ]
            ],
            "type": "histogram2dcontour"
           }
          ],
          "mesh3d": [
           {
            "colorbar": {
             "outlinewidth": 0,
             "ticks": ""
            },
            "type": "mesh3d"
           }
          ],
          "parcoords": [
           {
            "line": {
             "colorbar": {
              "outlinewidth": 0,
              "ticks": ""
             }
            },
            "type": "parcoords"
           }
          ],
          "pie": [
           {
            "automargin": true,
            "type": "pie"
           }
          ],
          "scatter": [
           {
            "marker": {
             "colorbar": {
              "outlinewidth": 0,
              "ticks": ""
             }
            },
            "type": "scatter"
           }
          ],
          "scatter3d": [
           {
            "line": {
             "colorbar": {
              "outlinewidth": 0,
              "ticks": ""
             }
            },
            "marker": {
             "colorbar": {
              "outlinewidth": 0,
              "ticks": ""
             }
            },
            "type": "scatter3d"
           }
          ],
          "scattercarpet": [
           {
            "marker": {
             "colorbar": {
              "outlinewidth": 0,
              "ticks": ""
             }
            },
            "type": "scattercarpet"
           }
          ],
          "scattergeo": [
           {
            "marker": {
             "colorbar": {
              "outlinewidth": 0,
              "ticks": ""
             }
            },
            "type": "scattergeo"
           }
          ],
          "scattergl": [
           {
            "marker": {
             "colorbar": {
              "outlinewidth": 0,
              "ticks": ""
             }
            },
            "type": "scattergl"
           }
          ],
          "scattermapbox": [
           {
            "marker": {
             "colorbar": {
              "outlinewidth": 0,
              "ticks": ""
             }
            },
            "type": "scattermapbox"
           }
          ],
          "scatterpolar": [
           {
            "marker": {
             "colorbar": {
              "outlinewidth": 0,
              "ticks": ""
             }
            },
            "type": "scatterpolar"
           }
          ],
          "scatterpolargl": [
           {
            "marker": {
             "colorbar": {
              "outlinewidth": 0,
              "ticks": ""
             }
            },
            "type": "scatterpolargl"
           }
          ],
          "scatterternary": [
           {
            "marker": {
             "colorbar": {
              "outlinewidth": 0,
              "ticks": ""
             }
            },
            "type": "scatterternary"
           }
          ],
          "surface": [
           {
            "colorbar": {
             "outlinewidth": 0,
             "ticks": ""
            },
            "colorscale": [
             [
              0,
              "#0d0887"
             ],
             [
              0.1111111111111111,
              "#46039f"
             ],
             [
              0.2222222222222222,
              "#7201a8"
             ],
             [
              0.3333333333333333,
              "#9c179e"
             ],
             [
              0.4444444444444444,
              "#bd3786"
             ],
             [
              0.5555555555555556,
              "#d8576b"
             ],
             [
              0.6666666666666666,
              "#ed7953"
             ],
             [
              0.7777777777777778,
              "#fb9f3a"
             ],
             [
              0.8888888888888888,
              "#fdca26"
             ],
             [
              1,
              "#f0f921"
             ]
            ],
            "type": "surface"
           }
          ],
          "table": [
           {
            "cells": {
             "fill": {
              "color": "#EBF0F8"
             },
             "line": {
              "color": "white"
             }
            },
            "header": {
             "fill": {
              "color": "#C8D4E3"
             },
             "line": {
              "color": "white"
             }
            },
            "type": "table"
           }
          ]
         },
         "layout": {
          "annotationdefaults": {
           "arrowcolor": "#2a3f5f",
           "arrowhead": 0,
           "arrowwidth": 1
          },
          "autotypenumbers": "strict",
          "coloraxis": {
           "colorbar": {
            "outlinewidth": 0,
            "ticks": ""
           }
          },
          "colorscale": {
           "diverging": [
            [
             0,
             "#8e0152"
            ],
            [
             0.1,
             "#c51b7d"
            ],
            [
             0.2,
             "#de77ae"
            ],
            [
             0.3,
             "#f1b6da"
            ],
            [
             0.4,
             "#fde0ef"
            ],
            [
             0.5,
             "#f7f7f7"
            ],
            [
             0.6,
             "#e6f5d0"
            ],
            [
             0.7,
             "#b8e186"
            ],
            [
             0.8,
             "#7fbc41"
            ],
            [
             0.9,
             "#4d9221"
            ],
            [
             1,
             "#276419"
            ]
           ],
           "sequential": [
            [
             0,
             "#0d0887"
            ],
            [
             0.1111111111111111,
             "#46039f"
            ],
            [
             0.2222222222222222,
             "#7201a8"
            ],
            [
             0.3333333333333333,
             "#9c179e"
            ],
            [
             0.4444444444444444,
             "#bd3786"
            ],
            [
             0.5555555555555556,
             "#d8576b"
            ],
            [
             0.6666666666666666,
             "#ed7953"
            ],
            [
             0.7777777777777778,
             "#fb9f3a"
            ],
            [
             0.8888888888888888,
             "#fdca26"
            ],
            [
             1,
             "#f0f921"
            ]
           ],
           "sequentialminus": [
            [
             0,
             "#0d0887"
            ],
            [
             0.1111111111111111,
             "#46039f"
            ],
            [
             0.2222222222222222,
             "#7201a8"
            ],
            [
             0.3333333333333333,
             "#9c179e"
            ],
            [
             0.4444444444444444,
             "#bd3786"
            ],
            [
             0.5555555555555556,
             "#d8576b"
            ],
            [
             0.6666666666666666,
             "#ed7953"
            ],
            [
             0.7777777777777778,
             "#fb9f3a"
            ],
            [
             0.8888888888888888,
             "#fdca26"
            ],
            [
             1,
             "#f0f921"
            ]
           ]
          },
          "colorway": [
           "#636efa",
           "#EF553B",
           "#00cc96",
           "#ab63fa",
           "#FFA15A",
           "#19d3f3",
           "#FF6692",
           "#B6E880",
           "#FF97FF",
           "#FECB52"
          ],
          "font": {
           "color": "#2a3f5f"
          },
          "geo": {
           "bgcolor": "white",
           "lakecolor": "white",
           "landcolor": "#E5ECF6",
           "showlakes": true,
           "showland": true,
           "subunitcolor": "white"
          },
          "hoverlabel": {
           "align": "left"
          },
          "hovermode": "closest",
          "mapbox": {
           "style": "light"
          },
          "paper_bgcolor": "white",
          "plot_bgcolor": "#E5ECF6",
          "polar": {
           "angularaxis": {
            "gridcolor": "white",
            "linecolor": "white",
            "ticks": ""
           },
           "bgcolor": "#E5ECF6",
           "radialaxis": {
            "gridcolor": "white",
            "linecolor": "white",
            "ticks": ""
           }
          },
          "scene": {
           "xaxis": {
            "backgroundcolor": "#E5ECF6",
            "gridcolor": "white",
            "gridwidth": 2,
            "linecolor": "white",
            "showbackground": true,
            "ticks": "",
            "zerolinecolor": "white"
           },
           "yaxis": {
            "backgroundcolor": "#E5ECF6",
            "gridcolor": "white",
            "gridwidth": 2,
            "linecolor": "white",
            "showbackground": true,
            "ticks": "",
            "zerolinecolor": "white"
           },
           "zaxis": {
            "backgroundcolor": "#E5ECF6",
            "gridcolor": "white",
            "gridwidth": 2,
            "linecolor": "white",
            "showbackground": true,
            "ticks": "",
            "zerolinecolor": "white"
           }
          },
          "shapedefaults": {
           "line": {
            "color": "#2a3f5f"
           }
          },
          "ternary": {
           "aaxis": {
            "gridcolor": "white",
            "linecolor": "white",
            "ticks": ""
           },
           "baxis": {
            "gridcolor": "white",
            "linecolor": "white",
            "ticks": ""
           },
           "bgcolor": "#E5ECF6",
           "caxis": {
            "gridcolor": "white",
            "linecolor": "white",
            "ticks": ""
           }
          },
          "title": {
           "x": 0.05
          },
          "xaxis": {
           "automargin": true,
           "gridcolor": "white",
           "linecolor": "white",
           "ticks": "",
           "title": {
            "standoff": 15
           },
           "zerolinecolor": "white",
           "zerolinewidth": 2
          },
          "yaxis": {
           "automargin": true,
           "gridcolor": "white",
           "linecolor": "white",
           "ticks": "",
           "title": {
            "standoff": 15
           },
           "zerolinecolor": "white",
           "zerolinewidth": 2
          }
         }
        },
        "xaxis": {
         "anchor": "y",
         "domain": [
          0,
          1
         ],
         "title": {
          "text": "x"
         }
        },
        "yaxis": {
         "anchor": "x",
         "domain": [
          0,
          1
         ],
         "title": {
          "text": "y"
         }
        }
       }
      },
      "text/html": [
       "<div>                            <div id=\"4f8cd062-18ae-4fa4-a0d1-a2518022922b\" class=\"plotly-graph-div\" style=\"height:525px; width:100%;\"></div>            <script type=\"text/javascript\">                require([\"plotly\"], function(Plotly) {                    window.PLOTLYENV=window.PLOTLYENV || {};                                    if (document.getElementById(\"4f8cd062-18ae-4fa4-a0d1-a2518022922b\")) {                    Plotly.newPlot(                        \"4f8cd062-18ae-4fa4-a0d1-a2518022922b\",                        [{\"hovertemplate\":\"x=%{x}<br>y=%{y}<extra></extra>\",\"legendgroup\":\"\",\"line\":{\"color\":\"#636efa\",\"dash\":\"solid\"},\"marker\":{\"symbol\":\"circle\"},\"mode\":\"lines\",\"name\":\"\",\"orientation\":\"v\",\"showlegend\":false,\"type\":\"scatter\",\"x\":[0,1,2,3,4,5,6,7,8,9],\"xaxis\":\"x\",\"y\":[1.937821626663208,1.8993600606918335,1.9089757204055786,1.918590784072876,1.8801295757293701,1.8224378824234009,1.83205246925354,1.8320527076721191,1.8416680097579956,1.8126810789108276],\"yaxis\":\"y\"},{\"mode\":\"lines\",\"type\":\"scatter\",\"x\":[0,1,2,3,4,5,6,7,8,9],\"y\":[0.17307692307692307,0.14423076923076922,0.16346153846153846,0.17307692307692307,0.21153846153846154,0.21153846153846154,0.1346153846153846,0.125,0.22115384615384615,0.21153846153846154]},{\"mode\":\"lines\",\"type\":\"scatter\",\"x\":[0,1,2,3,4,5,6,7,8,9],\"y\":[]}],                        {\"legend\":{\"tracegroupgap\":0},\"margin\":{\"t\":60},\"template\":{\"data\":{\"bar\":[{\"error_x\":{\"color\":\"#2a3f5f\"},\"error_y\":{\"color\":\"#2a3f5f\"},\"marker\":{\"line\":{\"color\":\"#E5ECF6\",\"width\":0.5},\"pattern\":{\"fillmode\":\"overlay\",\"size\":10,\"solidity\":0.2}},\"type\":\"bar\"}],\"barpolar\":[{\"marker\":{\"line\":{\"color\":\"#E5ECF6\",\"width\":0.5},\"pattern\":{\"fillmode\":\"overlay\",\"size\":10,\"solidity\":0.2}},\"type\":\"barpolar\"}],\"carpet\":[{\"aaxis\":{\"endlinecolor\":\"#2a3f5f\",\"gridcolor\":\"white\",\"linecolor\":\"white\",\"minorgridcolor\":\"white\",\"startlinecolor\":\"#2a3f5f\"},\"baxis\":{\"endlinecolor\":\"#2a3f5f\",\"gridcolor\":\"white\",\"linecolor\":\"white\",\"minorgridcolor\":\"white\",\"startlinecolor\":\"#2a3f5f\"},\"type\":\"carpet\"}],\"choropleth\":[{\"colorbar\":{\"outlinewidth\":0,\"ticks\":\"\"},\"type\":\"choropleth\"}],\"contour\":[{\"colorbar\":{\"outlinewidth\":0,\"ticks\":\"\"},\"colorscale\":[[0.0,\"#0d0887\"],[0.1111111111111111,\"#46039f\"],[0.2222222222222222,\"#7201a8\"],[0.3333333333333333,\"#9c179e\"],[0.4444444444444444,\"#bd3786\"],[0.5555555555555556,\"#d8576b\"],[0.6666666666666666,\"#ed7953\"],[0.7777777777777778,\"#fb9f3a\"],[0.8888888888888888,\"#fdca26\"],[1.0,\"#f0f921\"]],\"type\":\"contour\"}],\"contourcarpet\":[{\"colorbar\":{\"outlinewidth\":0,\"ticks\":\"\"},\"type\":\"contourcarpet\"}],\"heatmap\":[{\"colorbar\":{\"outlinewidth\":0,\"ticks\":\"\"},\"colorscale\":[[0.0,\"#0d0887\"],[0.1111111111111111,\"#46039f\"],[0.2222222222222222,\"#7201a8\"],[0.3333333333333333,\"#9c179e\"],[0.4444444444444444,\"#bd3786\"],[0.5555555555555556,\"#d8576b\"],[0.6666666666666666,\"#ed7953\"],[0.7777777777777778,\"#fb9f3a\"],[0.8888888888888888,\"#fdca26\"],[1.0,\"#f0f921\"]],\"type\":\"heatmap\"}],\"heatmapgl\":[{\"colorbar\":{\"outlinewidth\":0,\"ticks\":\"\"},\"colorscale\":[[0.0,\"#0d0887\"],[0.1111111111111111,\"#46039f\"],[0.2222222222222222,\"#7201a8\"],[0.3333333333333333,\"#9c179e\"],[0.4444444444444444,\"#bd3786\"],[0.5555555555555556,\"#d8576b\"],[0.6666666666666666,\"#ed7953\"],[0.7777777777777778,\"#fb9f3a\"],[0.8888888888888888,\"#fdca26\"],[1.0,\"#f0f921\"]],\"type\":\"heatmapgl\"}],\"histogram\":[{\"marker\":{\"pattern\":{\"fillmode\":\"overlay\",\"size\":10,\"solidity\":0.2}},\"type\":\"histogram\"}],\"histogram2d\":[{\"colorbar\":{\"outlinewidth\":0,\"ticks\":\"\"},\"colorscale\":[[0.0,\"#0d0887\"],[0.1111111111111111,\"#46039f\"],[0.2222222222222222,\"#7201a8\"],[0.3333333333333333,\"#9c179e\"],[0.4444444444444444,\"#bd3786\"],[0.5555555555555556,\"#d8576b\"],[0.6666666666666666,\"#ed7953\"],[0.7777777777777778,\"#fb9f3a\"],[0.8888888888888888,\"#fdca26\"],[1.0,\"#f0f921\"]],\"type\":\"histogram2d\"}],\"histogram2dcontour\":[{\"colorbar\":{\"outlinewidth\":0,\"ticks\":\"\"},\"colorscale\":[[0.0,\"#0d0887\"],[0.1111111111111111,\"#46039f\"],[0.2222222222222222,\"#7201a8\"],[0.3333333333333333,\"#9c179e\"],[0.4444444444444444,\"#bd3786\"],[0.5555555555555556,\"#d8576b\"],[0.6666666666666666,\"#ed7953\"],[0.7777777777777778,\"#fb9f3a\"],[0.8888888888888888,\"#fdca26\"],[1.0,\"#f0f921\"]],\"type\":\"histogram2dcontour\"}],\"mesh3d\":[{\"colorbar\":{\"outlinewidth\":0,\"ticks\":\"\"},\"type\":\"mesh3d\"}],\"parcoords\":[{\"line\":{\"colorbar\":{\"outlinewidth\":0,\"ticks\":\"\"}},\"type\":\"parcoords\"}],\"pie\":[{\"automargin\":true,\"type\":\"pie\"}],\"scatter\":[{\"marker\":{\"colorbar\":{\"outlinewidth\":0,\"ticks\":\"\"}},\"type\":\"scatter\"}],\"scatter3d\":[{\"line\":{\"colorbar\":{\"outlinewidth\":0,\"ticks\":\"\"}},\"marker\":{\"colorbar\":{\"outlinewidth\":0,\"ticks\":\"\"}},\"type\":\"scatter3d\"}],\"scattercarpet\":[{\"marker\":{\"colorbar\":{\"outlinewidth\":0,\"ticks\":\"\"}},\"type\":\"scattercarpet\"}],\"scattergeo\":[{\"marker\":{\"colorbar\":{\"outlinewidth\":0,\"ticks\":\"\"}},\"type\":\"scattergeo\"}],\"scattergl\":[{\"marker\":{\"colorbar\":{\"outlinewidth\":0,\"ticks\":\"\"}},\"type\":\"scattergl\"}],\"scattermapbox\":[{\"marker\":{\"colorbar\":{\"outlinewidth\":0,\"ticks\":\"\"}},\"type\":\"scattermapbox\"}],\"scatterpolar\":[{\"marker\":{\"colorbar\":{\"outlinewidth\":0,\"ticks\":\"\"}},\"type\":\"scatterpolar\"}],\"scatterpolargl\":[{\"marker\":{\"colorbar\":{\"outlinewidth\":0,\"ticks\":\"\"}},\"type\":\"scatterpolargl\"}],\"scatterternary\":[{\"marker\":{\"colorbar\":{\"outlinewidth\":0,\"ticks\":\"\"}},\"type\":\"scatterternary\"}],\"surface\":[{\"colorbar\":{\"outlinewidth\":0,\"ticks\":\"\"},\"colorscale\":[[0.0,\"#0d0887\"],[0.1111111111111111,\"#46039f\"],[0.2222222222222222,\"#7201a8\"],[0.3333333333333333,\"#9c179e\"],[0.4444444444444444,\"#bd3786\"],[0.5555555555555556,\"#d8576b\"],[0.6666666666666666,\"#ed7953\"],[0.7777777777777778,\"#fb9f3a\"],[0.8888888888888888,\"#fdca26\"],[1.0,\"#f0f921\"]],\"type\":\"surface\"}],\"table\":[{\"cells\":{\"fill\":{\"color\":\"#EBF0F8\"},\"line\":{\"color\":\"white\"}},\"header\":{\"fill\":{\"color\":\"#C8D4E3\"},\"line\":{\"color\":\"white\"}},\"type\":\"table\"}]},\"layout\":{\"annotationdefaults\":{\"arrowcolor\":\"#2a3f5f\",\"arrowhead\":0,\"arrowwidth\":1},\"autotypenumbers\":\"strict\",\"coloraxis\":{\"colorbar\":{\"outlinewidth\":0,\"ticks\":\"\"}},\"colorscale\":{\"diverging\":[[0,\"#8e0152\"],[0.1,\"#c51b7d\"],[0.2,\"#de77ae\"],[0.3,\"#f1b6da\"],[0.4,\"#fde0ef\"],[0.5,\"#f7f7f7\"],[0.6,\"#e6f5d0\"],[0.7,\"#b8e186\"],[0.8,\"#7fbc41\"],[0.9,\"#4d9221\"],[1,\"#276419\"]],\"sequential\":[[0.0,\"#0d0887\"],[0.1111111111111111,\"#46039f\"],[0.2222222222222222,\"#7201a8\"],[0.3333333333333333,\"#9c179e\"],[0.4444444444444444,\"#bd3786\"],[0.5555555555555556,\"#d8576b\"],[0.6666666666666666,\"#ed7953\"],[0.7777777777777778,\"#fb9f3a\"],[0.8888888888888888,\"#fdca26\"],[1.0,\"#f0f921\"]],\"sequentialminus\":[[0.0,\"#0d0887\"],[0.1111111111111111,\"#46039f\"],[0.2222222222222222,\"#7201a8\"],[0.3333333333333333,\"#9c179e\"],[0.4444444444444444,\"#bd3786\"],[0.5555555555555556,\"#d8576b\"],[0.6666666666666666,\"#ed7953\"],[0.7777777777777778,\"#fb9f3a\"],[0.8888888888888888,\"#fdca26\"],[1.0,\"#f0f921\"]]},\"colorway\":[\"#636efa\",\"#EF553B\",\"#00cc96\",\"#ab63fa\",\"#FFA15A\",\"#19d3f3\",\"#FF6692\",\"#B6E880\",\"#FF97FF\",\"#FECB52\"],\"font\":{\"color\":\"#2a3f5f\"},\"geo\":{\"bgcolor\":\"white\",\"lakecolor\":\"white\",\"landcolor\":\"#E5ECF6\",\"showlakes\":true,\"showland\":true,\"subunitcolor\":\"white\"},\"hoverlabel\":{\"align\":\"left\"},\"hovermode\":\"closest\",\"mapbox\":{\"style\":\"light\"},\"paper_bgcolor\":\"white\",\"plot_bgcolor\":\"#E5ECF6\",\"polar\":{\"angularaxis\":{\"gridcolor\":\"white\",\"linecolor\":\"white\",\"ticks\":\"\"},\"bgcolor\":\"#E5ECF6\",\"radialaxis\":{\"gridcolor\":\"white\",\"linecolor\":\"white\",\"ticks\":\"\"}},\"scene\":{\"xaxis\":{\"backgroundcolor\":\"#E5ECF6\",\"gridcolor\":\"white\",\"gridwidth\":2,\"linecolor\":\"white\",\"showbackground\":true,\"ticks\":\"\",\"zerolinecolor\":\"white\"},\"yaxis\":{\"backgroundcolor\":\"#E5ECF6\",\"gridcolor\":\"white\",\"gridwidth\":2,\"linecolor\":\"white\",\"showbackground\":true,\"ticks\":\"\",\"zerolinecolor\":\"white\"},\"zaxis\":{\"backgroundcolor\":\"#E5ECF6\",\"gridcolor\":\"white\",\"gridwidth\":2,\"linecolor\":\"white\",\"showbackground\":true,\"ticks\":\"\",\"zerolinecolor\":\"white\"}},\"shapedefaults\":{\"line\":{\"color\":\"#2a3f5f\"}},\"ternary\":{\"aaxis\":{\"gridcolor\":\"white\",\"linecolor\":\"white\",\"ticks\":\"\"},\"baxis\":{\"gridcolor\":\"white\",\"linecolor\":\"white\",\"ticks\":\"\"},\"bgcolor\":\"#E5ECF6\",\"caxis\":{\"gridcolor\":\"white\",\"linecolor\":\"white\",\"ticks\":\"\"}},\"title\":{\"x\":0.05},\"xaxis\":{\"automargin\":true,\"gridcolor\":\"white\",\"linecolor\":\"white\",\"ticks\":\"\",\"title\":{\"standoff\":15},\"zerolinecolor\":\"white\",\"zerolinewidth\":2},\"yaxis\":{\"automargin\":true,\"gridcolor\":\"white\",\"linecolor\":\"white\",\"ticks\":\"\",\"title\":{\"standoff\":15},\"zerolinecolor\":\"white\",\"zerolinewidth\":2}}},\"xaxis\":{\"anchor\":\"y\",\"domain\":[0.0,1.0],\"title\":{\"text\":\"x\"}},\"yaxis\":{\"anchor\":\"x\",\"domain\":[0.0,1.0],\"title\":{\"text\":\"y\"}}},                        {\"responsive\": true}                    ).then(function(){\n",
       "                            \n",
       "var gd = document.getElementById('4f8cd062-18ae-4fa4-a0d1-a2518022922b');\n",
       "var x = new MutationObserver(function (mutations, observer) {{\n",
       "        var display = window.getComputedStyle(gd).display;\n",
       "        if (!display || display === 'none') {{\n",
       "            console.log([gd, 'removed!']);\n",
       "            Plotly.purge(gd);\n",
       "            observer.disconnect();\n",
       "        }}\n",
       "}});\n",
       "\n",
       "// Listen for the removal of the full notebook cells\n",
       "var notebookContainer = gd.closest('#notebook-container');\n",
       "if (notebookContainer) {{\n",
       "    x.observe(notebookContainer, {childList: true});\n",
       "}}\n",
       "\n",
       "// Listen for the clearing of the current output cell\n",
       "var outputEl = gd.closest('.output');\n",
       "if (outputEl) {{\n",
       "    x.observe(outputEl, {childList: true});\n",
       "}}\n",
       "\n",
       "                        })                };                });            </script>        </div>"
      ]
     },
     "metadata": {},
     "output_type": "display_data"
    }
   ],
   "source": [
    "from screamdataset import ScreamDataset\n",
    "import torch \n",
    "import torchaudio\n",
    "from torch import nn\n",
    "from torch.utils.data.sampler import SubsetRandomSampler\n",
    "from torch.utils.data import DataLoader\n",
    "#from cnn2 import CNNNetwork\n",
    "from cnn2 import CNNNetwork\n",
    "import numpy as np\n",
    "from sklearn.metrics import confusion_matrix,accuracy_score, precision_score\n",
    "import pandas as pd\n",
    "import plotly.express as px\n",
    "\n",
    "TRAIN_ANNOTATIONS_FILE = '/home/vedant/projects/ScreamDetection/resources/dataset/pytorch-dataset-train.csv'\n",
    "TEST_ANNOTATIONS_FILE = '/home/vedant/projects/ScreamDetection/resources/dataset/pytorch-dataset-test.csv'\n",
    "VALID_ANNOTATIONS_FILE = '/home/vedant/projects/ScreamDetection/resources/dataset/pytorch-dataset-validation.csv'\n",
    "\n",
    "TRAIN_AUDIO_DIR = '/home/vedant/projects/ScreamDetection/resources/dataset/blocked_audio/train'\n",
    "TEST_AUDIO_DIR = '/home/vedant/projects/ScreamDetection/resources/dataset/blocked_audio/test'\n",
    "VALID_AUDIO_DIR = '/home/vedant/projects/ScreamDetection/resources/dataset/blocked_audio/validation'\n",
    "\n",
    "BATCH_SIZE = 128\n",
    "SAMPLE_RATE = 44100\n",
    "EPOCHS = 10\n",
    "LEARNING_RATE = 0.01\n",
    "\n",
    "mel_spectrogram = torchaudio.transforms.MelSpectrogram(\n",
    "        sample_rate = SAMPLE_RATE,\n",
    "        n_fft = 1024,\n",
    "        hop_length = 512,\n",
    "        n_mels = 64\n",
    "    )\n",
    "if torch.cuda.is_available():\n",
    "    DEVICE = 'cuda'\n",
    "else:\n",
    "    DEVICE = 'cpu'\n",
    "\n",
    "def create_data_loader(train_data,batch_size=None,shuffle=True):\n",
    "    dataloader = DataLoader(train_data,batch_size=batch_size,shuffle=shuffle)\n",
    "    return dataloader\n",
    "\n",
    "def train_one_epoch(model, train_data_loader,loss_function,optimiser,device):\n",
    "    for inputs,targets in train_data_loader:\n",
    "        # model.train()\n",
    "        inputs,targets = inputs.to(device),targets.to(device)\n",
    "\n",
    "        # Calculate Loss\n",
    "        predictions = model(inputs)\n",
    "        loss = loss_function(predictions,targets)\n",
    "        #print(predictions)\n",
    "        # Backpropagate Loss, update weights\n",
    "        s=0\n",
    "        for param in cnn.parameters():\n",
    "            s=param.view(-1)[0]\n",
    "            break\n",
    "        print(f\"first weight (before): {s}\")\n",
    "        optimiser.zero_grad()\n",
    "        loss.backward() # Apply backpropagation\n",
    "        optimiser.step() # Update weights\n",
    "        s=0\n",
    "        for param in cnn.parameters():\n",
    "            s=param.view(-1)[0]\n",
    "            break\n",
    "        print(f\"first weight (after): {s}\")\n",
    "        #print([prediction.argmax[0] for prediction in predictions])\n",
    "\n",
    "        #TRAINING ACCURACY\n",
    "        class_mapping=[\n",
    "                    'no_vocals',\n",
    "                    'midfry',\n",
    "                    'clean',\n",
    "                    'highfry',\n",
    "                    'lowfry',\n",
    "                    'layered'\n",
    "                ]\n",
    "        pred=[]\n",
    "        for prediction in predictions.detach().cpu():\n",
    "            p = prediction[0].argmax().item()\n",
    "            pred.append(p)\n",
    "        accuracy = accuracy_score(pred,targets.detach().cpu())\n",
    "        #macro_accuracy = precision_score(pred,targets.detach().cpu(),average='macro')\n",
    "\n",
    "    print(f\"Loss : {loss.item()}\")\n",
    "    print(f\"Accuracy: {accuracy}\")\n",
    "    #print(f\"Macro Accuracy: {macro_accuracy}\")\n",
    "    return loss.item(),accuracy#,macro_accuracy\n",
    "\n",
    "def train(model, train_data_loader,loss_function, optimiser, device, epochs):\n",
    "    # print(f\"Initial weights: {}\")\n",
    "    losses=[]\n",
    "    epoch=[]\n",
    "    accuracies=[]\n",
    "    macro_accuracies=[]\n",
    "    for i in range(epochs):\n",
    "        # print(f\"Weights before epoch {i} : {}\")\n",
    "        epoch.append(i)\n",
    "        print(f\"Epoch {i+1}:\")\n",
    "        # loss,accuracy,macro_accuracy = train_one_epoch(model, train_data_loader,test_data, loss_function, optimiser, device)\n",
    "        loss,accuracy = train_one_epoch(model, train_data_loader,loss_function, optimiser, device)\n",
    "        # print(f\"Weights after epoch {i} : {}\")\n",
    "        losses.append(loss)\n",
    "        accuracies.append(accuracy)\n",
    "        #macro_accuracies.append(macro_accuracy)\n",
    "        print(\"-------------------------------------------------------\")\n",
    "    print(\"Training done\")\n",
    "    return losses,accuracies,epoch#macro_accuracies,epoch\n",
    "\n",
    "\n",
    "if __name__ == '__main__':\n",
    "    from sklearn.metrics import confusion_matrix,accuracy_score, precision_score\n",
    "    #import sys\n",
    "    #sys.setrecursionlimit(10000)\n",
    "    if torch.cuda.is_available():\n",
    "        DEVICE = 'cuda'\n",
    "    else:\n",
    "        DEVICE = 'cpu'\n",
    "\n",
    "    print(f\"Using device: {DEVICE}\")\n",
    "\n",
    "    #instantiating dataset object and transform\n",
    "    mel_spectrogram = torchaudio.transforms.MelSpectrogram(\n",
    "        sample_rate = SAMPLE_RATE,\n",
    "        n_fft = 1024,\n",
    "        hop_length = 512,\n",
    "        n_mels = 64\n",
    "    )\n",
    "\n",
    "    sd_train = ScreamDataset(TRAIN_ANNOTATIONS_FILE, TRAIN_AUDIO_DIR, mel_spectrogram, DEVICE)\n",
    "    train_dataloader= create_data_loader(sd_train,BATCH_SIZE,shuffle=True)\n",
    "\n",
    "    sd_test = ScreamDataset(TEST_ANNOTATIONS_FILE, TEST_AUDIO_DIR, mel_spectrogram, DEVICE)\n",
    "    # test_dataloader= create_data_loader(sd_test,BATCH_SIZE)\n",
    "    # Loading entire dataset into lists\n",
    "    test_inputs=[]\n",
    "    for i in range(len(sd_test)):\n",
    "        test_inputs.append(sd_test[i])\n",
    "\n",
    "    sd_valid = ScreamDataset(VALID_ANNOTATIONS_FILE, VALID_AUDIO_DIR, mel_spectrogram, DEVICE)\n",
    "    # valid_dataloader= create_data_loader(sd_valid,BATCH_SIZE)\n",
    "    valid_inputs=[]\n",
    "    for i in range(len(sd_valid)):\n",
    "        valid_inputs.append(sd_valid[i])\n",
    "\n",
    "    cnn = CNNNetwork().to(DEVICE)\n",
    "    # Instantiating loss function and optimiser\n",
    "    loss_function = nn.CrossEntropyLoss()\n",
    "    optimiser=torch.optim.Adadelta(cnn.parameters(),\n",
    "                            lr=LEARNING_RATE\n",
    "                                )\n",
    "\n",
    "    #Train Model (model, train_data_loader,test_data_loader,validation_data_loader,loss_function, optimiser, device, epochs)\n",
    "    #losses,accuracies,macro_accuracies,epoch = train(cnn,train_dataloader, test_inputs, valid_inputs, loss_function, optimiser, DEVICE, EPOCHS)\n",
    "    losses,accuracies,epoch = train(cnn,train_dataloader, loss_function, optimiser, DEVICE, EPOCHS)\n",
    "\n",
    "    #Save results\n",
    "    torch.save(cnn.state_dict(),\"/home/vedant/projects/ScreamDetection/CNN/trained_models/scream_cnn_crossentropy_adam.pth\")\n",
    "\n",
    "    print(\"Model trained and stored at /CNN/trained_models/scream_cnn_crossentropy_adam.pth\")\n",
    "    fig = px.line(x=epoch,y=losses)\n",
    "    fig.add_scatter(x=epoch, y=accuracies, mode='lines')\n",
    "    fig.add_scatter(x=epoch, y=macro_accuracies, mode='lines')\n",
    "    # # fig.add(px.line(x=epoch,y=accuracies))\n",
    "    # # fig.add(px.line(x=epoch,y=macro_accuracies))\n",
    "    fig.show()\n",
    "    df=pd.DataFrame()\n",
    "    df['epoch'] = epoch\n",
    "    df['accuracy'] = accuracies\n",
    "    #df['macro_accuracy'] = macro_accuracies\n",
    "\n",
    "    df.to_csv('/home/vedant/projects/ScreamDetection/CNN/trained_models/training_results.csv',header=True,index=False,encoding='utf-8-sig')"
   ]
  },
  {
   "cell_type": "code",
   "execution_count": 46,
   "metadata": {},
   "outputs": [
    {
     "data": {
      "text/plain": [
       "-4.482299838215113"
      ]
     },
     "execution_count": 46,
     "metadata": {},
     "output_type": "execute_result"
    }
   ],
   "source": [
    "s=0\n",
    "for param in cnn.parameters():\n",
    "    s+=param.view(-1).sum().item()\n",
    "s"
   ]
  },
  {
   "cell_type": "code",
   "execution_count": 52,
   "metadata": {},
   "outputs": [
    {
     "data": {
      "text/plain": [
       "-0.01240419689565897"
      ]
     },
     "execution_count": 52,
     "metadata": {},
     "output_type": "execute_result"
    }
   ],
   "source": [
    "s=0\n",
    "for param in cnn.parameters():\n",
    "    s=param.view(-1)[0]\n",
    "    break\n",
    "s\n",
    "\n",
    "s=param.view(-1)[0]\n",
    "s.item()"
   ]
  },
  {
   "cell_type": "code",
   "execution_count": 45,
   "metadata": {},
   "outputs": [
    {
     "data": {
      "text/plain": [
       "-0.021897513419389725"
      ]
     },
     "execution_count": 45,
     "metadata": {},
     "output_type": "execute_result"
    }
   ],
   "source": [
    "param.view(-1).sum().item()"
   ]
  },
  {
   "cell_type": "code",
   "execution_count": 19,
   "metadata": {},
   "outputs": [
    {
     "name": "stdout",
     "output_type": "stream",
     "text": [
      "3\n",
      "3\n",
      "3\n",
      "3\n",
      "3\n",
      "3\n",
      "3\n",
      "3\n",
      "3\n",
      "3\n",
      "3\n",
      "3\n",
      "3\n",
      "3\n",
      "3\n",
      "3\n",
      "3\n",
      "3\n",
      "3\n",
      "3\n",
      "3\n",
      "3\n",
      "3\n",
      "3\n",
      "3\n",
      "3\n",
      "3\n",
      "3\n",
      "3\n",
      "3\n",
      "3\n",
      "3\n",
      "3\n",
      "3\n",
      "3\n",
      "3\n",
      "3\n",
      "3\n",
      "3\n",
      "3\n",
      "3\n",
      "3\n",
      "3\n",
      "3\n",
      "3\n",
      "3\n",
      "3\n",
      "3\n",
      "3\n",
      "3\n",
      "3\n",
      "3\n",
      "3\n",
      "3\n",
      "3\n",
      "3\n",
      "3\n",
      "3\n",
      "3\n",
      "3\n",
      "3\n",
      "3\n",
      "3\n",
      "3\n",
      "3\n",
      "3\n",
      "3\n",
      "3\n",
      "3\n",
      "3\n",
      "3\n",
      "3\n",
      "3\n",
      "3\n",
      "3\n",
      "3\n",
      "3\n",
      "3\n",
      "3\n",
      "3\n",
      "3\n",
      "3\n",
      "3\n",
      "3\n",
      "3\n",
      "3\n",
      "3\n",
      "3\n",
      "3\n",
      "3\n",
      "3\n",
      "3\n",
      "3\n",
      "3\n",
      "3\n",
      "3\n",
      "3\n",
      "3\n",
      "3\n",
      "3\n",
      "3\n",
      "3\n",
      "3\n",
      "3\n",
      "3\n",
      "3\n",
      "3\n",
      "3\n",
      "3\n",
      "3\n",
      "3\n",
      "3\n",
      "3\n",
      "3\n",
      "3\n",
      "3\n",
      "3\n",
      "3\n",
      "3\n",
      "3\n",
      "3\n",
      "3\n",
      "3\n",
      "3\n",
      "3\n",
      "3\n",
      "3\n",
      "3\n",
      "3\n",
      "3\n",
      "3\n",
      "3\n",
      "3\n",
      "3\n",
      "3\n",
      "3\n",
      "3\n",
      "3\n",
      "3\n",
      "3\n",
      "3\n",
      "3\n",
      "3\n",
      "3\n",
      "3\n",
      "3\n",
      "3\n",
      "3\n",
      "3\n",
      "3\n",
      "3\n",
      "3\n",
      "3\n",
      "3\n",
      "3\n",
      "3\n",
      "3\n",
      "3\n",
      "3\n",
      "3\n",
      "3\n",
      "3\n",
      "3\n",
      "3\n",
      "3\n",
      "3\n",
      "3\n",
      "3\n",
      "3\n",
      "3\n",
      "3\n",
      "3\n",
      "3\n",
      "3\n",
      "3\n",
      "3\n",
      "3\n",
      "3\n",
      "3\n",
      "3\n",
      "3\n",
      "3\n",
      "3\n",
      "3\n",
      "3\n",
      "3\n",
      "3\n",
      "3\n",
      "3\n",
      "3\n",
      "3\n",
      "3\n",
      "3\n",
      "3\n",
      "3\n",
      "3\n",
      "3\n",
      "3\n",
      "3\n",
      "3\n",
      "3\n",
      "3\n",
      "3\n",
      "3\n",
      "3\n",
      "3\n",
      "3\n",
      "3\n",
      "3\n",
      "3\n",
      "3\n",
      "3\n",
      "3\n",
      "3\n",
      "3\n",
      "3\n",
      "3\n",
      "3\n",
      "3\n",
      "3\n",
      "3\n",
      "3\n",
      "3\n",
      "3\n",
      "3\n",
      "3\n",
      "3\n",
      "3\n",
      "3\n",
      "3\n",
      "3\n",
      "3\n",
      "3\n",
      "3\n",
      "3\n",
      "3\n",
      "3\n",
      "3\n",
      "3\n",
      "3\n",
      "3\n",
      "3\n",
      "3\n",
      "3\n",
      "3\n",
      "3\n",
      "3\n",
      "3\n",
      "3\n",
      "3\n",
      "3\n",
      "3\n",
      "3\n",
      "3\n",
      "3\n",
      "3\n",
      "3\n",
      "3\n",
      "3\n",
      "3\n",
      "3\n",
      "3\n",
      "3\n",
      "3\n",
      "3\n",
      "3\n",
      "3\n",
      "3\n",
      "3\n",
      "3\n",
      "3\n",
      "3\n",
      "3\n",
      "3\n",
      "3\n",
      "3\n",
      "3\n",
      "3\n",
      "3\n",
      "3\n",
      "3\n",
      "3\n",
      "3\n",
      "3\n",
      "3\n",
      "3\n",
      "3\n",
      "3\n",
      "3\n",
      "3\n",
      "3\n",
      "3\n",
      "3\n",
      "3\n",
      "3\n",
      "3\n",
      "3\n",
      "3\n",
      "3\n",
      "3\n",
      "3\n",
      "3\n",
      "3\n",
      "3\n",
      "3\n",
      "3\n",
      "3\n",
      "3\n",
      "3\n",
      "3\n",
      "3\n",
      "3\n",
      "3\n",
      "3\n",
      "3\n",
      "3\n",
      "3\n",
      "3\n",
      "3\n",
      "3\n",
      "3\n",
      "3\n",
      "3\n",
      "3\n",
      "3\n",
      "3\n",
      "3\n",
      "3\n",
      "3\n",
      "3\n",
      "3\n",
      "3\n",
      "3\n",
      "3\n",
      "3\n",
      "3\n",
      "3\n",
      "3\n",
      "3\n",
      "3\n",
      "3\n",
      "3\n",
      "3\n",
      "3\n",
      "3\n",
      "3\n",
      "3\n",
      "3\n",
      "3\n",
      "3\n",
      "3\n",
      "3\n",
      "3\n",
      "3\n",
      "3\n",
      "3\n",
      "3\n",
      "3\n",
      "3\n",
      "3\n",
      "3\n",
      "3\n",
      "3\n",
      "3\n",
      "3\n",
      "3\n",
      "3\n",
      "3\n",
      "3\n",
      "3\n",
      "3\n",
      "3\n",
      "3\n",
      "3\n",
      "3\n",
      "3\n",
      "3\n",
      "3\n",
      "3\n",
      "3\n",
      "3\n",
      "3\n",
      "3\n",
      "3\n",
      "3\n",
      "3\n",
      "3\n",
      "3\n",
      "3\n",
      "3\n",
      "3\n",
      "3\n",
      "3\n",
      "3\n",
      "3\n",
      "3\n",
      "3\n",
      "3\n",
      "3\n",
      "3\n",
      "3\n",
      "3\n",
      "3\n",
      "3\n",
      "3\n",
      "3\n",
      "3\n",
      "3\n",
      "3\n",
      "3\n",
      "3\n",
      "3\n",
      "3\n",
      "3\n",
      "3\n",
      "3\n",
      "3\n",
      "3\n",
      "3\n",
      "3\n",
      "3\n",
      "3\n",
      "3\n",
      "3\n",
      "3\n",
      "3\n",
      "3\n",
      "3\n",
      "3\n",
      "3\n",
      "3\n",
      "3\n",
      "3\n",
      "3\n",
      "3\n",
      "3\n",
      "3\n",
      "3\n",
      "3\n",
      "3\n",
      "3\n",
      "3\n",
      "5\n",
      "5\n",
      "5\n",
      "5\n",
      "5\n",
      "5\n",
      "5\n",
      "5\n",
      "5\n",
      "5\n",
      "5\n",
      "5\n",
      "5\n",
      "5\n",
      "5\n",
      "5\n",
      "5\n",
      "5\n",
      "5\n",
      "5\n",
      "5\n",
      "5\n",
      "5\n",
      "5\n",
      "5\n",
      "5\n",
      "5\n",
      "5\n",
      "5\n",
      "5\n",
      "5\n",
      "5\n",
      "5\n",
      "5\n",
      "5\n",
      "5\n",
      "5\n",
      "5\n",
      "5\n",
      "5\n",
      "5\n",
      "5\n",
      "5\n",
      "5\n",
      "5\n",
      "5\n",
      "5\n",
      "5\n",
      "5\n",
      "5\n",
      "5\n",
      "5\n",
      "5\n",
      "5\n",
      "5\n",
      "5\n",
      "5\n",
      "5\n",
      "5\n",
      "5\n",
      "5\n",
      "5\n",
      "5\n",
      "5\n",
      "5\n",
      "5\n",
      "5\n",
      "5\n",
      "5\n",
      "5\n",
      "5\n",
      "5\n",
      "5\n",
      "5\n",
      "5\n",
      "5\n",
      "5\n",
      "5\n",
      "5\n",
      "5\n",
      "5\n",
      "5\n",
      "5\n",
      "5\n",
      "5\n",
      "5\n",
      "5\n",
      "5\n",
      "5\n",
      "5\n",
      "5\n",
      "5\n",
      "5\n",
      "5\n",
      "5\n",
      "5\n",
      "5\n",
      "5\n",
      "5\n",
      "5\n",
      "5\n",
      "5\n",
      "5\n",
      "5\n",
      "5\n",
      "5\n",
      "5\n",
      "5\n",
      "5\n",
      "5\n",
      "5\n",
      "5\n",
      "5\n",
      "5\n",
      "5\n",
      "5\n",
      "5\n",
      "5\n",
      "5\n",
      "5\n",
      "5\n",
      "5\n",
      "5\n",
      "5\n",
      "5\n",
      "5\n",
      "5\n",
      "5\n",
      "5\n",
      "5\n",
      "5\n",
      "5\n",
      "5\n",
      "5\n",
      "5\n",
      "5\n",
      "5\n",
      "5\n",
      "5\n",
      "5\n",
      "5\n",
      "5\n",
      "5\n",
      "5\n",
      "5\n",
      "5\n",
      "5\n",
      "5\n",
      "5\n",
      "5\n",
      "5\n",
      "5\n",
      "5\n",
      "5\n",
      "5\n",
      "5\n",
      "5\n",
      "5\n",
      "5\n",
      "5\n",
      "5\n",
      "5\n",
      "5\n",
      "5\n",
      "5\n",
      "5\n",
      "5\n",
      "5\n",
      "5\n",
      "5\n",
      "5\n",
      "5\n",
      "5\n",
      "5\n",
      "5\n",
      "5\n",
      "5\n",
      "5\n",
      "5\n",
      "5\n",
      "5\n",
      "5\n",
      "5\n",
      "5\n",
      "5\n",
      "5\n",
      "5\n",
      "5\n",
      "5\n",
      "5\n",
      "5\n",
      "5\n",
      "5\n",
      "5\n",
      "5\n",
      "5\n",
      "5\n",
      "5\n",
      "5\n",
      "5\n",
      "5\n",
      "5\n",
      "5\n",
      "5\n",
      "5\n",
      "5\n",
      "5\n",
      "5\n",
      "5\n",
      "5\n",
      "5\n",
      "5\n",
      "5\n",
      "5\n",
      "5\n",
      "5\n",
      "5\n",
      "5\n",
      "5\n",
      "5\n",
      "5\n",
      "5\n",
      "5\n",
      "5\n",
      "5\n",
      "5\n",
      "5\n",
      "5\n",
      "5\n",
      "5\n",
      "5\n",
      "5\n",
      "5\n",
      "5\n",
      "5\n",
      "5\n",
      "5\n",
      "5\n",
      "5\n",
      "5\n",
      "5\n",
      "5\n",
      "5\n",
      "5\n",
      "5\n",
      "5\n",
      "5\n",
      "5\n",
      "5\n",
      "5\n",
      "5\n",
      "5\n",
      "5\n",
      "5\n",
      "5\n",
      "5\n",
      "5\n",
      "5\n",
      "5\n",
      "5\n",
      "5\n",
      "5\n",
      "5\n",
      "5\n",
      "5\n",
      "5\n",
      "5\n",
      "5\n",
      "5\n",
      "5\n",
      "5\n",
      "5\n",
      "5\n",
      "5\n",
      "5\n",
      "5\n",
      "5\n",
      "5\n",
      "5\n",
      "5\n",
      "5\n",
      "5\n",
      "5\n",
      "5\n",
      "5\n",
      "5\n",
      "5\n",
      "5\n",
      "5\n",
      "5\n",
      "5\n",
      "5\n",
      "5\n",
      "5\n",
      "5\n",
      "5\n",
      "5\n",
      "5\n",
      "5\n",
      "5\n",
      "5\n",
      "5\n",
      "5\n",
      "5\n",
      "5\n",
      "5\n",
      "5\n",
      "5\n",
      "5\n",
      "5\n",
      "5\n",
      "5\n",
      "5\n",
      "5\n",
      "5\n",
      "5\n",
      "5\n",
      "5\n",
      "5\n",
      "5\n",
      "5\n",
      "5\n",
      "5\n",
      "5\n",
      "4\n",
      "4\n",
      "4\n",
      "4\n",
      "4\n",
      "4\n",
      "4\n",
      "4\n",
      "4\n",
      "4\n",
      "4\n",
      "4\n",
      "4\n",
      "4\n",
      "4\n",
      "4\n",
      "4\n",
      "4\n",
      "4\n",
      "4\n",
      "4\n",
      "4\n",
      "4\n",
      "4\n",
      "4\n",
      "4\n",
      "4\n",
      "4\n",
      "4\n",
      "4\n",
      "4\n",
      "4\n",
      "4\n",
      "4\n",
      "4\n",
      "4\n",
      "4\n",
      "4\n",
      "4\n",
      "4\n",
      "4\n",
      "4\n",
      "4\n",
      "4\n",
      "4\n",
      "4\n",
      "4\n",
      "4\n",
      "4\n",
      "4\n",
      "4\n",
      "4\n",
      "4\n",
      "4\n",
      "4\n",
      "4\n",
      "4\n",
      "4\n",
      "4\n",
      "4\n",
      "4\n",
      "4\n",
      "4\n",
      "4\n",
      "4\n",
      "4\n",
      "4\n",
      "4\n",
      "4\n",
      "4\n",
      "4\n",
      "4\n",
      "4\n",
      "4\n",
      "4\n",
      "4\n",
      "4\n",
      "4\n",
      "4\n",
      "4\n",
      "4\n",
      "4\n",
      "4\n",
      "4\n",
      "4\n",
      "4\n",
      "4\n",
      "4\n",
      "4\n",
      "4\n",
      "4\n",
      "4\n",
      "4\n",
      "4\n",
      "4\n",
      "4\n",
      "4\n",
      "4\n",
      "4\n",
      "4\n",
      "4\n",
      "4\n",
      "4\n",
      "4\n",
      "4\n",
      "4\n",
      "4\n",
      "4\n",
      "4\n",
      "4\n",
      "4\n",
      "4\n",
      "4\n",
      "4\n",
      "4\n",
      "4\n",
      "4\n",
      "4\n",
      "4\n",
      "4\n",
      "4\n",
      "4\n",
      "4\n",
      "4\n",
      "4\n",
      "4\n",
      "4\n",
      "4\n",
      "4\n",
      "4\n",
      "4\n",
      "4\n",
      "4\n",
      "4\n",
      "4\n",
      "4\n",
      "4\n",
      "4\n",
      "4\n",
      "4\n",
      "4\n",
      "4\n",
      "4\n",
      "4\n",
      "4\n",
      "4\n",
      "4\n",
      "4\n",
      "4\n",
      "4\n",
      "4\n",
      "4\n",
      "4\n",
      "4\n",
      "4\n",
      "4\n",
      "4\n",
      "4\n",
      "4\n",
      "4\n",
      "4\n",
      "4\n",
      "4\n",
      "4\n",
      "4\n",
      "4\n",
      "4\n",
      "4\n",
      "4\n",
      "4\n",
      "4\n",
      "4\n",
      "4\n",
      "4\n",
      "4\n",
      "4\n",
      "4\n",
      "4\n",
      "4\n",
      "4\n",
      "4\n",
      "4\n",
      "4\n",
      "4\n",
      "4\n",
      "4\n",
      "4\n",
      "4\n",
      "4\n",
      "4\n",
      "4\n",
      "4\n",
      "4\n",
      "4\n",
      "4\n",
      "4\n",
      "4\n",
      "4\n",
      "4\n",
      "4\n",
      "4\n",
      "4\n",
      "4\n",
      "4\n",
      "4\n",
      "4\n",
      "4\n",
      "4\n",
      "4\n",
      "4\n",
      "4\n",
      "4\n",
      "4\n",
      "4\n",
      "4\n",
      "4\n",
      "4\n",
      "4\n",
      "4\n",
      "4\n",
      "4\n",
      "4\n",
      "4\n",
      "4\n",
      "4\n",
      "4\n",
      "4\n",
      "4\n",
      "4\n",
      "4\n",
      "4\n",
      "4\n",
      "4\n",
      "4\n",
      "4\n",
      "4\n",
      "4\n",
      "4\n",
      "4\n",
      "4\n",
      "4\n",
      "4\n",
      "4\n",
      "4\n",
      "4\n",
      "4\n",
      "4\n",
      "4\n",
      "4\n",
      "4\n",
      "4\n",
      "4\n",
      "4\n",
      "4\n",
      "4\n",
      "4\n",
      "4\n",
      "4\n",
      "4\n",
      "4\n",
      "4\n",
      "4\n",
      "4\n",
      "4\n",
      "4\n",
      "4\n",
      "4\n",
      "4\n",
      "4\n",
      "4\n",
      "4\n",
      "4\n",
      "4\n",
      "4\n",
      "4\n",
      "4\n",
      "4\n",
      "4\n",
      "4\n",
      "4\n",
      "4\n",
      "4\n",
      "4\n",
      "4\n",
      "4\n",
      "4\n",
      "4\n",
      "1\n",
      "1\n",
      "1\n",
      "1\n",
      "1\n",
      "1\n",
      "1\n",
      "1\n",
      "1\n",
      "1\n",
      "1\n",
      "1\n",
      "1\n",
      "1\n",
      "1\n",
      "1\n",
      "1\n",
      "1\n",
      "1\n",
      "1\n",
      "1\n",
      "1\n",
      "1\n",
      "1\n",
      "1\n",
      "1\n",
      "1\n",
      "1\n",
      "1\n",
      "1\n",
      "1\n",
      "1\n",
      "1\n",
      "1\n",
      "1\n",
      "1\n",
      "1\n",
      "1\n",
      "1\n",
      "1\n",
      "1\n",
      "1\n",
      "1\n",
      "1\n",
      "1\n",
      "1\n",
      "1\n",
      "1\n",
      "1\n",
      "1\n",
      "1\n",
      "1\n",
      "1\n",
      "1\n",
      "1\n",
      "1\n",
      "1\n",
      "1\n",
      "1\n",
      "1\n",
      "1\n",
      "1\n",
      "1\n",
      "1\n",
      "1\n",
      "1\n",
      "1\n",
      "1\n",
      "1\n",
      "1\n",
      "1\n",
      "1\n",
      "1\n",
      "1\n",
      "1\n",
      "1\n",
      "1\n",
      "1\n",
      "1\n",
      "1\n",
      "1\n",
      "1\n",
      "1\n",
      "1\n",
      "1\n",
      "1\n",
      "1\n",
      "1\n",
      "1\n",
      "1\n",
      "1\n",
      "1\n",
      "1\n",
      "1\n",
      "1\n",
      "1\n",
      "1\n",
      "1\n",
      "1\n",
      "1\n",
      "1\n",
      "1\n",
      "1\n",
      "1\n",
      "1\n",
      "1\n",
      "1\n",
      "1\n",
      "1\n",
      "1\n",
      "1\n",
      "1\n",
      "1\n",
      "1\n",
      "1\n",
      "1\n",
      "1\n",
      "1\n",
      "1\n",
      "1\n",
      "1\n",
      "1\n",
      "1\n",
      "1\n",
      "1\n",
      "1\n",
      "1\n",
      "1\n",
      "1\n",
      "1\n",
      "1\n",
      "1\n",
      "1\n",
      "1\n",
      "1\n",
      "1\n",
      "1\n",
      "1\n",
      "1\n",
      "1\n",
      "1\n",
      "1\n",
      "1\n",
      "1\n",
      "1\n",
      "1\n",
      "1\n",
      "1\n",
      "1\n",
      "1\n",
      "1\n",
      "1\n",
      "1\n",
      "1\n",
      "1\n",
      "1\n",
      "1\n",
      "1\n",
      "1\n",
      "1\n",
      "1\n",
      "1\n",
      "1\n",
      "1\n",
      "1\n",
      "1\n",
      "1\n",
      "1\n",
      "1\n",
      "1\n",
      "1\n",
      "1\n",
      "1\n",
      "1\n",
      "1\n",
      "1\n",
      "1\n",
      "1\n",
      "1\n",
      "1\n",
      "1\n",
      "1\n",
      "1\n",
      "1\n",
      "1\n",
      "1\n",
      "1\n",
      "1\n",
      "1\n",
      "1\n",
      "1\n",
      "1\n",
      "1\n",
      "1\n",
      "1\n",
      "1\n",
      "1\n",
      "1\n",
      "1\n",
      "1\n",
      "1\n",
      "1\n",
      "1\n",
      "1\n",
      "1\n",
      "1\n",
      "1\n",
      "1\n",
      "1\n",
      "1\n",
      "1\n",
      "1\n",
      "1\n",
      "1\n",
      "1\n",
      "1\n",
      "1\n",
      "1\n",
      "1\n",
      "1\n",
      "1\n",
      "1\n",
      "1\n",
      "1\n",
      "1\n",
      "1\n",
      "1\n",
      "1\n",
      "1\n",
      "1\n",
      "1\n",
      "1\n",
      "1\n",
      "1\n",
      "1\n",
      "1\n",
      "1\n",
      "1\n",
      "1\n",
      "1\n",
      "1\n",
      "1\n",
      "1\n",
      "1\n",
      "1\n",
      "1\n",
      "1\n",
      "1\n",
      "1\n",
      "1\n",
      "1\n",
      "1\n",
      "1\n",
      "1\n",
      "1\n",
      "1\n",
      "1\n",
      "1\n",
      "1\n",
      "1\n",
      "1\n",
      "1\n",
      "1\n",
      "1\n",
      "1\n",
      "1\n",
      "1\n",
      "1\n",
      "1\n",
      "1\n",
      "1\n",
      "1\n",
      "1\n",
      "1\n",
      "1\n",
      "1\n",
      "1\n",
      "1\n",
      "1\n",
      "1\n",
      "1\n",
      "1\n",
      "1\n",
      "1\n",
      "1\n",
      "1\n",
      "1\n",
      "1\n",
      "1\n",
      "1\n",
      "1\n",
      "1\n",
      "1\n",
      "1\n",
      "1\n",
      "1\n",
      "1\n",
      "1\n",
      "1\n",
      "1\n",
      "1\n",
      "1\n",
      "1\n",
      "1\n",
      "1\n",
      "1\n",
      "1\n",
      "1\n",
      "1\n",
      "1\n",
      "1\n",
      "1\n",
      "1\n",
      "1\n",
      "1\n",
      "1\n",
      "1\n",
      "1\n",
      "1\n",
      "1\n",
      "1\n",
      "1\n",
      "1\n",
      "1\n",
      "1\n",
      "1\n",
      "1\n",
      "1\n",
      "1\n",
      "1\n",
      "1\n",
      "1\n",
      "1\n",
      "1\n",
      "1\n",
      "1\n",
      "1\n",
      "1\n",
      "1\n",
      "1\n",
      "1\n",
      "1\n",
      "1\n",
      "1\n",
      "1\n",
      "1\n",
      "1\n",
      "1\n",
      "1\n",
      "1\n",
      "1\n",
      "1\n",
      "1\n",
      "1\n",
      "1\n",
      "1\n",
      "1\n",
      "1\n",
      "1\n",
      "1\n",
      "1\n",
      "1\n",
      "1\n",
      "1\n",
      "1\n",
      "1\n",
      "1\n",
      "1\n",
      "1\n",
      "1\n",
      "1\n",
      "1\n",
      "1\n",
      "1\n",
      "1\n",
      "1\n",
      "1\n",
      "1\n",
      "1\n",
      "1\n",
      "1\n",
      "1\n",
      "1\n",
      "1\n",
      "1\n",
      "1\n",
      "1\n",
      "1\n",
      "1\n",
      "1\n",
      "1\n",
      "1\n",
      "1\n",
      "1\n",
      "1\n",
      "1\n",
      "1\n",
      "1\n",
      "1\n",
      "1\n",
      "1\n",
      "1\n",
      "0\n",
      "0\n",
      "0\n",
      "0\n",
      "0\n",
      "0\n",
      "0\n",
      "0\n",
      "0\n",
      "0\n",
      "0\n",
      "0\n",
      "0\n",
      "0\n",
      "0\n",
      "0\n",
      "0\n",
      "0\n",
      "0\n",
      "0\n",
      "0\n",
      "0\n",
      "0\n",
      "0\n",
      "0\n",
      "0\n",
      "0\n",
      "0\n",
      "0\n",
      "0\n",
      "0\n",
      "0\n",
      "0\n",
      "0\n",
      "0\n",
      "0\n",
      "0\n",
      "0\n",
      "0\n",
      "0\n",
      "0\n",
      "0\n",
      "0\n",
      "0\n",
      "0\n",
      "0\n",
      "0\n",
      "0\n",
      "0\n",
      "0\n",
      "0\n",
      "0\n",
      "0\n",
      "0\n",
      "0\n",
      "0\n",
      "0\n",
      "0\n",
      "0\n",
      "0\n",
      "0\n",
      "0\n",
      "0\n",
      "0\n",
      "0\n",
      "0\n",
      "0\n",
      "0\n",
      "0\n",
      "0\n",
      "0\n",
      "0\n",
      "0\n",
      "0\n",
      "0\n",
      "0\n",
      "0\n",
      "0\n",
      "0\n",
      "0\n",
      "0\n",
      "0\n",
      "0\n",
      "0\n",
      "0\n",
      "0\n",
      "0\n",
      "0\n",
      "0\n",
      "0\n",
      "0\n",
      "0\n",
      "0\n",
      "0\n",
      "0\n",
      "0\n",
      "0\n",
      "0\n",
      "0\n",
      "0\n",
      "0\n",
      "0\n",
      "0\n",
      "0\n",
      "0\n",
      "0\n",
      "0\n",
      "0\n",
      "0\n",
      "0\n",
      "0\n",
      "0\n",
      "0\n",
      "0\n",
      "0\n",
      "0\n",
      "0\n",
      "0\n",
      "0\n",
      "0\n",
      "0\n",
      "0\n",
      "0\n",
      "0\n",
      "0\n",
      "0\n",
      "0\n",
      "0\n",
      "0\n",
      "0\n",
      "0\n",
      "0\n",
      "0\n",
      "0\n",
      "0\n",
      "0\n",
      "0\n",
      "0\n",
      "0\n",
      "0\n",
      "0\n",
      "0\n",
      "0\n",
      "0\n",
      "0\n",
      "0\n",
      "0\n",
      "0\n",
      "0\n",
      "0\n",
      "0\n",
      "0\n",
      "0\n",
      "0\n",
      "0\n",
      "0\n",
      "0\n",
      "0\n",
      "0\n",
      "0\n",
      "0\n",
      "0\n",
      "0\n",
      "0\n",
      "0\n",
      "0\n",
      "0\n",
      "0\n",
      "0\n",
      "0\n",
      "0\n",
      "0\n",
      "0\n",
      "0\n",
      "0\n",
      "0\n",
      "0\n",
      "0\n",
      "0\n",
      "0\n",
      "0\n",
      "0\n",
      "0\n",
      "0\n",
      "0\n",
      "0\n",
      "0\n",
      "0\n",
      "0\n",
      "0\n",
      "0\n",
      "0\n",
      "0\n",
      "0\n",
      "0\n",
      "0\n",
      "0\n",
      "0\n",
      "0\n",
      "0\n",
      "0\n",
      "0\n",
      "0\n",
      "0\n",
      "0\n",
      "0\n",
      "0\n",
      "0\n",
      "0\n",
      "0\n",
      "0\n",
      "0\n",
      "0\n",
      "0\n",
      "0\n",
      "0\n",
      "0\n",
      "0\n",
      "0\n",
      "0\n",
      "0\n",
      "0\n",
      "0\n",
      "0\n",
      "0\n",
      "0\n",
      "0\n",
      "0\n",
      "0\n",
      "0\n",
      "0\n",
      "0\n",
      "0\n",
      "0\n",
      "0\n",
      "0\n",
      "0\n",
      "0\n",
      "0\n",
      "0\n",
      "0\n",
      "0\n",
      "0\n",
      "0\n",
      "0\n",
      "0\n",
      "0\n",
      "0\n",
      "0\n",
      "0\n",
      "0\n",
      "0\n",
      "0\n",
      "0\n",
      "0\n",
      "0\n",
      "0\n",
      "0\n",
      "0\n",
      "0\n",
      "0\n",
      "0\n",
      "0\n",
      "0\n",
      "0\n",
      "0\n",
      "0\n",
      "0\n",
      "0\n",
      "0\n",
      "0\n",
      "0\n",
      "0\n",
      "0\n",
      "0\n",
      "0\n",
      "0\n",
      "0\n",
      "0\n",
      "0\n",
      "0\n",
      "0\n",
      "0\n",
      "0\n",
      "0\n",
      "0\n",
      "0\n",
      "0\n",
      "0\n",
      "0\n",
      "0\n",
      "0\n",
      "0\n",
      "0\n",
      "0\n",
      "0\n",
      "0\n",
      "0\n",
      "0\n",
      "0\n",
      "0\n",
      "0\n",
      "0\n",
      "0\n",
      "0\n",
      "0\n",
      "0\n",
      "0\n",
      "0\n",
      "0\n",
      "0\n",
      "0\n",
      "0\n",
      "0\n",
      "0\n",
      "0\n",
      "0\n",
      "0\n",
      "0\n",
      "0\n",
      "0\n",
      "0\n",
      "0\n",
      "0\n",
      "0\n",
      "0\n",
      "0\n",
      "0\n",
      "0\n",
      "0\n",
      "0\n",
      "0\n",
      "0\n",
      "0\n",
      "0\n",
      "0\n",
      "0\n",
      "0\n",
      "0\n",
      "0\n",
      "0\n",
      "0\n",
      "0\n",
      "0\n",
      "0\n",
      "0\n",
      "0\n",
      "0\n",
      "0\n",
      "0\n",
      "0\n",
      "0\n",
      "0\n",
      "0\n",
      "0\n",
      "0\n",
      "0\n",
      "0\n",
      "0\n",
      "0\n",
      "0\n",
      "0\n",
      "0\n",
      "0\n",
      "0\n",
      "0\n",
      "0\n",
      "0\n",
      "0\n",
      "0\n",
      "0\n",
      "0\n"
     ]
    }
   ],
   "source": [
    "for i in range(len(sd_train)): \n",
    "    if sd_train[i][1] != 2:\n",
    "        print(sd_train[i][1])"
   ]
  },
  {
   "cell_type": "code",
   "execution_count": 10,
   "metadata": {},
   "outputs": [
    {
     "name": "stderr",
     "output_type": "stream",
     "text": [
      "/home/vedant/projects/ScreamDetection/scream_detection/lib/python3.9/site-packages/sklearn/metrics/_classification.py:1308: UndefinedMetricWarning: Precision is ill-defined and being set to 0.0 in labels with no predicted samples. Use `zero_division` parameter to control this behavior.\n",
      "  _warn_prf(average, modifier, msg_start, len(result))\n"
     ]
    },
    {
     "name": "stdout",
     "output_type": "stream",
     "text": [
      "Loss : 2.0435922145843506\n",
      "Accuracy: 1.0\n",
      "Macro Accuracy: 1.0\n"
     ]
    }
   ],
   "source": [
    "cnn = CNNNetwork().to(DEVICE)\n",
    "device=DEVICE\n",
    "model = cnn\n",
    "sd_train = ScreamDataset(TRAIN_ANNOTATIONS_FILE, TRAIN_AUDIO_DIR, mel_spectrogram, DEVICE)\n",
    "train_data_loader= create_data_loader(sd_train,BATCH_SIZE)\n",
    "for inputs,targets in train_data_loader:\n",
    "    model.train()\n",
    "    inputs,targets = inputs.to(device),targets.to(device)\n",
    "\n",
    "    # Calculate Loss\n",
    "    predictions = model(inputs)\n",
    "    loss = loss_function(predictions,targets)\n",
    "    #print(predictions)\n",
    "    # Backpropagate Loss, update weights\n",
    "    optimiser.zero_grad()\n",
    "    loss.backward() # Apply backpropagation\n",
    "    optimiser.step() # Update weights\n",
    "    #print([prediction.argmax[0] for prediction in predictions])\n",
    "    class_mapping=[\n",
    "                'no_vocals',\n",
    "                'midfry',\n",
    "                'clean',\n",
    "                'highfry',\n",
    "                'lowfry',\n",
    "                'layered'\n",
    "            ]\n",
    "    pred=[]\n",
    "    for prediction in predictions.detach().cpu():\n",
    "        p = prediction[0].argmax().item()\n",
    "        pred.append(p)\n",
    "    #print(pred)\n",
    "    accuracy = accuracy_score(pred,targets.detach().cpu())\n",
    "    macro_accuracy = precision_score(pred,targets.detach().cpu(),average='macro')\n",
    "\n",
    "print(f\"Loss : {loss.item()}\")\n",
    "print(f\"Accuracy: {accuracy}\")\n",
    "print(f\"Macro Accuracy: {macro_accuracy}\")"
   ]
  },
  {
   "cell_type": "code",
   "execution_count": 8,
   "metadata": {},
   "outputs": [
    {
     "data": {
      "text/plain": [
       "5"
      ]
     },
     "execution_count": 8,
     "metadata": {},
     "output_type": "execute_result"
    }
   ],
   "source": [
    "prediction.argmax().item()"
   ]
  },
  {
   "cell_type": "code",
   "execution_count": 73,
   "metadata": {},
   "outputs": [
    {
     "ename": "ValueError",
     "evalue": "Mime type rendering requires nbformat>=4.2.0 but it is not installed",
     "output_type": "error",
     "traceback": [
      "\u001b[0;31m---------------------------------------------------------------------------\u001b[0m",
      "\u001b[0;31mValueError\u001b[0m                                Traceback (most recent call last)",
      "\u001b[0;32m~/projects/ScreamDetection/scream_detection/lib/python3.9/site-packages/IPython/core/formatters.py\u001b[0m in \u001b[0;36m__call__\u001b[0;34m(self, obj)\u001b[0m\n\u001b[1;32m    916\u001b[0m             \u001b[0mmethod\u001b[0m \u001b[0;34m=\u001b[0m \u001b[0mget_real_method\u001b[0m\u001b[0;34m(\u001b[0m\u001b[0mobj\u001b[0m\u001b[0;34m,\u001b[0m \u001b[0mself\u001b[0m\u001b[0;34m.\u001b[0m\u001b[0mprint_method\u001b[0m\u001b[0;34m)\u001b[0m\u001b[0;34m\u001b[0m\u001b[0;34m\u001b[0m\u001b[0m\n\u001b[1;32m    917\u001b[0m             \u001b[0;32mif\u001b[0m \u001b[0mmethod\u001b[0m \u001b[0;32mis\u001b[0m \u001b[0;32mnot\u001b[0m \u001b[0;32mNone\u001b[0m\u001b[0;34m:\u001b[0m\u001b[0;34m\u001b[0m\u001b[0;34m\u001b[0m\u001b[0m\n\u001b[0;32m--> 918\u001b[0;31m                 \u001b[0mmethod\u001b[0m\u001b[0;34m(\u001b[0m\u001b[0;34m)\u001b[0m\u001b[0;34m\u001b[0m\u001b[0;34m\u001b[0m\u001b[0m\n\u001b[0m\u001b[1;32m    919\u001b[0m                 \u001b[0;32mreturn\u001b[0m \u001b[0;32mTrue\u001b[0m\u001b[0;34m\u001b[0m\u001b[0;34m\u001b[0m\u001b[0m\n\u001b[1;32m    920\u001b[0m \u001b[0;34m\u001b[0m\u001b[0m\n",
      "\u001b[0;32m~/projects/ScreamDetection/scream_detection/lib/python3.9/site-packages/plotly/basedatatypes.py\u001b[0m in \u001b[0;36m_ipython_display_\u001b[0;34m(self)\u001b[0m\n\u001b[1;32m    842\u001b[0m \u001b[0;34m\u001b[0m\u001b[0m\n\u001b[1;32m    843\u001b[0m         \u001b[0;32mif\u001b[0m \u001b[0mpio\u001b[0m\u001b[0;34m.\u001b[0m\u001b[0mrenderers\u001b[0m\u001b[0;34m.\u001b[0m\u001b[0mrender_on_display\u001b[0m \u001b[0;32mand\u001b[0m \u001b[0mpio\u001b[0m\u001b[0;34m.\u001b[0m\u001b[0mrenderers\u001b[0m\u001b[0;34m.\u001b[0m\u001b[0mdefault\u001b[0m\u001b[0;34m:\u001b[0m\u001b[0;34m\u001b[0m\u001b[0;34m\u001b[0m\u001b[0m\n\u001b[0;32m--> 844\u001b[0;31m             \u001b[0mpio\u001b[0m\u001b[0;34m.\u001b[0m\u001b[0mshow\u001b[0m\u001b[0;34m(\u001b[0m\u001b[0mself\u001b[0m\u001b[0;34m)\u001b[0m\u001b[0;34m\u001b[0m\u001b[0;34m\u001b[0m\u001b[0m\n\u001b[0m\u001b[1;32m    845\u001b[0m         \u001b[0;32melse\u001b[0m\u001b[0;34m:\u001b[0m\u001b[0;34m\u001b[0m\u001b[0;34m\u001b[0m\u001b[0m\n\u001b[1;32m    846\u001b[0m             \u001b[0mprint\u001b[0m\u001b[0;34m(\u001b[0m\u001b[0mrepr\u001b[0m\u001b[0;34m(\u001b[0m\u001b[0mself\u001b[0m\u001b[0;34m)\u001b[0m\u001b[0;34m)\u001b[0m\u001b[0;34m\u001b[0m\u001b[0;34m\u001b[0m\u001b[0m\n",
      "\u001b[0;32m~/projects/ScreamDetection/scream_detection/lib/python3.9/site-packages/plotly/io/_renderers.py\u001b[0m in \u001b[0;36mshow\u001b[0;34m(fig, renderer, validate, **kwargs)\u001b[0m\n\u001b[1;32m    395\u001b[0m \u001b[0;34m\u001b[0m\u001b[0m\n\u001b[1;32m    396\u001b[0m         \u001b[0;32mif\u001b[0m \u001b[0;32mnot\u001b[0m \u001b[0mnbformat\u001b[0m \u001b[0;32mor\u001b[0m \u001b[0mLooseVersion\u001b[0m\u001b[0;34m(\u001b[0m\u001b[0mnbformat\u001b[0m\u001b[0;34m.\u001b[0m\u001b[0m__version__\u001b[0m\u001b[0;34m)\u001b[0m \u001b[0;34m<\u001b[0m \u001b[0mLooseVersion\u001b[0m\u001b[0;34m(\u001b[0m\u001b[0;34m\"4.2.0\"\u001b[0m\u001b[0;34m)\u001b[0m\u001b[0;34m:\u001b[0m\u001b[0;34m\u001b[0m\u001b[0;34m\u001b[0m\u001b[0m\n\u001b[0;32m--> 397\u001b[0;31m             raise ValueError(\n\u001b[0m\u001b[1;32m    398\u001b[0m                 \u001b[0;34m\"Mime type rendering requires nbformat>=4.2.0 but it is not installed\"\u001b[0m\u001b[0;34m\u001b[0m\u001b[0;34m\u001b[0m\u001b[0m\n\u001b[1;32m    399\u001b[0m             )\n",
      "\u001b[0;31mValueError\u001b[0m: Mime type rendering requires nbformat>=4.2.0 but it is not installed"
     ]
    },
    {
     "data": {
      "application/vnd.plotly.v1+json": {
       "config": {
        "plotlyServerURL": "https://plot.ly"
       },
       "data": [
        {
         "hovertemplate": "x=%{x}<br>y=%{y}<extra></extra>",
         "legendgroup": "",
         "line": {
          "color": "#636efa",
          "dash": "solid"
         },
         "marker": {
          "symbol": "circle"
         },
         "mode": "lines",
         "name": "",
         "orientation": "v",
         "showlegend": false,
         "type": "scatter",
         "x": [
          0,
          1,
          2,
          3,
          4
         ],
         "xaxis": "x",
         "y": [
          2.4611504077911377,
          2.4611504077911377,
          2.4611504077911377,
          2.4611504077911377,
          2.4611504077911377
         ],
         "yaxis": "y"
        },
        {
         "mode": "lines",
         "type": "scatter",
         "x": [
          0,
          1,
          2,
          3,
          4
         ],
         "y": [
          0.10119047619047619,
          0.10119047619047619,
          0.10119047619047619,
          0.10119047619047619,
          0.10119047619047619
         ]
        },
        {
         "mode": "lines",
         "type": "scatter",
         "x": [
          0,
          1,
          2,
          3,
          4
         ],
         "y": [
          0.16666666666666666,
          0.16666666666666666,
          0.16666666666666666,
          0.16666666666666666,
          0.16666666666666666
         ]
        }
       ],
       "layout": {
        "legend": {
         "tracegroupgap": 0
        },
        "margin": {
         "t": 60
        },
        "template": {
         "data": {
          "bar": [
           {
            "error_x": {
             "color": "#2a3f5f"
            },
            "error_y": {
             "color": "#2a3f5f"
            },
            "marker": {
             "line": {
              "color": "#E5ECF6",
              "width": 0.5
             },
             "pattern": {
              "fillmode": "overlay",
              "size": 10,
              "solidity": 0.2
             }
            },
            "type": "bar"
           }
          ],
          "barpolar": [
           {
            "marker": {
             "line": {
              "color": "#E5ECF6",
              "width": 0.5
             },
             "pattern": {
              "fillmode": "overlay",
              "size": 10,
              "solidity": 0.2
             }
            },
            "type": "barpolar"
           }
          ],
          "carpet": [
           {
            "aaxis": {
             "endlinecolor": "#2a3f5f",
             "gridcolor": "white",
             "linecolor": "white",
             "minorgridcolor": "white",
             "startlinecolor": "#2a3f5f"
            },
            "baxis": {
             "endlinecolor": "#2a3f5f",
             "gridcolor": "white",
             "linecolor": "white",
             "minorgridcolor": "white",
             "startlinecolor": "#2a3f5f"
            },
            "type": "carpet"
           }
          ],
          "choropleth": [
           {
            "colorbar": {
             "outlinewidth": 0,
             "ticks": ""
            },
            "type": "choropleth"
           }
          ],
          "contour": [
           {
            "colorbar": {
             "outlinewidth": 0,
             "ticks": ""
            },
            "colorscale": [
             [
              0,
              "#0d0887"
             ],
             [
              0.1111111111111111,
              "#46039f"
             ],
             [
              0.2222222222222222,
              "#7201a8"
             ],
             [
              0.3333333333333333,
              "#9c179e"
             ],
             [
              0.4444444444444444,
              "#bd3786"
             ],
             [
              0.5555555555555556,
              "#d8576b"
             ],
             [
              0.6666666666666666,
              "#ed7953"
             ],
             [
              0.7777777777777778,
              "#fb9f3a"
             ],
             [
              0.8888888888888888,
              "#fdca26"
             ],
             [
              1,
              "#f0f921"
             ]
            ],
            "type": "contour"
           }
          ],
          "contourcarpet": [
           {
            "colorbar": {
             "outlinewidth": 0,
             "ticks": ""
            },
            "type": "contourcarpet"
           }
          ],
          "heatmap": [
           {
            "colorbar": {
             "outlinewidth": 0,
             "ticks": ""
            },
            "colorscale": [
             [
              0,
              "#0d0887"
             ],
             [
              0.1111111111111111,
              "#46039f"
             ],
             [
              0.2222222222222222,
              "#7201a8"
             ],
             [
              0.3333333333333333,
              "#9c179e"
             ],
             [
              0.4444444444444444,
              "#bd3786"
             ],
             [
              0.5555555555555556,
              "#d8576b"
             ],
             [
              0.6666666666666666,
              "#ed7953"
             ],
             [
              0.7777777777777778,
              "#fb9f3a"
             ],
             [
              0.8888888888888888,
              "#fdca26"
             ],
             [
              1,
              "#f0f921"
             ]
            ],
            "type": "heatmap"
           }
          ],
          "heatmapgl": [
           {
            "colorbar": {
             "outlinewidth": 0,
             "ticks": ""
            },
            "colorscale": [
             [
              0,
              "#0d0887"
             ],
             [
              0.1111111111111111,
              "#46039f"
             ],
             [
              0.2222222222222222,
              "#7201a8"
             ],
             [
              0.3333333333333333,
              "#9c179e"
             ],
             [
              0.4444444444444444,
              "#bd3786"
             ],
             [
              0.5555555555555556,
              "#d8576b"
             ],
             [
              0.6666666666666666,
              "#ed7953"
             ],
             [
              0.7777777777777778,
              "#fb9f3a"
             ],
             [
              0.8888888888888888,
              "#fdca26"
             ],
             [
              1,
              "#f0f921"
             ]
            ],
            "type": "heatmapgl"
           }
          ],
          "histogram": [
           {
            "marker": {
             "pattern": {
              "fillmode": "overlay",
              "size": 10,
              "solidity": 0.2
             }
            },
            "type": "histogram"
           }
          ],
          "histogram2d": [
           {
            "colorbar": {
             "outlinewidth": 0,
             "ticks": ""
            },
            "colorscale": [
             [
              0,
              "#0d0887"
             ],
             [
              0.1111111111111111,
              "#46039f"
             ],
             [
              0.2222222222222222,
              "#7201a8"
             ],
             [
              0.3333333333333333,
              "#9c179e"
             ],
             [
              0.4444444444444444,
              "#bd3786"
             ],
             [
              0.5555555555555556,
              "#d8576b"
             ],
             [
              0.6666666666666666,
              "#ed7953"
             ],
             [
              0.7777777777777778,
              "#fb9f3a"
             ],
             [
              0.8888888888888888,
              "#fdca26"
             ],
             [
              1,
              "#f0f921"
             ]
            ],
            "type": "histogram2d"
           }
          ],
          "histogram2dcontour": [
           {
            "colorbar": {
             "outlinewidth": 0,
             "ticks": ""
            },
            "colorscale": [
             [
              0,
              "#0d0887"
             ],
             [
              0.1111111111111111,
              "#46039f"
             ],
             [
              0.2222222222222222,
              "#7201a8"
             ],
             [
              0.3333333333333333,
              "#9c179e"
             ],
             [
              0.4444444444444444,
              "#bd3786"
             ],
             [
              0.5555555555555556,
              "#d8576b"
             ],
             [
              0.6666666666666666,
              "#ed7953"
             ],
             [
              0.7777777777777778,
              "#fb9f3a"
             ],
             [
              0.8888888888888888,
              "#fdca26"
             ],
             [
              1,
              "#f0f921"
             ]
            ],
            "type": "histogram2dcontour"
           }
          ],
          "mesh3d": [
           {
            "colorbar": {
             "outlinewidth": 0,
             "ticks": ""
            },
            "type": "mesh3d"
           }
          ],
          "parcoords": [
           {
            "line": {
             "colorbar": {
              "outlinewidth": 0,
              "ticks": ""
             }
            },
            "type": "parcoords"
           }
          ],
          "pie": [
           {
            "automargin": true,
            "type": "pie"
           }
          ],
          "scatter": [
           {
            "marker": {
             "colorbar": {
              "outlinewidth": 0,
              "ticks": ""
             }
            },
            "type": "scatter"
           }
          ],
          "scatter3d": [
           {
            "line": {
             "colorbar": {
              "outlinewidth": 0,
              "ticks": ""
             }
            },
            "marker": {
             "colorbar": {
              "outlinewidth": 0,
              "ticks": ""
             }
            },
            "type": "scatter3d"
           }
          ],
          "scattercarpet": [
           {
            "marker": {
             "colorbar": {
              "outlinewidth": 0,
              "ticks": ""
             }
            },
            "type": "scattercarpet"
           }
          ],
          "scattergeo": [
           {
            "marker": {
             "colorbar": {
              "outlinewidth": 0,
              "ticks": ""
             }
            },
            "type": "scattergeo"
           }
          ],
          "scattergl": [
           {
            "marker": {
             "colorbar": {
              "outlinewidth": 0,
              "ticks": ""
             }
            },
            "type": "scattergl"
           }
          ],
          "scattermapbox": [
           {
            "marker": {
             "colorbar": {
              "outlinewidth": 0,
              "ticks": ""
             }
            },
            "type": "scattermapbox"
           }
          ],
          "scatterpolar": [
           {
            "marker": {
             "colorbar": {
              "outlinewidth": 0,
              "ticks": ""
             }
            },
            "type": "scatterpolar"
           }
          ],
          "scatterpolargl": [
           {
            "marker": {
             "colorbar": {
              "outlinewidth": 0,
              "ticks": ""
             }
            },
            "type": "scatterpolargl"
           }
          ],
          "scatterternary": [
           {
            "marker": {
             "colorbar": {
              "outlinewidth": 0,
              "ticks": ""
             }
            },
            "type": "scatterternary"
           }
          ],
          "surface": [
           {
            "colorbar": {
             "outlinewidth": 0,
             "ticks": ""
            },
            "colorscale": [
             [
              0,
              "#0d0887"
             ],
             [
              0.1111111111111111,
              "#46039f"
             ],
             [
              0.2222222222222222,
              "#7201a8"
             ],
             [
              0.3333333333333333,
              "#9c179e"
             ],
             [
              0.4444444444444444,
              "#bd3786"
             ],
             [
              0.5555555555555556,
              "#d8576b"
             ],
             [
              0.6666666666666666,
              "#ed7953"
             ],
             [
              0.7777777777777778,
              "#fb9f3a"
             ],
             [
              0.8888888888888888,
              "#fdca26"
             ],
             [
              1,
              "#f0f921"
             ]
            ],
            "type": "surface"
           }
          ],
          "table": [
           {
            "cells": {
             "fill": {
              "color": "#EBF0F8"
             },
             "line": {
              "color": "white"
             }
            },
            "header": {
             "fill": {
              "color": "#C8D4E3"
             },
             "line": {
              "color": "white"
             }
            },
            "type": "table"
           }
          ]
         },
         "layout": {
          "annotationdefaults": {
           "arrowcolor": "#2a3f5f",
           "arrowhead": 0,
           "arrowwidth": 1
          },
          "autotypenumbers": "strict",
          "coloraxis": {
           "colorbar": {
            "outlinewidth": 0,
            "ticks": ""
           }
          },
          "colorscale": {
           "diverging": [
            [
             0,
             "#8e0152"
            ],
            [
             0.1,
             "#c51b7d"
            ],
            [
             0.2,
             "#de77ae"
            ],
            [
             0.3,
             "#f1b6da"
            ],
            [
             0.4,
             "#fde0ef"
            ],
            [
             0.5,
             "#f7f7f7"
            ],
            [
             0.6,
             "#e6f5d0"
            ],
            [
             0.7,
             "#b8e186"
            ],
            [
             0.8,
             "#7fbc41"
            ],
            [
             0.9,
             "#4d9221"
            ],
            [
             1,
             "#276419"
            ]
           ],
           "sequential": [
            [
             0,
             "#0d0887"
            ],
            [
             0.1111111111111111,
             "#46039f"
            ],
            [
             0.2222222222222222,
             "#7201a8"
            ],
            [
             0.3333333333333333,
             "#9c179e"
            ],
            [
             0.4444444444444444,
             "#bd3786"
            ],
            [
             0.5555555555555556,
             "#d8576b"
            ],
            [
             0.6666666666666666,
             "#ed7953"
            ],
            [
             0.7777777777777778,
             "#fb9f3a"
            ],
            [
             0.8888888888888888,
             "#fdca26"
            ],
            [
             1,
             "#f0f921"
            ]
           ],
           "sequentialminus": [
            [
             0,
             "#0d0887"
            ],
            [
             0.1111111111111111,
             "#46039f"
            ],
            [
             0.2222222222222222,
             "#7201a8"
            ],
            [
             0.3333333333333333,
             "#9c179e"
            ],
            [
             0.4444444444444444,
             "#bd3786"
            ],
            [
             0.5555555555555556,
             "#d8576b"
            ],
            [
             0.6666666666666666,
             "#ed7953"
            ],
            [
             0.7777777777777778,
             "#fb9f3a"
            ],
            [
             0.8888888888888888,
             "#fdca26"
            ],
            [
             1,
             "#f0f921"
            ]
           ]
          },
          "colorway": [
           "#636efa",
           "#EF553B",
           "#00cc96",
           "#ab63fa",
           "#FFA15A",
           "#19d3f3",
           "#FF6692",
           "#B6E880",
           "#FF97FF",
           "#FECB52"
          ],
          "font": {
           "color": "#2a3f5f"
          },
          "geo": {
           "bgcolor": "white",
           "lakecolor": "white",
           "landcolor": "#E5ECF6",
           "showlakes": true,
           "showland": true,
           "subunitcolor": "white"
          },
          "hoverlabel": {
           "align": "left"
          },
          "hovermode": "closest",
          "mapbox": {
           "style": "light"
          },
          "paper_bgcolor": "white",
          "plot_bgcolor": "#E5ECF6",
          "polar": {
           "angularaxis": {
            "gridcolor": "white",
            "linecolor": "white",
            "ticks": ""
           },
           "bgcolor": "#E5ECF6",
           "radialaxis": {
            "gridcolor": "white",
            "linecolor": "white",
            "ticks": ""
           }
          },
          "scene": {
           "xaxis": {
            "backgroundcolor": "#E5ECF6",
            "gridcolor": "white",
            "gridwidth": 2,
            "linecolor": "white",
            "showbackground": true,
            "ticks": "",
            "zerolinecolor": "white"
           },
           "yaxis": {
            "backgroundcolor": "#E5ECF6",
            "gridcolor": "white",
            "gridwidth": 2,
            "linecolor": "white",
            "showbackground": true,
            "ticks": "",
            "zerolinecolor": "white"
           },
           "zaxis": {
            "backgroundcolor": "#E5ECF6",
            "gridcolor": "white",
            "gridwidth": 2,
            "linecolor": "white",
            "showbackground": true,
            "ticks": "",
            "zerolinecolor": "white"
           }
          },
          "shapedefaults": {
           "line": {
            "color": "#2a3f5f"
           }
          },
          "ternary": {
           "aaxis": {
            "gridcolor": "white",
            "linecolor": "white",
            "ticks": ""
           },
           "baxis": {
            "gridcolor": "white",
            "linecolor": "white",
            "ticks": ""
           },
           "bgcolor": "#E5ECF6",
           "caxis": {
            "gridcolor": "white",
            "linecolor": "white",
            "ticks": ""
           }
          },
          "title": {
           "x": 0.05
          },
          "xaxis": {
           "automargin": true,
           "gridcolor": "white",
           "linecolor": "white",
           "ticks": "",
           "title": {
            "standoff": 15
           },
           "zerolinecolor": "white",
           "zerolinewidth": 2
          },
          "yaxis": {
           "automargin": true,
           "gridcolor": "white",
           "linecolor": "white",
           "ticks": "",
           "title": {
            "standoff": 15
           },
           "zerolinecolor": "white",
           "zerolinewidth": 2
          }
         }
        },
        "xaxis": {
         "anchor": "y",
         "domain": [
          0,
          1
         ],
         "title": {
          "text": "x"
         }
        },
        "yaxis": {
         "anchor": "x",
         "domain": [
          0,
          1
         ],
         "title": {
          "text": "y"
         }
        }
       }
      },
      "text/html": [
       "<div>                            <div id=\"e09e46e3-89a5-4850-9432-a6becb3617cb\" class=\"plotly-graph-div\" style=\"height:525px; width:100%;\"></div>            <script type=\"text/javascript\">                require([\"plotly\"], function(Plotly) {                    window.PLOTLYENV=window.PLOTLYENV || {};                                    if (document.getElementById(\"e09e46e3-89a5-4850-9432-a6becb3617cb\")) {                    Plotly.newPlot(                        \"e09e46e3-89a5-4850-9432-a6becb3617cb\",                        [{\"hovertemplate\":\"x=%{x}<br>y=%{y}<extra></extra>\",\"legendgroup\":\"\",\"line\":{\"color\":\"#636efa\",\"dash\":\"solid\"},\"marker\":{\"symbol\":\"circle\"},\"mode\":\"lines\",\"name\":\"\",\"orientation\":\"v\",\"showlegend\":false,\"type\":\"scatter\",\"x\":[0,1,2,3,4],\"xaxis\":\"x\",\"y\":[2.4611504077911377,2.4611504077911377,2.4611504077911377,2.4611504077911377,2.4611504077911377],\"yaxis\":\"y\"},{\"mode\":\"lines\",\"type\":\"scatter\",\"x\":[0,1,2,3,4],\"y\":[0.10119047619047619,0.10119047619047619,0.10119047619047619,0.10119047619047619,0.10119047619047619]},{\"mode\":\"lines\",\"type\":\"scatter\",\"x\":[0,1,2,3,4],\"y\":[0.16666666666666666,0.16666666666666666,0.16666666666666666,0.16666666666666666,0.16666666666666666]}],                        {\"legend\":{\"tracegroupgap\":0},\"margin\":{\"t\":60},\"template\":{\"data\":{\"bar\":[{\"error_x\":{\"color\":\"#2a3f5f\"},\"error_y\":{\"color\":\"#2a3f5f\"},\"marker\":{\"line\":{\"color\":\"#E5ECF6\",\"width\":0.5},\"pattern\":{\"fillmode\":\"overlay\",\"size\":10,\"solidity\":0.2}},\"type\":\"bar\"}],\"barpolar\":[{\"marker\":{\"line\":{\"color\":\"#E5ECF6\",\"width\":0.5},\"pattern\":{\"fillmode\":\"overlay\",\"size\":10,\"solidity\":0.2}},\"type\":\"barpolar\"}],\"carpet\":[{\"aaxis\":{\"endlinecolor\":\"#2a3f5f\",\"gridcolor\":\"white\",\"linecolor\":\"white\",\"minorgridcolor\":\"white\",\"startlinecolor\":\"#2a3f5f\"},\"baxis\":{\"endlinecolor\":\"#2a3f5f\",\"gridcolor\":\"white\",\"linecolor\":\"white\",\"minorgridcolor\":\"white\",\"startlinecolor\":\"#2a3f5f\"},\"type\":\"carpet\"}],\"choropleth\":[{\"colorbar\":{\"outlinewidth\":0,\"ticks\":\"\"},\"type\":\"choropleth\"}],\"contour\":[{\"colorbar\":{\"outlinewidth\":0,\"ticks\":\"\"},\"colorscale\":[[0.0,\"#0d0887\"],[0.1111111111111111,\"#46039f\"],[0.2222222222222222,\"#7201a8\"],[0.3333333333333333,\"#9c179e\"],[0.4444444444444444,\"#bd3786\"],[0.5555555555555556,\"#d8576b\"],[0.6666666666666666,\"#ed7953\"],[0.7777777777777778,\"#fb9f3a\"],[0.8888888888888888,\"#fdca26\"],[1.0,\"#f0f921\"]],\"type\":\"contour\"}],\"contourcarpet\":[{\"colorbar\":{\"outlinewidth\":0,\"ticks\":\"\"},\"type\":\"contourcarpet\"}],\"heatmap\":[{\"colorbar\":{\"outlinewidth\":0,\"ticks\":\"\"},\"colorscale\":[[0.0,\"#0d0887\"],[0.1111111111111111,\"#46039f\"],[0.2222222222222222,\"#7201a8\"],[0.3333333333333333,\"#9c179e\"],[0.4444444444444444,\"#bd3786\"],[0.5555555555555556,\"#d8576b\"],[0.6666666666666666,\"#ed7953\"],[0.7777777777777778,\"#fb9f3a\"],[0.8888888888888888,\"#fdca26\"],[1.0,\"#f0f921\"]],\"type\":\"heatmap\"}],\"heatmapgl\":[{\"colorbar\":{\"outlinewidth\":0,\"ticks\":\"\"},\"colorscale\":[[0.0,\"#0d0887\"],[0.1111111111111111,\"#46039f\"],[0.2222222222222222,\"#7201a8\"],[0.3333333333333333,\"#9c179e\"],[0.4444444444444444,\"#bd3786\"],[0.5555555555555556,\"#d8576b\"],[0.6666666666666666,\"#ed7953\"],[0.7777777777777778,\"#fb9f3a\"],[0.8888888888888888,\"#fdca26\"],[1.0,\"#f0f921\"]],\"type\":\"heatmapgl\"}],\"histogram\":[{\"marker\":{\"pattern\":{\"fillmode\":\"overlay\",\"size\":10,\"solidity\":0.2}},\"type\":\"histogram\"}],\"histogram2d\":[{\"colorbar\":{\"outlinewidth\":0,\"ticks\":\"\"},\"colorscale\":[[0.0,\"#0d0887\"],[0.1111111111111111,\"#46039f\"],[0.2222222222222222,\"#7201a8\"],[0.3333333333333333,\"#9c179e\"],[0.4444444444444444,\"#bd3786\"],[0.5555555555555556,\"#d8576b\"],[0.6666666666666666,\"#ed7953\"],[0.7777777777777778,\"#fb9f3a\"],[0.8888888888888888,\"#fdca26\"],[1.0,\"#f0f921\"]],\"type\":\"histogram2d\"}],\"histogram2dcontour\":[{\"colorbar\":{\"outlinewidth\":0,\"ticks\":\"\"},\"colorscale\":[[0.0,\"#0d0887\"],[0.1111111111111111,\"#46039f\"],[0.2222222222222222,\"#7201a8\"],[0.3333333333333333,\"#9c179e\"],[0.4444444444444444,\"#bd3786\"],[0.5555555555555556,\"#d8576b\"],[0.6666666666666666,\"#ed7953\"],[0.7777777777777778,\"#fb9f3a\"],[0.8888888888888888,\"#fdca26\"],[1.0,\"#f0f921\"]],\"type\":\"histogram2dcontour\"}],\"mesh3d\":[{\"colorbar\":{\"outlinewidth\":0,\"ticks\":\"\"},\"type\":\"mesh3d\"}],\"parcoords\":[{\"line\":{\"colorbar\":{\"outlinewidth\":0,\"ticks\":\"\"}},\"type\":\"parcoords\"}],\"pie\":[{\"automargin\":true,\"type\":\"pie\"}],\"scatter\":[{\"marker\":{\"colorbar\":{\"outlinewidth\":0,\"ticks\":\"\"}},\"type\":\"scatter\"}],\"scatter3d\":[{\"line\":{\"colorbar\":{\"outlinewidth\":0,\"ticks\":\"\"}},\"marker\":{\"colorbar\":{\"outlinewidth\":0,\"ticks\":\"\"}},\"type\":\"scatter3d\"}],\"scattercarpet\":[{\"marker\":{\"colorbar\":{\"outlinewidth\":0,\"ticks\":\"\"}},\"type\":\"scattercarpet\"}],\"scattergeo\":[{\"marker\":{\"colorbar\":{\"outlinewidth\":0,\"ticks\":\"\"}},\"type\":\"scattergeo\"}],\"scattergl\":[{\"marker\":{\"colorbar\":{\"outlinewidth\":0,\"ticks\":\"\"}},\"type\":\"scattergl\"}],\"scattermapbox\":[{\"marker\":{\"colorbar\":{\"outlinewidth\":0,\"ticks\":\"\"}},\"type\":\"scattermapbox\"}],\"scatterpolar\":[{\"marker\":{\"colorbar\":{\"outlinewidth\":0,\"ticks\":\"\"}},\"type\":\"scatterpolar\"}],\"scatterpolargl\":[{\"marker\":{\"colorbar\":{\"outlinewidth\":0,\"ticks\":\"\"}},\"type\":\"scatterpolargl\"}],\"scatterternary\":[{\"marker\":{\"colorbar\":{\"outlinewidth\":0,\"ticks\":\"\"}},\"type\":\"scatterternary\"}],\"surface\":[{\"colorbar\":{\"outlinewidth\":0,\"ticks\":\"\"},\"colorscale\":[[0.0,\"#0d0887\"],[0.1111111111111111,\"#46039f\"],[0.2222222222222222,\"#7201a8\"],[0.3333333333333333,\"#9c179e\"],[0.4444444444444444,\"#bd3786\"],[0.5555555555555556,\"#d8576b\"],[0.6666666666666666,\"#ed7953\"],[0.7777777777777778,\"#fb9f3a\"],[0.8888888888888888,\"#fdca26\"],[1.0,\"#f0f921\"]],\"type\":\"surface\"}],\"table\":[{\"cells\":{\"fill\":{\"color\":\"#EBF0F8\"},\"line\":{\"color\":\"white\"}},\"header\":{\"fill\":{\"color\":\"#C8D4E3\"},\"line\":{\"color\":\"white\"}},\"type\":\"table\"}]},\"layout\":{\"annotationdefaults\":{\"arrowcolor\":\"#2a3f5f\",\"arrowhead\":0,\"arrowwidth\":1},\"autotypenumbers\":\"strict\",\"coloraxis\":{\"colorbar\":{\"outlinewidth\":0,\"ticks\":\"\"}},\"colorscale\":{\"diverging\":[[0,\"#8e0152\"],[0.1,\"#c51b7d\"],[0.2,\"#de77ae\"],[0.3,\"#f1b6da\"],[0.4,\"#fde0ef\"],[0.5,\"#f7f7f7\"],[0.6,\"#e6f5d0\"],[0.7,\"#b8e186\"],[0.8,\"#7fbc41\"],[0.9,\"#4d9221\"],[1,\"#276419\"]],\"sequential\":[[0.0,\"#0d0887\"],[0.1111111111111111,\"#46039f\"],[0.2222222222222222,\"#7201a8\"],[0.3333333333333333,\"#9c179e\"],[0.4444444444444444,\"#bd3786\"],[0.5555555555555556,\"#d8576b\"],[0.6666666666666666,\"#ed7953\"],[0.7777777777777778,\"#fb9f3a\"],[0.8888888888888888,\"#fdca26\"],[1.0,\"#f0f921\"]],\"sequentialminus\":[[0.0,\"#0d0887\"],[0.1111111111111111,\"#46039f\"],[0.2222222222222222,\"#7201a8\"],[0.3333333333333333,\"#9c179e\"],[0.4444444444444444,\"#bd3786\"],[0.5555555555555556,\"#d8576b\"],[0.6666666666666666,\"#ed7953\"],[0.7777777777777778,\"#fb9f3a\"],[0.8888888888888888,\"#fdca26\"],[1.0,\"#f0f921\"]]},\"colorway\":[\"#636efa\",\"#EF553B\",\"#00cc96\",\"#ab63fa\",\"#FFA15A\",\"#19d3f3\",\"#FF6692\",\"#B6E880\",\"#FF97FF\",\"#FECB52\"],\"font\":{\"color\":\"#2a3f5f\"},\"geo\":{\"bgcolor\":\"white\",\"lakecolor\":\"white\",\"landcolor\":\"#E5ECF6\",\"showlakes\":true,\"showland\":true,\"subunitcolor\":\"white\"},\"hoverlabel\":{\"align\":\"left\"},\"hovermode\":\"closest\",\"mapbox\":{\"style\":\"light\"},\"paper_bgcolor\":\"white\",\"plot_bgcolor\":\"#E5ECF6\",\"polar\":{\"angularaxis\":{\"gridcolor\":\"white\",\"linecolor\":\"white\",\"ticks\":\"\"},\"bgcolor\":\"#E5ECF6\",\"radialaxis\":{\"gridcolor\":\"white\",\"linecolor\":\"white\",\"ticks\":\"\"}},\"scene\":{\"xaxis\":{\"backgroundcolor\":\"#E5ECF6\",\"gridcolor\":\"white\",\"gridwidth\":2,\"linecolor\":\"white\",\"showbackground\":true,\"ticks\":\"\",\"zerolinecolor\":\"white\"},\"yaxis\":{\"backgroundcolor\":\"#E5ECF6\",\"gridcolor\":\"white\",\"gridwidth\":2,\"linecolor\":\"white\",\"showbackground\":true,\"ticks\":\"\",\"zerolinecolor\":\"white\"},\"zaxis\":{\"backgroundcolor\":\"#E5ECF6\",\"gridcolor\":\"white\",\"gridwidth\":2,\"linecolor\":\"white\",\"showbackground\":true,\"ticks\":\"\",\"zerolinecolor\":\"white\"}},\"shapedefaults\":{\"line\":{\"color\":\"#2a3f5f\"}},\"ternary\":{\"aaxis\":{\"gridcolor\":\"white\",\"linecolor\":\"white\",\"ticks\":\"\"},\"baxis\":{\"gridcolor\":\"white\",\"linecolor\":\"white\",\"ticks\":\"\"},\"bgcolor\":\"#E5ECF6\",\"caxis\":{\"gridcolor\":\"white\",\"linecolor\":\"white\",\"ticks\":\"\"}},\"title\":{\"x\":0.05},\"xaxis\":{\"automargin\":true,\"gridcolor\":\"white\",\"linecolor\":\"white\",\"ticks\":\"\",\"title\":{\"standoff\":15},\"zerolinecolor\":\"white\",\"zerolinewidth\":2},\"yaxis\":{\"automargin\":true,\"gridcolor\":\"white\",\"linecolor\":\"white\",\"ticks\":\"\",\"title\":{\"standoff\":15},\"zerolinecolor\":\"white\",\"zerolinewidth\":2}}},\"xaxis\":{\"anchor\":\"y\",\"domain\":[0.0,1.0],\"title\":{\"text\":\"x\"}},\"yaxis\":{\"anchor\":\"x\",\"domain\":[0.0,1.0],\"title\":{\"text\":\"y\"}}},                        {\"responsive\": true}                    ).then(function(){\n",
       "                            \n",
       "var gd = document.getElementById('e09e46e3-89a5-4850-9432-a6becb3617cb');\n",
       "var x = new MutationObserver(function (mutations, observer) {{\n",
       "        var display = window.getComputedStyle(gd).display;\n",
       "        if (!display || display === 'none') {{\n",
       "            console.log([gd, 'removed!']);\n",
       "            Plotly.purge(gd);\n",
       "            observer.disconnect();\n",
       "        }}\n",
       "}});\n",
       "\n",
       "// Listen for the removal of the full notebook cells\n",
       "var notebookContainer = gd.closest('#notebook-container');\n",
       "if (notebookContainer) {{\n",
       "    x.observe(notebookContainer, {childList: true});\n",
       "}}\n",
       "\n",
       "// Listen for the clearing of the current output cell\n",
       "var outputEl = gd.closest('.output');\n",
       "if (outputEl) {{\n",
       "    x.observe(outputEl, {childList: true});\n",
       "}}\n",
       "\n",
       "                        })                };                });            </script>        </div>"
      ],
      "text/plain": [
       "Figure({\n",
       "    'data': [{'hovertemplate': 'x=%{x}<br>y=%{y}<extra></extra>',\n",
       "              'legendgroup': '',\n",
       "              'line': {'color': '#636efa', 'dash': 'solid'},\n",
       "              'marker': {'symbol': 'circle'},\n",
       "              'mode': 'lines',\n",
       "              'name': '',\n",
       "              'orientation': 'v',\n",
       "              'showlegend': False,\n",
       "              'type': 'scatter',\n",
       "              'x': array([0, 1, 2, 3, 4]),\n",
       "              'xaxis': 'x',\n",
       "              'y': array([2.46115041, 2.46115041, 2.46115041, 2.46115041, 2.46115041]),\n",
       "              'yaxis': 'y'},\n",
       "             {'mode': 'lines',\n",
       "              'type': 'scatter',\n",
       "              'x': [0, 1, 2, 3, 4],\n",
       "              'y': [0.10119047619047619, 0.10119047619047619, 0.10119047619047619,\n",
       "                    0.10119047619047619, 0.10119047619047619]},\n",
       "             {'mode': 'lines',\n",
       "              'type': 'scatter',\n",
       "              'x': [0, 1, 2, 3, 4],\n",
       "              'y': [0.16666666666666666, 0.16666666666666666, 0.16666666666666666,\n",
       "                    0.16666666666666666, 0.16666666666666666]}],\n",
       "    'layout': {'legend': {'tracegroupgap': 0},\n",
       "               'margin': {'t': 60},\n",
       "               'template': '...',\n",
       "               'xaxis': {'anchor': 'y', 'domain': [0.0, 1.0], 'title': {'text': 'x'}},\n",
       "               'yaxis': {'anchor': 'x', 'domain': [0.0, 1.0], 'title': {'text': 'y'}}}\n",
       "})"
      ]
     },
     "execution_count": 73,
     "metadata": {},
     "output_type": "execute_result"
    }
   ],
   "source": [
    "fig = px.line(x=epoch,y=losses)\n",
    "fig.add_scatter(x=epoch, y=accuracies, mode='lines')\n",
    "fig.add_scatter(x=epoch, y=macro_accuracies, mode='lines')\n",
    "# fig.add(px.line(x=epoch,y=accuracies))\n",
    "# fig.add(px.line(x=epoch,y=macro_accuracies))\n"
   ]
  },
  {
   "cell_type": "code",
   "execution_count": 48,
   "metadata": {},
   "outputs": [],
   "source": [
    "sd_test = ScreamDataset(TEST_ANNOTATIONS_FILE, TEST_AUDIO_DIR, mel_spectrogram, DEVICE)\n",
    "# test_dataloader= create_data_loader(sd_test,BATCH_SIZE)\n",
    "# Loading entire dataset into lists\n",
    "test_inputs=[]\n",
    "for i in range(len(sd_test)):\n",
    "    test_inputs.append(sd_test[i])"
   ]
  },
  {
   "cell_type": "code",
   "execution_count": 49,
   "metadata": {},
   "outputs": [
    {
     "data": {
      "text/plain": [
       "torch.Size([1, 64, 87])"
      ]
     },
     "execution_count": 49,
     "metadata": {},
     "output_type": "execute_result"
    }
   ],
   "source": [
    "test_inputs[0][0].shape"
   ]
  },
  {
   "cell_type": "code",
   "execution_count": 52,
   "metadata": {},
   "outputs": [
    {
     "name": "stdout",
     "output_type": "stream",
     "text": [
      "torch.Size([1, 1, 64, 87])\n",
      "torch.Size([1, 1, 64, 87])\n",
      "torch.Size([1, 1, 64, 87])\n",
      "torch.Size([1, 1, 64, 87])\n",
      "torch.Size([1, 1, 64, 87])\n",
      "torch.Size([1, 1, 64, 87])\n",
      "torch.Size([1, 1, 64, 87])\n",
      "torch.Size([1, 1, 64, 87])\n",
      "torch.Size([1, 1, 64, 87])\n",
      "torch.Size([1, 1, 64, 87])\n",
      "torch.Size([1, 1, 64, 87])\n",
      "torch.Size([1, 1, 64, 87])\n",
      "torch.Size([1, 1, 64, 87])\n",
      "torch.Size([1, 1, 64, 87])\n",
      "torch.Size([1, 1, 64, 87])\n",
      "torch.Size([1, 1, 64, 87])\n",
      "torch.Size([1, 1, 64, 87])\n",
      "torch.Size([1, 1, 64, 87])\n",
      "torch.Size([1, 1, 64, 87])\n",
      "torch.Size([1, 1, 64, 87])\n",
      "torch.Size([1, 1, 64, 87])\n",
      "torch.Size([1, 1, 64, 87])\n",
      "torch.Size([1, 1, 64, 87])\n",
      "torch.Size([1, 1, 64, 87])\n",
      "torch.Size([1, 1, 64, 87])\n",
      "torch.Size([1, 1, 64, 87])\n",
      "torch.Size([1, 1, 64, 87])\n",
      "torch.Size([1, 1, 64, 87])\n",
      "torch.Size([1, 1, 64, 87])\n",
      "torch.Size([1, 1, 64, 87])\n",
      "torch.Size([1, 1, 64, 87])\n",
      "torch.Size([1, 1, 64, 87])\n",
      "torch.Size([1, 1, 64, 87])\n",
      "torch.Size([1, 1, 64, 87])\n",
      "torch.Size([1, 1, 64, 87])\n",
      "torch.Size([1, 1, 64, 87])\n",
      "torch.Size([1, 1, 64, 87])\n",
      "torch.Size([1, 1, 64, 87])\n",
      "torch.Size([1, 1, 64, 87])\n",
      "torch.Size([1, 1, 64, 87])\n",
      "torch.Size([1, 1, 64, 87])\n",
      "torch.Size([1, 1, 64, 87])\n",
      "torch.Size([1, 1, 64, 87])\n",
      "torch.Size([1, 1, 64, 87])\n",
      "torch.Size([1, 1, 64, 87])\n",
      "torch.Size([1, 1, 64, 87])\n",
      "torch.Size([1, 1, 64, 87])\n",
      "torch.Size([1, 1, 64, 87])\n",
      "torch.Size([1, 1, 64, 87])\n",
      "torch.Size([1, 1, 64, 87])\n",
      "torch.Size([1, 1, 64, 87])\n",
      "torch.Size([1, 1, 64, 87])\n",
      "torch.Size([1, 1, 64, 87])\n",
      "torch.Size([1, 1, 64, 87])\n",
      "torch.Size([1, 1, 64, 87])\n",
      "torch.Size([1, 1, 64, 87])\n",
      "torch.Size([1, 1, 64, 87])\n",
      "torch.Size([1, 1, 64, 87])\n",
      "torch.Size([1, 1, 64, 87])\n",
      "torch.Size([1, 1, 64, 87])\n",
      "torch.Size([1, 1, 64, 87])\n",
      "torch.Size([1, 1, 64, 87])\n",
      "torch.Size([1, 1, 64, 87])\n",
      "torch.Size([1, 1, 64, 87])\n",
      "torch.Size([1, 1, 64, 87])\n",
      "torch.Size([1, 1, 64, 87])\n",
      "torch.Size([1, 1, 64, 87])\n",
      "torch.Size([1, 1, 64, 87])\n",
      "torch.Size([1, 1, 64, 87])\n",
      "torch.Size([1, 1, 64, 87])\n",
      "torch.Size([1, 1, 64, 87])\n",
      "torch.Size([1, 1, 64, 87])\n",
      "torch.Size([1, 1, 64, 87])\n",
      "torch.Size([1, 1, 64, 87])\n",
      "torch.Size([1, 1, 64, 87])\n",
      "torch.Size([1, 1, 64, 87])\n",
      "torch.Size([1, 1, 64, 87])\n",
      "torch.Size([1, 1, 64, 87])\n",
      "torch.Size([1, 1, 64, 87])\n",
      "torch.Size([1, 1, 64, 87])\n",
      "torch.Size([1, 1, 64, 87])\n",
      "torch.Size([1, 1, 64, 87])\n",
      "torch.Size([1, 1, 64, 87])\n",
      "torch.Size([1, 1, 64, 87])\n",
      "torch.Size([1, 1, 64, 87])\n",
      "torch.Size([1, 1, 64, 87])\n",
      "torch.Size([1, 1, 64, 87])\n",
      "torch.Size([1, 1, 64, 87])\n",
      "torch.Size([1, 1, 64, 87])\n",
      "torch.Size([1, 1, 64, 87])\n",
      "torch.Size([1, 1, 64, 87])\n",
      "torch.Size([1, 1, 64, 87])\n",
      "torch.Size([1, 1, 64, 87])\n",
      "torch.Size([1, 1, 64, 87])\n",
      "torch.Size([1, 1, 64, 87])\n",
      "torch.Size([1, 1, 64, 87])\n",
      "torch.Size([1, 1, 64, 87])\n",
      "torch.Size([1, 1, 64, 87])\n",
      "torch.Size([1, 1, 64, 87])\n",
      "torch.Size([1, 1, 64, 87])\n",
      "torch.Size([1, 1, 64, 87])\n",
      "torch.Size([1, 1, 64, 87])\n",
      "torch.Size([1, 1, 64, 87])\n",
      "torch.Size([1, 1, 64, 87])\n",
      "torch.Size([1, 1, 64, 87])\n",
      "torch.Size([1, 1, 64, 87])\n",
      "torch.Size([1, 1, 64, 87])\n",
      "torch.Size([1, 1, 64, 87])\n",
      "torch.Size([1, 1, 64, 87])\n",
      "torch.Size([1, 1, 64, 87])\n",
      "torch.Size([1, 1, 64, 87])\n",
      "torch.Size([1, 1, 64, 87])\n",
      "torch.Size([1, 1, 64, 87])\n",
      "torch.Size([1, 1, 64, 87])\n",
      "torch.Size([1, 1, 64, 87])\n",
      "torch.Size([1, 1, 64, 87])\n",
      "torch.Size([1, 1, 64, 87])\n",
      "torch.Size([1, 1, 64, 87])\n",
      "torch.Size([1, 1, 64, 87])\n",
      "torch.Size([1, 1, 64, 87])\n",
      "torch.Size([1, 1, 64, 87])\n",
      "torch.Size([1, 1, 64, 87])\n",
      "torch.Size([1, 1, 64, 87])\n",
      "torch.Size([1, 1, 64, 87])\n",
      "torch.Size([1, 1, 64, 87])\n",
      "torch.Size([1, 1, 64, 87])\n",
      "torch.Size([1, 1, 64, 87])\n",
      "torch.Size([1, 1, 64, 87])\n",
      "torch.Size([1, 1, 64, 87])\n",
      "torch.Size([1, 1, 64, 87])\n",
      "torch.Size([1, 1, 64, 87])\n",
      "torch.Size([1, 1, 64, 87])\n",
      "torch.Size([1, 1, 64, 87])\n",
      "torch.Size([1, 1, 64, 87])\n",
      "torch.Size([1, 1, 64, 87])\n",
      "torch.Size([1, 1, 64, 87])\n",
      "torch.Size([1, 1, 64, 87])\n",
      "torch.Size([1, 1, 64, 87])\n",
      "torch.Size([1, 1, 64, 87])\n",
      "torch.Size([1, 1, 64, 87])\n",
      "torch.Size([1, 1, 64, 87])\n",
      "torch.Size([1, 1, 64, 87])\n",
      "torch.Size([1, 1, 64, 87])\n",
      "torch.Size([1, 1, 64, 87])\n",
      "torch.Size([1, 1, 64, 87])\n",
      "torch.Size([1, 1, 64, 87])\n",
      "torch.Size([1, 1, 64, 87])\n",
      "torch.Size([1, 1, 64, 87])\n",
      "torch.Size([1, 1, 64, 87])\n",
      "torch.Size([1, 1, 64, 87])\n",
      "torch.Size([1, 1, 64, 87])\n",
      "torch.Size([1, 1, 64, 87])\n",
      "torch.Size([1, 1, 64, 87])\n",
      "torch.Size([1, 1, 64, 87])\n",
      "torch.Size([1, 1, 64, 87])\n",
      "torch.Size([1, 1, 64, 87])\n",
      "torch.Size([1, 1, 64, 87])\n",
      "torch.Size([1, 1, 64, 87])\n",
      "torch.Size([1, 1, 64, 87])\n",
      "torch.Size([1, 1, 64, 87])\n",
      "torch.Size([1, 1, 64, 87])\n",
      "torch.Size([1, 1, 64, 87])\n",
      "torch.Size([1, 1, 64, 87])\n",
      "torch.Size([1, 1, 64, 87])\n",
      "torch.Size([1, 1, 64, 87])\n",
      "torch.Size([1, 1, 64, 87])\n",
      "torch.Size([1, 1, 64, 87])\n",
      "torch.Size([1, 1, 64, 87])\n",
      "torch.Size([1, 1, 64, 87])\n",
      "torch.Size([1, 1, 64, 87])\n",
      "torch.Size([1, 1, 64, 87])\n",
      "torch.Size([1, 1, 64, 87])\n",
      "torch.Size([1, 1, 64, 87])\n",
      "torch.Size([1, 1, 64, 87])\n",
      "torch.Size([1, 1, 64, 87])\n",
      "torch.Size([1, 1, 64, 87])\n",
      "torch.Size([1, 1, 64, 87])\n",
      "torch.Size([1, 1, 64, 87])\n",
      "torch.Size([1, 1, 64, 87])\n",
      "torch.Size([1, 1, 64, 87])\n",
      "torch.Size([1, 1, 64, 87])\n",
      "torch.Size([1, 1, 64, 87])\n",
      "torch.Size([1, 1, 64, 87])\n",
      "torch.Size([1, 1, 64, 87])\n",
      "torch.Size([1, 1, 64, 87])\n",
      "torch.Size([1, 1, 64, 87])\n",
      "torch.Size([1, 1, 64, 87])\n",
      "torch.Size([1, 1, 64, 87])\n",
      "torch.Size([1, 1, 64, 87])\n",
      "torch.Size([1, 1, 64, 87])\n",
      "torch.Size([1, 1, 64, 87])\n",
      "torch.Size([1, 1, 64, 87])\n",
      "torch.Size([1, 1, 64, 87])\n",
      "torch.Size([1, 1, 64, 87])\n",
      "torch.Size([1, 1, 64, 87])\n",
      "torch.Size([1, 1, 64, 87])\n",
      "torch.Size([1, 1, 64, 87])\n",
      "torch.Size([1, 1, 64, 87])\n",
      "torch.Size([1, 1, 64, 87])\n",
      "torch.Size([1, 1, 64, 87])\n",
      "torch.Size([1, 1, 64, 87])\n",
      "torch.Size([1, 1, 64, 87])\n",
      "torch.Size([1, 1, 64, 87])\n",
      "torch.Size([1, 1, 64, 87])\n",
      "torch.Size([1, 1, 64, 87])\n",
      "torch.Size([1, 1, 64, 87])\n",
      "torch.Size([1, 1, 64, 87])\n",
      "torch.Size([1, 1, 64, 87])\n",
      "torch.Size([1, 1, 64, 87])\n",
      "torch.Size([1, 1, 64, 87])\n",
      "torch.Size([1, 1, 64, 87])\n",
      "torch.Size([1, 1, 64, 87])\n",
      "torch.Size([1, 1, 64, 87])\n",
      "torch.Size([1, 1, 64, 87])\n",
      "torch.Size([1, 1, 64, 87])\n",
      "torch.Size([1, 1, 64, 87])\n",
      "torch.Size([1, 1, 64, 87])\n",
      "torch.Size([1, 1, 64, 87])\n",
      "torch.Size([1, 1, 64, 87])\n",
      "torch.Size([1, 1, 64, 87])\n",
      "torch.Size([1, 1, 64, 87])\n",
      "torch.Size([1, 1, 64, 87])\n",
      "torch.Size([1, 1, 64, 87])\n",
      "torch.Size([1, 1, 64, 87])\n",
      "torch.Size([1, 1, 64, 87])\n",
      "torch.Size([1, 1, 64, 87])\n",
      "torch.Size([1, 1, 64, 87])\n",
      "torch.Size([1, 1, 64, 87])\n",
      "torch.Size([1, 1, 64, 87])\n",
      "torch.Size([1, 1, 64, 87])\n",
      "torch.Size([1, 1, 64, 87])\n",
      "torch.Size([1, 1, 64, 87])\n",
      "torch.Size([1, 1, 64, 87])\n",
      "torch.Size([1, 1, 64, 87])\n",
      "torch.Size([1, 1, 64, 87])\n",
      "torch.Size([1, 1, 64, 87])\n",
      "torch.Size([1, 1, 64, 87])\n",
      "torch.Size([1, 1, 64, 87])\n",
      "torch.Size([1, 1, 64, 87])\n",
      "torch.Size([1, 1, 64, 87])\n",
      "torch.Size([1, 1, 64, 87])\n",
      "torch.Size([1, 1, 64, 87])\n",
      "torch.Size([1, 1, 64, 87])\n",
      "torch.Size([1, 1, 64, 87])\n",
      "torch.Size([1, 1, 64, 87])\n",
      "torch.Size([1, 1, 64, 87])\n",
      "torch.Size([1, 1, 64, 87])\n",
      "torch.Size([1, 1, 64, 87])\n",
      "torch.Size([1, 1, 64, 87])\n",
      "torch.Size([1, 1, 64, 87])\n",
      "torch.Size([1, 1, 64, 87])\n",
      "torch.Size([1, 1, 64, 87])\n",
      "torch.Size([1, 1, 64, 87])\n",
      "torch.Size([1, 1, 64, 87])\n",
      "torch.Size([1, 1, 64, 87])\n",
      "torch.Size([1, 1, 64, 87])\n",
      "torch.Size([1, 1, 64, 87])\n",
      "torch.Size([1, 1, 64, 87])\n",
      "torch.Size([1, 1, 64, 87])\n",
      "torch.Size([1, 1, 64, 87])\n",
      "torch.Size([1, 1, 64, 87])\n",
      "torch.Size([1, 1, 64, 87])\n",
      "torch.Size([1, 1, 64, 87])\n",
      "torch.Size([1, 1, 64, 87])\n",
      "torch.Size([1, 1, 64, 87])\n",
      "torch.Size([1, 1, 64, 87])\n",
      "torch.Size([1, 1, 64, 87])\n",
      "torch.Size([1, 1, 64, 87])\n",
      "torch.Size([1, 1, 64, 87])\n",
      "torch.Size([1, 1, 64, 87])\n",
      "torch.Size([1, 1, 64, 87])\n",
      "torch.Size([1, 1, 64, 87])\n",
      "torch.Size([1, 1, 64, 87])\n",
      "torch.Size([1, 1, 64, 87])\n",
      "torch.Size([1, 1, 64, 87])\n",
      "torch.Size([1, 1, 64, 87])\n",
      "torch.Size([1, 1, 64, 87])\n",
      "torch.Size([1, 1, 64, 87])\n",
      "torch.Size([1, 1, 64, 87])\n",
      "torch.Size([1, 1, 64, 87])\n",
      "torch.Size([1, 1, 64, 87])\n",
      "torch.Size([1, 1, 64, 87])\n",
      "torch.Size([1, 1, 64, 87])\n",
      "torch.Size([1, 1, 64, 87])\n",
      "torch.Size([1, 1, 64, 87])\n",
      "torch.Size([1, 1, 64, 87])\n",
      "torch.Size([1, 1, 64, 87])\n",
      "torch.Size([1, 1, 64, 87])\n",
      "torch.Size([1, 1, 64, 87])\n",
      "torch.Size([1, 1, 64, 87])\n",
      "torch.Size([1, 1, 64, 87])\n",
      "torch.Size([1, 1, 64, 87])\n",
      "torch.Size([1, 1, 64, 87])\n",
      "torch.Size([1, 1, 64, 87])\n",
      "torch.Size([1, 1, 64, 87])\n",
      "torch.Size([1, 1, 64, 87])\n",
      "torch.Size([1, 1, 64, 87])\n",
      "torch.Size([1, 1, 64, 87])\n",
      "torch.Size([1, 1, 64, 87])\n",
      "torch.Size([1, 1, 64, 87])\n",
      "torch.Size([1, 1, 64, 87])\n",
      "torch.Size([1, 1, 64, 87])\n",
      "torch.Size([1, 1, 64, 87])\n",
      "torch.Size([1, 1, 64, 87])\n",
      "torch.Size([1, 1, 64, 87])\n",
      "torch.Size([1, 1, 64, 87])\n",
      "torch.Size([1, 1, 64, 87])\n",
      "torch.Size([1, 1, 64, 87])\n",
      "torch.Size([1, 1, 64, 87])\n",
      "torch.Size([1, 1, 64, 87])\n",
      "torch.Size([1, 1, 64, 87])\n",
      "torch.Size([1, 1, 64, 87])\n",
      "torch.Size([1, 1, 64, 87])\n",
      "torch.Size([1, 1, 64, 87])\n",
      "torch.Size([1, 1, 64, 87])\n",
      "torch.Size([1, 1, 64, 87])\n",
      "torch.Size([1, 1, 64, 87])\n",
      "torch.Size([1, 1, 64, 87])\n",
      "torch.Size([1, 1, 64, 87])\n",
      "torch.Size([1, 1, 64, 87])\n",
      "torch.Size([1, 1, 64, 87])\n",
      "torch.Size([1, 1, 64, 87])\n",
      "torch.Size([1, 1, 64, 87])\n",
      "torch.Size([1, 1, 64, 87])\n",
      "torch.Size([1, 1, 64, 87])\n",
      "torch.Size([1, 1, 64, 87])\n",
      "torch.Size([1, 1, 64, 87])\n",
      "torch.Size([1, 1, 64, 87])\n",
      "torch.Size([1, 1, 64, 87])\n",
      "torch.Size([1, 1, 64, 87])\n",
      "torch.Size([1, 1, 64, 87])\n",
      "torch.Size([1, 1, 64, 87])\n",
      "torch.Size([1, 1, 64, 87])\n",
      "torch.Size([1, 1, 64, 87])\n",
      "torch.Size([1, 1, 64, 87])\n",
      "torch.Size([1, 1, 64, 87])\n",
      "torch.Size([1, 1, 64, 87])\n",
      "torch.Size([1, 1, 64, 87])\n",
      "torch.Size([1, 1, 64, 87])\n",
      "torch.Size([1, 1, 64, 87])\n",
      "torch.Size([1, 1, 64, 87])\n",
      "torch.Size([1, 1, 64, 87])\n",
      "torch.Size([1, 1, 64, 87])\n",
      "torch.Size([1, 1, 64, 87])\n",
      "torch.Size([1, 1, 64, 87])\n",
      "torch.Size([1, 1, 64, 87])\n",
      "torch.Size([1, 1, 64, 87])\n",
      "torch.Size([1, 1, 64, 87])\n",
      "torch.Size([1, 1, 64, 87])\n",
      "torch.Size([1, 1, 64, 87])\n",
      "torch.Size([1, 1, 64, 87])\n",
      "torch.Size([1, 1, 64, 87])\n",
      "torch.Size([1, 1, 64, 87])\n",
      "torch.Size([1, 1, 64, 87])\n",
      "torch.Size([1, 1, 64, 87])\n",
      "torch.Size([1, 1, 64, 87])\n",
      "torch.Size([1, 1, 64, 87])\n",
      "torch.Size([1, 1, 64, 87])\n",
      "torch.Size([1, 1, 64, 87])\n",
      "torch.Size([1, 1, 64, 87])\n",
      "torch.Size([1, 1, 64, 87])\n",
      "torch.Size([1, 1, 64, 87])\n",
      "torch.Size([1, 1, 64, 87])\n",
      "torch.Size([1, 1, 64, 87])\n",
      "torch.Size([1, 1, 64, 87])\n",
      "torch.Size([1, 1, 64, 87])\n",
      "torch.Size([1, 1, 64, 87])\n",
      "torch.Size([1, 1, 64, 87])\n",
      "torch.Size([1, 1, 64, 87])\n",
      "torch.Size([1, 1, 64, 87])\n",
      "torch.Size([1, 1, 64, 87])\n",
      "torch.Size([1, 1, 64, 87])\n",
      "torch.Size([1, 1, 64, 87])\n",
      "torch.Size([1, 1, 64, 87])\n",
      "torch.Size([1, 1, 64, 87])\n",
      "torch.Size([1, 1, 64, 87])\n",
      "torch.Size([1, 1, 64, 87])\n",
      "torch.Size([1, 1, 64, 87])\n",
      "torch.Size([1, 1, 64, 87])\n",
      "torch.Size([1, 1, 64, 87])\n",
      "torch.Size([1, 1, 64, 87])\n",
      "torch.Size([1, 1, 64, 87])\n",
      "torch.Size([1, 1, 64, 87])\n",
      "torch.Size([1, 1, 64, 87])\n",
      "torch.Size([1, 1, 64, 87])\n",
      "torch.Size([1, 1, 64, 87])\n",
      "torch.Size([1, 1, 64, 87])\n",
      "torch.Size([1, 1, 64, 87])\n",
      "torch.Size([1, 1, 64, 87])\n",
      "torch.Size([1, 1, 64, 87])\n",
      "torch.Size([1, 1, 64, 87])\n",
      "torch.Size([1, 1, 64, 87])\n",
      "torch.Size([1, 1, 64, 87])\n",
      "torch.Size([1, 1, 64, 87])\n",
      "torch.Size([1, 1, 64, 87])\n",
      "torch.Size([1, 1, 64, 87])\n",
      "torch.Size([1, 1, 64, 87])\n",
      "torch.Size([1, 1, 64, 87])\n",
      "torch.Size([1, 1, 64, 87])\n",
      "torch.Size([1, 1, 64, 87])\n",
      "torch.Size([1, 1, 64, 87])\n",
      "torch.Size([1, 1, 64, 87])\n",
      "torch.Size([1, 1, 64, 87])\n",
      "torch.Size([1, 1, 64, 87])\n",
      "torch.Size([1, 1, 64, 87])\n",
      "torch.Size([1, 1, 64, 87])\n",
      "torch.Size([1, 1, 64, 87])\n",
      "torch.Size([1, 1, 64, 87])\n",
      "torch.Size([1, 1, 64, 87])\n",
      "torch.Size([1, 1, 64, 87])\n",
      "torch.Size([1, 1, 64, 87])\n",
      "torch.Size([1, 1, 64, 87])\n",
      "torch.Size([1, 1, 64, 87])\n",
      "torch.Size([1, 1, 64, 87])\n",
      "torch.Size([1, 1, 64, 87])\n",
      "torch.Size([1, 1, 64, 87])\n",
      "torch.Size([1, 1, 64, 87])\n",
      "torch.Size([1, 1, 64, 87])\n",
      "torch.Size([1, 1, 64, 87])\n",
      "torch.Size([1, 1, 64, 87])\n",
      "torch.Size([1, 1, 64, 87])\n",
      "torch.Size([1, 1, 64, 87])\n",
      "torch.Size([1, 1, 64, 87])\n",
      "torch.Size([1, 1, 64, 87])\n",
      "torch.Size([1, 1, 64, 87])\n",
      "torch.Size([1, 1, 64, 87])\n",
      "torch.Size([1, 1, 64, 87])\n",
      "torch.Size([1, 1, 64, 87])\n",
      "torch.Size([1, 1, 64, 87])\n",
      "torch.Size([1, 1, 64, 87])\n",
      "torch.Size([1, 1, 64, 87])\n",
      "torch.Size([1, 1, 64, 87])\n",
      "torch.Size([1, 1, 64, 87])\n",
      "torch.Size([1, 1, 64, 87])\n",
      "torch.Size([1, 1, 64, 87])\n",
      "torch.Size([1, 1, 64, 87])\n",
      "torch.Size([1, 1, 64, 87])\n",
      "torch.Size([1, 1, 64, 87])\n",
      "torch.Size([1, 1, 64, 87])\n",
      "torch.Size([1, 1, 64, 87])\n",
      "torch.Size([1, 1, 64, 87])\n",
      "torch.Size([1, 1, 64, 87])\n",
      "torch.Size([1, 1, 64, 87])\n",
      "torch.Size([1, 1, 64, 87])\n",
      "torch.Size([1, 1, 64, 87])\n",
      "torch.Size([1, 1, 64, 87])\n",
      "torch.Size([1, 1, 64, 87])\n",
      "torch.Size([1, 1, 64, 87])\n",
      "torch.Size([1, 1, 64, 87])\n",
      "torch.Size([1, 1, 64, 87])\n",
      "torch.Size([1, 1, 64, 87])\n",
      "torch.Size([1, 1, 64, 87])\n",
      "torch.Size([1, 1, 64, 87])\n",
      "torch.Size([1, 1, 64, 87])\n",
      "torch.Size([1, 1, 64, 87])\n",
      "torch.Size([1, 1, 64, 87])\n",
      "torch.Size([1, 1, 64, 87])\n",
      "torch.Size([1, 1, 64, 87])\n",
      "torch.Size([1, 1, 64, 87])\n",
      "torch.Size([1, 1, 64, 87])\n",
      "torch.Size([1, 1, 64, 87])\n",
      "torch.Size([1, 1, 64, 87])\n",
      "torch.Size([1, 1, 64, 87])\n",
      "torch.Size([1, 1, 64, 87])\n",
      "torch.Size([1, 1, 64, 87])\n",
      "torch.Size([1, 1, 64, 87])\n",
      "torch.Size([1, 1, 64, 87])\n",
      "torch.Size([1, 1, 64, 87])\n",
      "torch.Size([1, 1, 64, 87])\n",
      "torch.Size([1, 1, 64, 87])\n",
      "torch.Size([1, 1, 64, 87])\n",
      "torch.Size([1, 1, 64, 87])\n",
      "torch.Size([1, 1, 64, 87])\n",
      "torch.Size([1, 1, 64, 87])\n",
      "torch.Size([1, 1, 64, 87])\n",
      "torch.Size([1, 1, 64, 87])\n",
      "torch.Size([1, 1, 64, 87])\n",
      "torch.Size([1, 1, 64, 87])\n",
      "torch.Size([1, 1, 64, 87])\n",
      "torch.Size([1, 1, 64, 87])\n",
      "torch.Size([1, 1, 64, 87])\n",
      "torch.Size([1, 1, 64, 87])\n",
      "torch.Size([1, 1, 64, 87])\n",
      "torch.Size([1, 1, 64, 87])\n",
      "torch.Size([1, 1, 64, 87])\n",
      "torch.Size([1, 1, 64, 87])\n",
      "torch.Size([1, 1, 64, 87])\n",
      "torch.Size([1, 1, 64, 87])\n",
      "torch.Size([1, 1, 64, 87])\n",
      "torch.Size([1, 1, 64, 87])\n",
      "torch.Size([1, 1, 64, 87])\n",
      "torch.Size([1, 1, 64, 87])\n",
      "torch.Size([1, 1, 64, 87])\n",
      "torch.Size([1, 1, 64, 87])\n",
      "torch.Size([1, 1, 64, 87])\n",
      "torch.Size([1, 1, 64, 87])\n",
      "torch.Size([1, 1, 64, 87])\n",
      "torch.Size([1, 1, 64, 87])\n",
      "torch.Size([1, 1, 64, 87])\n",
      "torch.Size([1, 1, 64, 87])\n",
      "torch.Size([1, 1, 64, 87])\n",
      "torch.Size([1, 1, 64, 87])\n",
      "torch.Size([1, 1, 64, 87])\n",
      "torch.Size([1, 1, 64, 87])\n",
      "torch.Size([1, 1, 64, 87])\n",
      "torch.Size([1, 1, 64, 87])\n",
      "torch.Size([1, 1, 64, 87])\n",
      "torch.Size([1, 1, 64, 87])\n",
      "torch.Size([1, 1, 64, 87])\n",
      "torch.Size([1, 1, 64, 87])\n",
      "torch.Size([1, 1, 64, 87])\n",
      "torch.Size([1, 1, 64, 87])\n",
      "torch.Size([1, 1, 64, 87])\n",
      "torch.Size([1, 1, 64, 87])\n",
      "torch.Size([1, 1, 64, 87])\n",
      "torch.Size([1, 1, 64, 87])\n",
      "torch.Size([1, 1, 64, 87])\n",
      "torch.Size([1, 1, 64, 87])\n",
      "torch.Size([1, 1, 64, 87])\n",
      "torch.Size([1, 1, 64, 87])\n",
      "torch.Size([1, 1, 64, 87])\n",
      "torch.Size([1, 1, 64, 87])\n",
      "torch.Size([1, 1, 64, 87])\n",
      "torch.Size([1, 1, 64, 87])\n",
      "torch.Size([1, 1, 64, 87])\n",
      "torch.Size([1, 1, 64, 87])\n",
      "torch.Size([1, 1, 64, 87])\n",
      "torch.Size([1, 1, 64, 87])\n",
      "torch.Size([1, 1, 64, 87])\n",
      "torch.Size([1, 1, 64, 87])\n",
      "torch.Size([1, 1, 64, 87])\n",
      "torch.Size([1, 1, 64, 87])\n",
      "torch.Size([1, 1, 64, 87])\n",
      "torch.Size([1, 1, 64, 87])\n",
      "torch.Size([1, 1, 64, 87])\n",
      "torch.Size([1, 1, 64, 87])\n",
      "torch.Size([1, 1, 64, 87])\n",
      "torch.Size([1, 1, 64, 87])\n",
      "torch.Size([1, 1, 64, 87])\n",
      "torch.Size([1, 1, 64, 87])\n",
      "torch.Size([1, 1, 64, 87])\n",
      "torch.Size([1, 1, 64, 87])\n",
      "torch.Size([1, 1, 64, 87])\n",
      "torch.Size([1, 1, 64, 87])\n",
      "torch.Size([1, 1, 64, 87])\n",
      "torch.Size([1, 1, 64, 87])\n",
      "torch.Size([1, 1, 64, 87])\n",
      "torch.Size([1, 1, 64, 87])\n",
      "torch.Size([1, 1, 64, 87])\n",
      "torch.Size([1, 1, 64, 87])\n",
      "torch.Size([1, 1, 64, 87])\n",
      "torch.Size([1, 1, 64, 87])\n",
      "torch.Size([1, 1, 64, 87])\n",
      "torch.Size([1, 1, 64, 87])\n",
      "torch.Size([1, 1, 64, 87])\n",
      "torch.Size([1, 1, 64, 87])\n",
      "torch.Size([1, 1, 64, 87])\n",
      "torch.Size([1, 1, 64, 87])\n",
      "torch.Size([1, 1, 64, 87])\n",
      "torch.Size([1, 1, 64, 87])\n",
      "torch.Size([1, 1, 64, 87])\n",
      "torch.Size([1, 1, 64, 87])\n",
      "torch.Size([1, 1, 64, 87])\n",
      "torch.Size([1, 1, 64, 87])\n",
      "torch.Size([1, 1, 64, 87])\n",
      "torch.Size([1, 1, 64, 87])\n",
      "torch.Size([1, 1, 64, 87])\n",
      "torch.Size([1, 1, 64, 87])\n",
      "torch.Size([1, 1, 64, 87])\n",
      "torch.Size([1, 1, 64, 87])\n",
      "torch.Size([1, 1, 64, 87])\n",
      "torch.Size([1, 1, 64, 87])\n",
      "torch.Size([1, 1, 64, 87])\n",
      "torch.Size([1, 1, 64, 87])\n",
      "torch.Size([1, 1, 64, 87])\n",
      "torch.Size([1, 1, 64, 87])\n",
      "torch.Size([1, 1, 64, 87])\n",
      "torch.Size([1, 1, 64, 87])\n",
      "torch.Size([1, 1, 64, 87])\n",
      "torch.Size([1, 1, 64, 87])\n",
      "torch.Size([1, 1, 64, 87])\n",
      "torch.Size([1, 1, 64, 87])\n",
      "torch.Size([1, 1, 64, 87])\n",
      "torch.Size([1, 1, 64, 87])\n",
      "torch.Size([1, 1, 64, 87])\n",
      "torch.Size([1, 1, 64, 87])\n",
      "torch.Size([1, 1, 64, 87])\n",
      "torch.Size([1, 1, 64, 87])\n",
      "torch.Size([1, 1, 64, 87])\n",
      "torch.Size([1, 1, 64, 87])\n",
      "torch.Size([1, 1, 64, 87])\n",
      "torch.Size([1, 1, 64, 87])\n",
      "torch.Size([1, 1, 64, 87])\n",
      "torch.Size([1, 1, 64, 87])\n",
      "torch.Size([1, 1, 64, 87])\n",
      "torch.Size([1, 1, 64, 87])\n",
      "torch.Size([1, 1, 64, 87])\n",
      "torch.Size([1, 1, 64, 87])\n",
      "torch.Size([1, 1, 64, 87])\n",
      "torch.Size([1, 1, 64, 87])\n",
      "torch.Size([1, 1, 64, 87])\n",
      "torch.Size([1, 1, 64, 87])\n",
      "torch.Size([1, 1, 64, 87])\n",
      "torch.Size([1, 1, 64, 87])\n",
      "torch.Size([1, 1, 64, 87])\n",
      "torch.Size([1, 1, 64, 87])\n",
      "torch.Size([1, 1, 64, 87])\n",
      "torch.Size([1, 1, 64, 87])\n",
      "torch.Size([1, 1, 64, 87])\n",
      "torch.Size([1, 1, 64, 87])\n",
      "torch.Size([1, 1, 64, 87])\n",
      "torch.Size([1, 1, 64, 87])\n",
      "torch.Size([1, 1, 64, 87])\n",
      "torch.Size([1, 1, 64, 87])\n",
      "torch.Size([1, 1, 64, 87])\n",
      "torch.Size([1, 1, 64, 87])\n",
      "torch.Size([1, 1, 64, 87])\n",
      "torch.Size([1, 1, 64, 87])\n",
      "torch.Size([1, 1, 64, 87])\n",
      "torch.Size([1, 1, 64, 87])\n",
      "torch.Size([1, 1, 64, 87])\n",
      "torch.Size([1, 1, 64, 87])\n",
      "torch.Size([1, 1, 64, 87])\n",
      "torch.Size([1, 1, 64, 87])\n",
      "torch.Size([1, 1, 64, 87])\n",
      "torch.Size([1, 1, 64, 87])\n",
      "torch.Size([1, 1, 64, 87])\n",
      "torch.Size([1, 1, 64, 87])\n",
      "torch.Size([1, 1, 64, 87])\n",
      "torch.Size([1, 1, 64, 87])\n",
      "torch.Size([1, 1, 64, 87])\n",
      "torch.Size([1, 1, 64, 87])\n",
      "torch.Size([1, 1, 64, 87])\n",
      "torch.Size([1, 1, 64, 87])\n",
      "torch.Size([1, 1, 64, 87])\n",
      "torch.Size([1, 1, 64, 87])\n",
      "torch.Size([1, 1, 64, 87])\n",
      "torch.Size([1, 1, 64, 87])\n",
      "torch.Size([1, 1, 64, 87])\n",
      "torch.Size([1, 1, 64, 87])\n",
      "torch.Size([1, 1, 64, 87])\n",
      "torch.Size([1, 1, 64, 87])\n",
      "torch.Size([1, 1, 64, 87])\n",
      "torch.Size([1, 1, 64, 87])\n",
      "torch.Size([1, 1, 64, 87])\n",
      "torch.Size([1, 1, 64, 87])\n",
      "torch.Size([1, 1, 64, 87])\n",
      "torch.Size([1, 1, 64, 87])\n",
      "torch.Size([1, 1, 64, 87])\n",
      "torch.Size([1, 1, 64, 87])\n",
      "torch.Size([1, 1, 64, 87])\n",
      "torch.Size([1, 1, 64, 87])\n",
      "torch.Size([1, 1, 64, 87])\n",
      "torch.Size([1, 1, 64, 87])\n",
      "torch.Size([1, 1, 64, 87])\n",
      "torch.Size([1, 1, 64, 87])\n",
      "torch.Size([1, 1, 64, 87])\n",
      "torch.Size([1, 1, 64, 87])\n",
      "torch.Size([1, 1, 64, 87])\n",
      "torch.Size([1, 1, 64, 87])\n",
      "torch.Size([1, 1, 64, 87])\n",
      "torch.Size([1, 1, 64, 87])\n",
      "torch.Size([1, 1, 64, 87])\n",
      "torch.Size([1, 1, 64, 87])\n",
      "torch.Size([1, 1, 64, 87])\n",
      "torch.Size([1, 1, 64, 87])\n",
      "torch.Size([1, 1, 64, 87])\n",
      "torch.Size([1, 1, 64, 87])\n",
      "torch.Size([1, 1, 64, 87])\n",
      "torch.Size([1, 1, 64, 87])\n",
      "torch.Size([1, 1, 64, 87])\n",
      "torch.Size([1, 1, 64, 87])\n",
      "torch.Size([1, 1, 64, 87])\n",
      "torch.Size([1, 1, 64, 87])\n",
      "torch.Size([1, 1, 64, 87])\n",
      "torch.Size([1, 1, 64, 87])\n",
      "torch.Size([1, 1, 64, 87])\n",
      "torch.Size([1, 1, 64, 87])\n",
      "torch.Size([1, 1, 64, 87])\n",
      "torch.Size([1, 1, 64, 87])\n",
      "torch.Size([1, 1, 64, 87])\n",
      "torch.Size([1, 1, 64, 87])\n",
      "torch.Size([1, 1, 64, 87])\n",
      "torch.Size([1, 1, 64, 87])\n",
      "torch.Size([1, 1, 64, 87])\n",
      "torch.Size([1, 1, 64, 87])\n",
      "torch.Size([1, 1, 64, 87])\n",
      "torch.Size([1, 1, 64, 87])\n",
      "torch.Size([1, 1, 64, 87])\n",
      "torch.Size([1, 1, 64, 87])\n",
      "torch.Size([1, 1, 64, 87])\n",
      "torch.Size([1, 1, 64, 87])\n",
      "torch.Size([1, 1, 64, 87])\n",
      "torch.Size([1, 1, 64, 87])\n",
      "torch.Size([1, 1, 64, 87])\n",
      "torch.Size([1, 1, 64, 87])\n",
      "torch.Size([1, 1, 64, 87])\n",
      "torch.Size([1, 1, 64, 87])\n",
      "torch.Size([1, 1, 64, 87])\n",
      "torch.Size([1, 1, 64, 87])\n",
      "torch.Size([1, 1, 64, 87])\n",
      "torch.Size([1, 1, 64, 87])\n",
      "torch.Size([1, 1, 64, 87])\n",
      "torch.Size([1, 1, 64, 87])\n",
      "torch.Size([1, 1, 64, 87])\n",
      "torch.Size([1, 1, 64, 87])\n",
      "torch.Size([1, 1, 64, 87])\n",
      "torch.Size([1, 1, 64, 87])\n",
      "torch.Size([1, 1, 64, 87])\n",
      "torch.Size([1, 1, 64, 87])\n",
      "torch.Size([1, 1, 64, 87])\n",
      "torch.Size([1, 1, 64, 87])\n",
      "torch.Size([1, 1, 64, 87])\n",
      "torch.Size([1, 1, 64, 87])\n",
      "torch.Size([1, 1, 64, 87])\n",
      "torch.Size([1, 1, 64, 87])\n",
      "torch.Size([1, 1, 64, 87])\n",
      "torch.Size([1, 1, 64, 87])\n",
      "torch.Size([1, 1, 64, 87])\n",
      "torch.Size([1, 1, 64, 87])\n",
      "torch.Size([1, 1, 64, 87])\n",
      "torch.Size([1, 1, 64, 87])\n",
      "torch.Size([1, 1, 64, 87])\n",
      "torch.Size([1, 1, 64, 87])\n",
      "torch.Size([1, 1, 64, 87])\n",
      "torch.Size([1, 1, 64, 87])\n",
      "torch.Size([1, 1, 64, 87])\n",
      "torch.Size([1, 1, 64, 87])\n",
      "torch.Size([1, 1, 64, 87])\n",
      "torch.Size([1, 1, 64, 87])\n",
      "torch.Size([1, 1, 64, 87])\n",
      "torch.Size([1, 1, 64, 87])\n",
      "torch.Size([1, 1, 64, 87])\n",
      "torch.Size([1, 1, 64, 87])\n",
      "torch.Size([1, 1, 64, 87])\n",
      "torch.Size([1, 1, 64, 87])\n",
      "torch.Size([1, 1, 64, 87])\n",
      "torch.Size([1, 1, 64, 87])\n",
      "torch.Size([1, 1, 64, 87])\n",
      "torch.Size([1, 1, 64, 87])\n",
      "torch.Size([1, 1, 64, 87])\n",
      "torch.Size([1, 1, 64, 87])\n",
      "torch.Size([1, 1, 64, 87])\n",
      "torch.Size([1, 1, 64, 87])\n",
      "torch.Size([1, 1, 64, 87])\n",
      "torch.Size([1, 1, 64, 87])\n",
      "torch.Size([1, 1, 64, 87])\n",
      "torch.Size([1, 1, 64, 87])\n",
      "torch.Size([1, 1, 64, 87])\n",
      "torch.Size([1, 1, 64, 87])\n",
      "torch.Size([1, 1, 64, 87])\n",
      "torch.Size([1, 1, 64, 87])\n",
      "torch.Size([1, 1, 64, 87])\n",
      "torch.Size([1, 1, 64, 87])\n",
      "torch.Size([1, 1, 64, 87])\n",
      "torch.Size([1, 1, 64, 87])\n",
      "torch.Size([1, 1, 64, 87])\n",
      "torch.Size([1, 1, 64, 87])\n",
      "torch.Size([1, 1, 64, 87])\n",
      "torch.Size([1, 1, 64, 87])\n",
      "torch.Size([1, 1, 64, 87])\n",
      "torch.Size([1, 1, 64, 87])\n",
      "torch.Size([1, 1, 64, 87])\n",
      "torch.Size([1, 1, 64, 87])\n",
      "torch.Size([1, 1, 64, 87])\n",
      "torch.Size([1, 1, 64, 87])\n",
      "torch.Size([1, 1, 64, 87])\n",
      "torch.Size([1, 1, 64, 87])\n",
      "torch.Size([1, 1, 64, 87])\n",
      "torch.Size([1, 1, 64, 87])\n",
      "torch.Size([1, 1, 64, 87])\n",
      "torch.Size([1, 1, 64, 87])\n",
      "torch.Size([1, 1, 64, 87])\n",
      "torch.Size([1, 1, 64, 87])\n",
      "torch.Size([1, 1, 64, 87])\n",
      "torch.Size([1, 1, 64, 87])\n",
      "torch.Size([1, 1, 64, 87])\n",
      "torch.Size([1, 1, 64, 87])\n",
      "torch.Size([1, 1, 64, 87])\n",
      "torch.Size([1, 1, 64, 87])\n",
      "torch.Size([1, 1, 64, 87])\n",
      "torch.Size([1, 1, 64, 87])\n",
      "torch.Size([1, 1, 64, 87])\n",
      "torch.Size([1, 1, 64, 87])\n",
      "torch.Size([1, 1, 64, 87])\n",
      "torch.Size([1, 1, 64, 87])\n",
      "torch.Size([1, 1, 64, 87])\n",
      "torch.Size([1, 1, 64, 87])\n",
      "torch.Size([1, 1, 64, 87])\n",
      "torch.Size([1, 1, 64, 87])\n",
      "torch.Size([1, 1, 64, 87])\n",
      "torch.Size([1, 1, 64, 87])\n",
      "torch.Size([1, 1, 64, 87])\n",
      "torch.Size([1, 1, 64, 87])\n",
      "torch.Size([1, 1, 64, 87])\n",
      "torch.Size([1, 1, 64, 87])\n",
      "torch.Size([1, 1, 64, 87])\n",
      "torch.Size([1, 1, 64, 87])\n",
      "torch.Size([1, 1, 64, 87])\n",
      "torch.Size([1, 1, 64, 87])\n",
      "torch.Size([1, 1, 64, 87])\n",
      "torch.Size([1, 1, 64, 87])\n",
      "torch.Size([1, 1, 64, 87])\n",
      "torch.Size([1, 1, 64, 87])\n",
      "torch.Size([1, 1, 64, 87])\n",
      "torch.Size([1, 1, 64, 87])\n",
      "torch.Size([1, 1, 64, 87])\n",
      "torch.Size([1, 1, 64, 87])\n",
      "torch.Size([1, 1, 64, 87])\n",
      "torch.Size([1, 1, 64, 87])\n",
      "torch.Size([1, 1, 64, 87])\n",
      "torch.Size([1, 1, 64, 87])\n",
      "torch.Size([1, 1, 64, 87])\n",
      "torch.Size([1, 1, 64, 87])\n",
      "torch.Size([1, 1, 64, 87])\n",
      "torch.Size([1, 1, 64, 87])\n",
      "torch.Size([1, 1, 64, 87])\n",
      "torch.Size([1, 1, 64, 87])\n",
      "torch.Size([1, 1, 64, 87])\n",
      "torch.Size([1, 1, 64, 87])\n",
      "torch.Size([1, 1, 64, 87])\n",
      "torch.Size([1, 1, 64, 87])\n",
      "torch.Size([1, 1, 64, 87])\n",
      "torch.Size([1, 1, 64, 87])\n",
      "torch.Size([1, 1, 64, 87])\n",
      "torch.Size([1, 1, 64, 87])\n",
      "torch.Size([1, 1, 64, 87])\n",
      "torch.Size([1, 1, 64, 87])\n",
      "torch.Size([1, 1, 64, 87])\n",
      "torch.Size([1, 1, 64, 87])\n",
      "torch.Size([1, 1, 64, 87])\n",
      "torch.Size([1, 1, 64, 87])\n",
      "torch.Size([1, 1, 64, 87])\n",
      "torch.Size([1, 1, 64, 87])\n",
      "torch.Size([1, 1, 64, 87])\n",
      "torch.Size([1, 1, 64, 87])\n",
      "torch.Size([1, 1, 64, 87])\n",
      "torch.Size([1, 1, 64, 87])\n",
      "torch.Size([1, 1, 64, 87])\n",
      "torch.Size([1, 1, 64, 87])\n"
     ]
    }
   ],
   "source": [
    "for i in range(len(test_inputs)):\n",
    "    melspec,label = test_inputs[i]\n",
    "    print(melspec.unsqueeze(0).shape)"
   ]
  },
  {
   "cell_type": "code",
   "execution_count": 40,
   "metadata": {},
   "outputs": [
    {
     "data": {
      "text/plain": [
       "torch.Size([1, 1, 64, 87])"
      ]
     },
     "execution_count": 40,
     "metadata": {},
     "output_type": "execute_result"
    }
   ],
   "source": [
    "melspec.unsqueeze(0).shape"
   ]
  },
  {
   "cell_type": "code",
   "execution_count": null,
   "metadata": {},
   "outputs": [],
   "source": []
  }
 ],
 "metadata": {
  "interpreter": {
   "hash": "aa1ed07f7c130b96037f0156f068c250f39d8bb798ad1f62609d91fc8833d6fd"
  },
  "kernelspec": {
   "display_name": "Python 3.9.5 64-bit ('scream_detection': venv)",
   "name": "python3"
  },
  "language_info": {
   "codemirror_mode": {
    "name": "ipython",
    "version": 3
   },
   "file_extension": ".py",
   "mimetype": "text/x-python",
   "name": "python",
   "nbconvert_exporter": "python",
   "pygments_lexer": "ipython3",
   "version": "3.9.5"
  },
  "orig_nbformat": 4
 },
 "nbformat": 4,
 "nbformat_minor": 2
}
