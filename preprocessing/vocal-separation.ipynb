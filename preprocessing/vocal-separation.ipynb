{
 "cells": [
  {
   "cell_type": "code",
   "execution_count": 3,
   "metadata": {},
   "outputs": [],
   "source": [
    "import os\n",
    "from spleeter.separator import Separator\n",
    "import soundfile as sf\n",
    "import librosa\n",
    "# Using embedded configuration.\n",
    "separator = Separator('spleeter:2stems')\n",
    "\n",
    "# # Using custom configuration file.\n",
    "# separator = Separator('/path/to/config.json')"
   ]
  },
  {
   "cell_type": "code",
   "execution_count": 4,
   "metadata": {},
   "outputs": [
    {
     "name": "stdout",
     "output_type": "stream",
     "text": [
      "INFO:tensorflow:Apply unet for vocals_spectrogram\n",
      "INFO:tensorflow:Apply unet for accompaniment_spectrogram\n",
      "INFO:tensorflow:Restoring parameters from pretrained_models/2stems/model\n"
     ]
    }
   ],
   "source": [
    "# Use audio loader explicitly for loading audio waveform :\n",
    "from spleeter.audio.adapter import AudioAdapter\n",
    "\n",
    "audio_loader = AudioAdapter.default()\n",
    "sample_rate = 44100\n",
    "i=0\n",
    "loc='../resources/dataset/Audio/processed/'\n",
    "for file_name in os.listdir(loc):\n",
    "    if file_name.endswith(\".wav\"):\n",
    "        name=file_name[:-4]\n",
    "        waveform, _ = audio_loader.load(loc+file_name, sample_rate=sample_rate)\n",
    "        #waveform,_ = librosa.load(loc+file_name, sr=44100, mono=False)\n",
    "\n",
    "        # Perform the separation :\n",
    "        prediction = separator.separate(waveform)\n",
    "        sf.write('../resources/dataset/Audio/vocal_only/'+name+'_vocal.wav', prediction['vocals'], 44100)\n",
    "        # if i == 0:\n",
    "        #     print(prediction['vocals'])\n",
    "        #     break"
   ]
  },
  {
   "cell_type": "code",
   "execution_count": null,
   "metadata": {},
   "outputs": [],
   "source": []
  }
 ],
 "metadata": {
  "interpreter": {
   "hash": "e13bdd6243db8a6da9574b064c5863a583460d6627286572844384d265ece193"
  },
  "kernelspec": {
   "display_name": "Python 3.9.7 64-bit ('.venv': venv)",
   "name": "python3"
  },
  "language_info": {
   "codemirror_mode": {
    "name": "ipython",
    "version": 3
   },
   "file_extension": ".py",
   "mimetype": "text/x-python",
   "name": "python",
   "nbconvert_exporter": "python",
   "pygments_lexer": "ipython3",
   "version": "3.9.7"
  },
  "orig_nbformat": 4
 },
 "nbformat": 4,
 "nbformat_minor": 2
}
