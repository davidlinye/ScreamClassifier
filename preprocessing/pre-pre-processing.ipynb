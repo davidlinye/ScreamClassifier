{
 "cells": [
  {
   "cell_type": "code",
   "execution_count": 9,
   "metadata": {},
   "outputs": [
    {
     "ename": "AttributeError",
     "evalue": "partially initialized module 'pandas' has no attribute 'core' (most likely due to a circular import)",
     "output_type": "error",
     "traceback": [
      "\u001b[0;31m---------------------------------------------------------------------------\u001b[0m",
      "\u001b[0;31mAttributeError\u001b[0m                            Traceback (most recent call last)",
      "\u001b[1;32m/Users/mushroomgoo/Documents/S1course/API/ScreamClassifier/preprocessing/pre-pre-processing.ipynb Cell 1\u001b[0m line \u001b[0;36m4\n\u001b[1;32m      <a href='vscode-notebook-cell:/Users/mushroomgoo/Documents/S1course/API/ScreamClassifier/preprocessing/pre-pre-processing.ipynb#W0sZmlsZQ%3D%3D?line=1'>2</a>\u001b[0m \u001b[39mimport\u001b[39;00m \u001b[39mwave\u001b[39;00m\n\u001b[1;32m      <a href='vscode-notebook-cell:/Users/mushroomgoo/Documents/S1course/API/ScreamClassifier/preprocessing/pre-pre-processing.ipynb#W0sZmlsZQ%3D%3D?line=2'>3</a>\u001b[0m \u001b[39mimport\u001b[39;00m \u001b[39mcontextlib\u001b[39;00m\n\u001b[0;32m----> <a href='vscode-notebook-cell:/Users/mushroomgoo/Documents/S1course/API/ScreamClassifier/preprocessing/pre-pre-processing.ipynb#W0sZmlsZQ%3D%3D?line=3'>4</a>\u001b[0m \u001b[39mimport\u001b[39;00m \u001b[39mpandas\u001b[39;00m \u001b[39mas\u001b[39;00m \u001b[39mpd\u001b[39;00m\n\u001b[1;32m      <a href='vscode-notebook-cell:/Users/mushroomgoo/Documents/S1course/API/ScreamClassifier/preprocessing/pre-pre-processing.ipynb#W0sZmlsZQ%3D%3D?line=4'>5</a>\u001b[0m \u001b[39mimport\u001b[39;00m \u001b[39mshutil\u001b[39;00m\n\u001b[1;32m      <a href='vscode-notebook-cell:/Users/mushroomgoo/Documents/S1course/API/ScreamClassifier/preprocessing/pre-pre-processing.ipynb#W0sZmlsZQ%3D%3D?line=5'>6</a>\u001b[0m \u001b[39mimport\u001b[39;00m \u001b[39maudio_metadata\u001b[39;00m\n",
      "File \u001b[0;32m~/Library/Python/3.9/lib/python/site-packages/pandas/__init__.py:136\u001b[0m\n\u001b[1;32m    118\u001b[0m \u001b[39mfrom\u001b[39;00m \u001b[39mpandas\u001b[39;00m\u001b[39m.\u001b[39;00m\u001b[39mcore\u001b[39;00m\u001b[39m.\u001b[39;00m\u001b[39mreshape\u001b[39;00m\u001b[39m.\u001b[39;00m\u001b[39mapi\u001b[39;00m \u001b[39mimport\u001b[39;00m (\n\u001b[1;32m    119\u001b[0m     concat,\n\u001b[1;32m    120\u001b[0m     lreshape,\n\u001b[0;32m   (...)\u001b[0m\n\u001b[1;32m    132\u001b[0m     qcut,\n\u001b[1;32m    133\u001b[0m )\n\u001b[1;32m    135\u001b[0m \u001b[39mfrom\u001b[39;00m \u001b[39mpandas\u001b[39;00m \u001b[39mimport\u001b[39;00m api, arrays, errors, io, plotting, tseries\n\u001b[0;32m--> 136\u001b[0m \u001b[39mfrom\u001b[39;00m \u001b[39mpandas\u001b[39;00m \u001b[39mimport\u001b[39;00m testing\n\u001b[1;32m    137\u001b[0m \u001b[39mfrom\u001b[39;00m \u001b[39mpandas\u001b[39;00m\u001b[39m.\u001b[39;00m\u001b[39mutil\u001b[39;00m\u001b[39m.\u001b[39;00m\u001b[39m_print_versions\u001b[39;00m \u001b[39mimport\u001b[39;00m show_versions\n\u001b[1;32m    139\u001b[0m \u001b[39mfrom\u001b[39;00m \u001b[39mpandas\u001b[39;00m\u001b[39m.\u001b[39;00m\u001b[39mio\u001b[39;00m\u001b[39m.\u001b[39;00m\u001b[39mapi\u001b[39;00m \u001b[39mimport\u001b[39;00m (\n\u001b[1;32m    140\u001b[0m     \u001b[39m# excel\u001b[39;00m\n\u001b[1;32m    141\u001b[0m     ExcelFile,\n\u001b[0;32m   (...)\u001b[0m\n\u001b[1;32m    169\u001b[0m     read_spss,\n\u001b[1;32m    170\u001b[0m )\n",
      "File \u001b[0;32m~/Library/Python/3.9/lib/python/site-packages/pandas/testing.py:6\u001b[0m\n\u001b[1;32m      1\u001b[0m \u001b[39m\"\"\"\u001b[39;00m\n\u001b[1;32m      2\u001b[0m \u001b[39mPublic testing utility functions.\u001b[39;00m\n\u001b[1;32m      3\u001b[0m \u001b[39m\"\"\"\u001b[39;00m\n\u001b[0;32m----> 6\u001b[0m \u001b[39mfrom\u001b[39;00m \u001b[39mpandas\u001b[39;00m\u001b[39m.\u001b[39;00m\u001b[39m_testing\u001b[39;00m \u001b[39mimport\u001b[39;00m (\n\u001b[1;32m      7\u001b[0m     assert_extension_array_equal,\n\u001b[1;32m      8\u001b[0m     assert_frame_equal,\n\u001b[1;32m      9\u001b[0m     assert_index_equal,\n\u001b[1;32m     10\u001b[0m     assert_series_equal,\n\u001b[1;32m     11\u001b[0m )\n\u001b[1;32m     13\u001b[0m __all__ \u001b[39m=\u001b[39m [\n\u001b[1;32m     14\u001b[0m     \u001b[39m\"\u001b[39m\u001b[39massert_extension_array_equal\u001b[39m\u001b[39m\"\u001b[39m,\n\u001b[1;32m     15\u001b[0m     \u001b[39m\"\u001b[39m\u001b[39massert_frame_equal\u001b[39m\u001b[39m\"\u001b[39m,\n\u001b[1;32m     16\u001b[0m     \u001b[39m\"\u001b[39m\u001b[39massert_series_equal\u001b[39m\u001b[39m\"\u001b[39m,\n\u001b[1;32m     17\u001b[0m     \u001b[39m\"\u001b[39m\u001b[39massert_index_equal\u001b[39m\u001b[39m\"\u001b[39m,\n\u001b[1;32m     18\u001b[0m ]\n",
      "File \u001b[0;32m~/Library/Python/3.9/lib/python/site-packages/pandas/_testing/__init__.py:935\u001b[0m\n\u001b[1;32m    930\u001b[0m     \u001b[39mimport\u001b[39;00m \u001b[39mpytest\u001b[39;00m\n\u001b[1;32m    932\u001b[0m     \u001b[39mreturn\u001b[39;00m pytest\u001b[39m.\u001b[39mraises(expected_exception, match\u001b[39m=\u001b[39m\u001b[39mNone\u001b[39;00m)\n\u001b[0;32m--> 935\u001b[0m cython_table \u001b[39m=\u001b[39m pd\u001b[39m.\u001b[39;49mcore\u001b[39m.\u001b[39mcommon\u001b[39m.\u001b[39m_cython_table\u001b[39m.\u001b[39mitems()\n\u001b[1;32m    938\u001b[0m \u001b[39mdef\u001b[39;00m \u001b[39mget_cython_table_params\u001b[39m(ndframe, func_names_and_expected):\n\u001b[1;32m    939\u001b[0m \u001b[39m    \u001b[39m\u001b[39m\"\"\"\u001b[39;00m\n\u001b[1;32m    940\u001b[0m \u001b[39m    Combine frame, functions from com._cython_table\u001b[39;00m\n\u001b[1;32m    941\u001b[0m \u001b[39m    keys and expected result.\u001b[39;00m\n\u001b[0;32m   (...)\u001b[0m\n\u001b[1;32m    953\u001b[0m \u001b[39m        List of three items (DataFrame, function, expected result)\u001b[39;00m\n\u001b[1;32m    954\u001b[0m \u001b[39m    \"\"\"\u001b[39;00m\n",
      "\u001b[0;31mAttributeError\u001b[0m: partially initialized module 'pandas' has no attribute 'core' (most likely due to a circular import)"
     ]
    }
   ],
   "source": [
    "import os\n",
    "import wave\n",
    "import contextlib\n",
    "import pandas as pd\n",
    "import shutil\n",
    "import audio_metadata"
   ]
  },
  {
   "cell_type": "code",
   "execution_count": 4,
   "metadata": {},
   "outputs": [
    {
     "name": "stdout",
     "output_type": "stream",
     "text": [
      "/Users/mushroomgoo/Documents/S1course/API/ScreamClassifier/preprocessing\n"
     ]
    }
   ],
   "source": [
    "print(os.getcwd())"
   ]
  },
  {
   "cell_type": "markdown",
   "metadata": {},
   "source": [
    "# Pre-Processing the files\n",
    "Creating a band name-song name-video id lookup and renaming the file to the video id\n",
    "Video ID will be used to represent the files and the annotations, can be mapped back to song name using the lookup as required"
   ]
  },
  {
   "cell_type": "code",
   "execution_count": 5,
   "metadata": {},
   "outputs": [
    {
     "ename": "NameError",
     "evalue": "name 'pd' is not defined",
     "output_type": "error",
     "traceback": [
      "\u001b[0;31m---------------------------------------------------------------------------\u001b[0m",
      "\u001b[0;31mNameError\u001b[0m                                 Traceback (most recent call last)",
      "\u001b[1;32m/Users/mushroomgoo/Documents/S1course/API/ScreamClassifier/preprocessing/pre-pre-processing.ipynb Cell 4\u001b[0m line \u001b[0;36m1\n\u001b[0;32m----> <a href='vscode-notebook-cell:/Users/mushroomgoo/Documents/S1course/API/ScreamClassifier/preprocessing/pre-pre-processing.ipynb#W3sZmlsZQ%3D%3D?line=0'>1</a>\u001b[0m df\u001b[39m=\u001b[39mpd\u001b[39m.\u001b[39mDataFrame()\n\u001b[1;32m      <a href='vscode-notebook-cell:/Users/mushroomgoo/Documents/S1course/API/ScreamClassifier/preprocessing/pre-pre-processing.ipynb#W3sZmlsZQ%3D%3D?line=1'>2</a>\u001b[0m band_name\u001b[39m=\u001b[39m[]\n\u001b[1;32m      <a href='vscode-notebook-cell:/Users/mushroomgoo/Documents/S1course/API/ScreamClassifier/preprocessing/pre-pre-processing.ipynb#W3sZmlsZQ%3D%3D?line=2'>3</a>\u001b[0m album_name\u001b[39m=\u001b[39m[]\n",
      "\u001b[0;31mNameError\u001b[0m: name 'pd' is not defined"
     ]
    }
   ],
   "source": [
    "df=pd.DataFrame()\n",
    "band_name=[]\n",
    "album_name=[]\n",
    "video_id=[]\n",
    "release_year=[]\n",
    "song_name=[]\n",
    "bit_depth=[] \n",
    "bitrate=[]\n",
    "channels=[]\n",
    "duration=[]\n",
    "sample_rate=[]\n",
    "\n",
    "\n",
    "loc='./resources/dataset/YTDownloads/'\n",
    "for file_name in os.listdir(loc):\n",
    "    if file_name.endswith(\".wav\"):\n",
    "        #print(file_name)\n",
    "        m1=audio_metadata.load(loc+file_name)\n",
    "        bit_depth.append(m1['streaminfo']['bit_depth'])\n",
    "        bitrate.append(m1['streaminfo']['bitrate'])\n",
    "        channels.append(m1['streaminfo']['channels'])\n",
    "        duration.append(m1['streaminfo']['duration'])\n",
    "        sample_rate.append(m1['streaminfo']['sample_rate'])\n",
    "\n",
    "        name=file_name[:-4]\n",
    "        #print(name)\n",
    "        #print(name[-11:])\n",
    "        band_name_split=name.split(\" - \")\n",
    "        song_name_split=band_name_split[1].split(\" (\")\n",
    "        if len(song_name_split) == 1:\n",
    "            song_name_split=band_name_split[1].split(\"-\")\n",
    "        #print(band_name_split[0])\n",
    "        #print(song_name_split[0])\n",
    "        band=band_name_split[0]\n",
    "        band_name.append(band)\n",
    "        song=song_name_split[0]\n",
    "        song_name.append(song)\n",
    "        vid_id=name[-11:]\n",
    "        video_id.append(vid_id)\n",
    "\n",
    "        album_name.append(\"\")\n",
    "        release_year.append(\"\")\n",
    "        src='./resources/dataset/'+file_name\n",
    "        dst='./resources/dataset/final/'+vid_id+'.wav'\n",
    "        #shutil.copy2(src,dst)\n",
    "        \n",
    "    else:\n",
    "        continue\n",
    "\n",
    "df['band_name']=band_name\n",
    "df['album_name']=album_name\n",
    "df['song_name']=song_name\n",
    "df['release_year']=release_year\n",
    "df['duration_seconds']=duration\n",
    "df['video_id']=video_id\n",
    "df['bit_depth']=bit_depth\n",
    "df['bitrate']=bitrate\n",
    "df['channels']=channels\n",
    "\n",
    "df['sample_rate']=sample_rate\n",
    "df"
   ]
  },
  {
   "cell_type": "code",
   "execution_count": 60,
   "metadata": {},
   "outputs": [],
   "source": [
    "df.to_csv('./resources/dataset/lookup_post120.csv',header=True, index=False,encoding='utf-8-sig')"
   ]
  },
  {
   "cell_type": "code",
   "execution_count": 54,
   "metadata": {},
   "outputs": [],
   "source": [
    "audio_loc='./resources/dataset/Audio/'\n",
    "annotation_loc='./resources/dataset/Annotations'\n",
    "lookup_loc='./resources/dataset/lookup.csv'"
   ]
  },
  {
   "cell_type": "code",
   "execution_count": 55,
   "metadata": {},
   "outputs": [
    {
     "data": {
      "text/plain": [
       "\"\\nwith pd.option_context('display.max_rows', None, 'display.max_columns', None):\\n    display(lut)\""
      ]
     },
     "execution_count": 55,
     "metadata": {},
     "output_type": "execute_result"
    }
   ],
   "source": [
    "\"\"\"\n",
    "lut=pd.read_csv(lookup_loc)\n",
    "with pd.option_context('display.max_rows', None, 'display.max_columns', None):\n",
    "    display(lut)\"\"\""
   ]
  },
  {
   "cell_type": "code",
   "execution_count": 50,
   "metadata": {},
   "outputs": [],
   "source": [
    "import audio_metadata\n",
    "i=1\n",
    "loc='./resources/dataset/YTDownloads/'\n",
    "for file_name in os.listdir(audio_loc):\n",
    "    if file_name.endswith(\".wav\"):\n",
    "        #print(audio_loc+file_name)\n",
    "        m1=audio_metadata.load(audio_loc+file_name)"
   ]
  },
  {
   "cell_type": "code",
   "execution_count": 51,
   "metadata": {},
   "outputs": [
    {
     "data": {
      "text/plain": [
       "44100"
      ]
     },
     "execution_count": 51,
     "metadata": {},
     "output_type": "execute_result"
    }
   ],
   "source": [
    "m1['streaminfo']['bit_depth']\n",
    "m1['streaminfo']['bitrate']\n",
    "m1['streaminfo']['channels']\n",
    "m1['streaminfo']['duration']\n",
    "m1['streaminfo']['sample_rate']"
   ]
  },
  {
   "cell_type": "code",
   "execution_count": 56,
   "metadata": {},
   "outputs": [
    {
     "data": {
      "text/plain": [
       "337.36272108843536"
      ]
     },
     "execution_count": 56,
     "metadata": {},
     "output_type": "execute_result"
    }
   ],
   "source": [
    "m1['streaminfo']['duration']"
   ]
  },
  {
   "cell_type": "markdown",
   "metadata": {},
   "source": [
    "# RUN THE BELOW TWO PARAGRAPHS EVERY TIME THE DATASET IS UPDATED/ADDED TO"
   ]
  },
  {
   "cell_type": "markdown",
   "metadata": {},
   "source": [
    "# Processing the annotatated values into the easy to work with schema"
   ]
  },
  {
   "cell_type": "code",
   "execution_count": null,
   "metadata": {},
   "outputs": [],
   "source": [
    "loc='./resources/dataset/Annotations/labelled/'\n",
    "for file_name in os.listdir(loc):\n",
    "    if file_name.endswith(\".csv\"):\n",
    "        video_id=file_name[:-4]\n",
    "        df=pd.read_csv(loc+file_name,names=['sample_number','event'])\n",
    "        try:\n",
    "            df[['event','number','scream_type']]=df['event'].str.split('_',expand=True)\n",
    "            #df['number']=df['number'].astype(int)\n",
    "            #df\n",
    "            df['number']=df['number'].astype(int)\n",
    "            #df\n",
    "            df1=df.pivot('number','event',['sample_number','scream_type'])\n",
    "            df1.columns = [ '_'.join(x) for x in df1.columns ]\n",
    "            try:\n",
    "                df1=df1[['sample_number_start','sample_number_end','scream_type_start']]\n",
    "            except:\n",
    "                df1=df1[['sample_number_start','sample_number_stop','scream_type_start']]\n",
    "            df1.columns=['sample_start','sample_end','scream_type']\n",
    "            df1['video_id']=video_id\n",
    "            df1.to_csv('./resources/dataset/Annotations/processed/'+file_name,header=True, index=False,encoding='utf-8-sig')\n",
    "        except:\n",
    "            print(f\"The event field has incorrect data for {video_id}\")\n"
   ]
  },
  {
   "cell_type": "markdown",
   "metadata": {},
   "source": [
    "# Convert all sample numbers to their corresponding timestamps, based on the sample rate from the lookup table so that when resampling the annotations do not get ruined"
   ]
  },
  {
   "cell_type": "code",
   "execution_count": 37,
   "metadata": {},
   "outputs": [],
   "source": [
    "import pandas as pd\n",
    "csv_loc = './resources/dataset/Annotations/processed/'\n",
    "audio_loc = './resources/dataset/Audio/'\n",
    "output_loc = './resources/dataset/Annotations/timestamps/'\n",
    "\n",
    "lut = pd.read_csv('./resources/dataset/lookup_new.csv')\n",
    "for file_name in os.listdir(csv_loc):\n",
    "    if file_name.endswith(\".csv\"):\n",
    "        video_id=file_name[:-4]\n",
    "        df=pd.read_csv(csv_loc + file_name)\n",
    "        #tmp = df.join(lut.set_index('video_id'),on = 'video_id')\n",
    "        tmp=lut[lut['video_id'] == video_id]\n",
    "        sr = tmp['sample_rate'].iloc[0]\n",
    "        df.insert(2, 'timestamp_start', round(df['sample_start']/sr,2))\n",
    "        df.insert(3, 'timestamp_end', round(df['sample_end']/sr,2))\n",
    "        df.insert(0,'file_name',video_id+'.wav')\n",
    "        #df.insert()\n",
    "        #print(sr)\n",
    "        #print(df)\n",
    "        df.to_csv(output_loc + video_id + '.csv',header=True, index=False,encoding='utf-8-sig')\n",
    "            "
   ]
  },
  {
   "cell_type": "code",
   "execution_count": 39,
   "metadata": {},
   "outputs": [
    {
     "data": {
      "text/plain": [
       "Index(['file_name', 'sample_start', 'sample_end', 'timestamp_start',\n",
       "       'timestamp_end', 'scream_type', 'video_id'],\n",
       "      dtype='object')"
      ]
     },
     "execution_count": 39,
     "metadata": {},
     "output_type": "execute_result"
    }
   ],
   "source": [
    "df.columns"
   ]
  },
  {
   "cell_type": "markdown",
   "metadata": {},
   "source": [
    "# Combining all annotations into one file for input into KNN"
   ]
  },
  {
   "cell_type": "code",
   "execution_count": 53,
   "metadata": {},
   "outputs": [],
   "source": [
    "import pandas as pd\n",
    "csv_loc = './resources/dataset/Annotations/processed/'\n",
    "audio_loc = './resources/dataset/Audio/'\n",
    "timestamp_loc = './resources/dataset/Annotations/timestamps/'\n",
    "\n",
    "output_loc = './resources/dataset/Annotations/final/'\n",
    "df1=pd.DataFrame()\n",
    "i = 0\n",
    "for file_name in os.listdir(timestamp_loc):\n",
    "    if file_name.endswith(\".csv\"):\n",
    "        #print(file_name)\n",
    "        if i == 0:\n",
    "            df1=pd.read_csv(timestamp_loc+file_name,names=['file_name','sample_start','sample_end','timestamp_start','timestamp_end','scream_type','video_id'],header=0)\n",
    "            i=1\n",
    "        else:\n",
    "            temp=pd.read_csv(timestamp_loc+file_name,names=['file_name','sample_start','sample_end','timestamp_start','timestamp_end','scream_type','video_id'],header=0)\n",
    "            df1=pd.concat([df1,temp],axis=0,ignore_index=True)\n",
    "\n",
    "df1.to_csv(output_loc + 'annotation.csv',header=True, index=False,encoding='utf-8-sig')"
   ]
  },
  {
   "cell_type": "code",
   "execution_count": 52,
   "metadata": {},
   "outputs": [
    {
     "data": {
      "text/html": [
       "<div>\n",
       "<style scoped>\n",
       "    .dataframe tbody tr th:only-of-type {\n",
       "        vertical-align: middle;\n",
       "    }\n",
       "\n",
       "    .dataframe tbody tr th {\n",
       "        vertical-align: top;\n",
       "    }\n",
       "\n",
       "    .dataframe thead th {\n",
       "        text-align: right;\n",
       "    }\n",
       "</style>\n",
       "<table border=\"1\" class=\"dataframe\">\n",
       "  <thead>\n",
       "    <tr style=\"text-align: right;\">\n",
       "      <th></th>\n",
       "      <th>file_name</th>\n",
       "      <th>sample_start</th>\n",
       "      <th>sample_end</th>\n",
       "      <th>timestamp_start</th>\n",
       "      <th>timestamp_end</th>\n",
       "      <th>scream_type</th>\n",
       "      <th>video_id</th>\n",
       "    </tr>\n",
       "  </thead>\n",
       "  <tbody>\n",
       "    <tr>\n",
       "      <th>0</th>\n",
       "      <td>4600fGWcn9o.wav</td>\n",
       "      <td>1579017</td>\n",
       "      <td>1999183.0</td>\n",
       "      <td>35.81</td>\n",
       "      <td>45.33</td>\n",
       "      <td>midfry</td>\n",
       "      <td>4600fGWcn9o</td>\n",
       "    </tr>\n",
       "    <tr>\n",
       "      <th>1</th>\n",
       "      <td>4600fGWcn9o.wav</td>\n",
       "      <td>2020012</td>\n",
       "      <td>2152867.0</td>\n",
       "      <td>45.81</td>\n",
       "      <td>48.82</td>\n",
       "      <td>midfry</td>\n",
       "      <td>4600fGWcn9o</td>\n",
       "    </tr>\n",
       "    <tr>\n",
       "      <th>2</th>\n",
       "      <td>4600fGWcn9o.wav</td>\n",
       "      <td>2161887</td>\n",
       "      <td>2486176.0</td>\n",
       "      <td>49.02</td>\n",
       "      <td>56.38</td>\n",
       "      <td>midfry</td>\n",
       "      <td>4600fGWcn9o</td>\n",
       "    </tr>\n",
       "    <tr>\n",
       "      <th>3</th>\n",
       "      <td>4600fGWcn9o.wav</td>\n",
       "      <td>2488192</td>\n",
       "      <td>2795520.0</td>\n",
       "      <td>56.42</td>\n",
       "      <td>63.39</td>\n",
       "      <td>clean</td>\n",
       "      <td>4600fGWcn9o</td>\n",
       "    </tr>\n",
       "    <tr>\n",
       "      <th>4</th>\n",
       "      <td>4600fGWcn9o.wav</td>\n",
       "      <td>2797600</td>\n",
       "      <td>3030794.0</td>\n",
       "      <td>63.44</td>\n",
       "      <td>68.73</td>\n",
       "      <td>midfry</td>\n",
       "      <td>4600fGWcn9o</td>\n",
       "    </tr>\n",
       "    <tr>\n",
       "      <th>...</th>\n",
       "      <td>...</td>\n",
       "      <td>...</td>\n",
       "      <td>...</td>\n",
       "      <td>...</td>\n",
       "      <td>...</td>\n",
       "      <td>...</td>\n",
       "      <td>...</td>\n",
       "    </tr>\n",
       "    <tr>\n",
       "      <th>1570</th>\n",
       "      <td>0m5fIHHfJTw.wav</td>\n",
       "      <td>6819456</td>\n",
       "      <td>6915072.0</td>\n",
       "      <td>154.64</td>\n",
       "      <td>156.80</td>\n",
       "      <td>midfry</td>\n",
       "      <td>0m5fIHHfJTw</td>\n",
       "    </tr>\n",
       "    <tr>\n",
       "      <th>1571</th>\n",
       "      <td>0m5fIHHfJTw.wav</td>\n",
       "      <td>7056672</td>\n",
       "      <td>7172928.0</td>\n",
       "      <td>160.02</td>\n",
       "      <td>162.65</td>\n",
       "      <td>midfry</td>\n",
       "      <td>0m5fIHHfJTw</td>\n",
       "    </tr>\n",
       "    <tr>\n",
       "      <th>1572</th>\n",
       "      <td>0m5fIHHfJTw.wav</td>\n",
       "      <td>7264704</td>\n",
       "      <td>7286880.0</td>\n",
       "      <td>164.73</td>\n",
       "      <td>165.24</td>\n",
       "      <td>midfry</td>\n",
       "      <td>0m5fIHHfJTw</td>\n",
       "    </tr>\n",
       "    <tr>\n",
       "      <th>1573</th>\n",
       "      <td>0m5fIHHfJTw.wav</td>\n",
       "      <td>7789376</td>\n",
       "      <td>8205120.0</td>\n",
       "      <td>176.63</td>\n",
       "      <td>186.06</td>\n",
       "      <td>midfry</td>\n",
       "      <td>0m5fIHHfJTw</td>\n",
       "    </tr>\n",
       "    <tr>\n",
       "      <th>1574</th>\n",
       "      <td>0m5fIHHfJTw.wav</td>\n",
       "      <td>8223488</td>\n",
       "      <td>8530272.0</td>\n",
       "      <td>186.47</td>\n",
       "      <td>193.43</td>\n",
       "      <td>midfry</td>\n",
       "      <td>0m5fIHHfJTw</td>\n",
       "    </tr>\n",
       "  </tbody>\n",
       "</table>\n",
       "<p>1575 rows × 7 columns</p>\n",
       "</div>"
      ],
      "text/plain": [
       "            file_name  sample_start  sample_end  timestamp_start  \\\n",
       "0     4600fGWcn9o.wav       1579017   1999183.0            35.81   \n",
       "1     4600fGWcn9o.wav       2020012   2152867.0            45.81   \n",
       "2     4600fGWcn9o.wav       2161887   2486176.0            49.02   \n",
       "3     4600fGWcn9o.wav       2488192   2795520.0            56.42   \n",
       "4     4600fGWcn9o.wav       2797600   3030794.0            63.44   \n",
       "...               ...           ...         ...              ...   \n",
       "1570  0m5fIHHfJTw.wav       6819456   6915072.0           154.64   \n",
       "1571  0m5fIHHfJTw.wav       7056672   7172928.0           160.02   \n",
       "1572  0m5fIHHfJTw.wav       7264704   7286880.0           164.73   \n",
       "1573  0m5fIHHfJTw.wav       7789376   8205120.0           176.63   \n",
       "1574  0m5fIHHfJTw.wav       8223488   8530272.0           186.47   \n",
       "\n",
       "      timestamp_end scream_type     video_id  \n",
       "0             45.33      midfry  4600fGWcn9o  \n",
       "1             48.82      midfry  4600fGWcn9o  \n",
       "2             56.38      midfry  4600fGWcn9o  \n",
       "3             63.39       clean  4600fGWcn9o  \n",
       "4             68.73      midfry  4600fGWcn9o  \n",
       "...             ...         ...          ...  \n",
       "1570         156.80      midfry  0m5fIHHfJTw  \n",
       "1571         162.65      midfry  0m5fIHHfJTw  \n",
       "1572         165.24      midfry  0m5fIHHfJTw  \n",
       "1573         186.06      midfry  0m5fIHHfJTw  \n",
       "1574         193.43      midfry  0m5fIHHfJTw  \n",
       "\n",
       "[1575 rows x 7 columns]"
      ]
     },
     "execution_count": 52,
     "metadata": {},
     "output_type": "execute_result"
    }
   ],
   "source": [
    "df1"
   ]
  },
  {
   "cell_type": "code",
   "execution_count": null,
   "metadata": {},
   "outputs": [],
   "source": []
  }
 ],
 "metadata": {
  "interpreter": {
   "hash": "aee8b7b246df8f9039afb4144a1f6fd8d2ca17a180786b69acc140d282b71a49"
  },
  "kernelspec": {
   "display_name": "Python 3.9.7 64-bit",
   "name": "python3"
  },
  "language_info": {
   "codemirror_mode": {
    "name": "ipython",
    "version": 3
   },
   "file_extension": ".py",
   "mimetype": "text/x-python",
   "name": "python",
   "nbconvert_exporter": "python",
   "pygments_lexer": "ipython3",
   "version": "3.9.6"
  },
  "orig_nbformat": 4
 },
 "nbformat": 4,
 "nbformat_minor": 2
}
